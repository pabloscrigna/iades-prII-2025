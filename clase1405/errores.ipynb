{
  "nbformat": 4,
  "nbformat_minor": 0,
  "metadata": {
    "colab": {
      "provenance": []
    },
    "kernelspec": {
      "name": "python3",
      "display_name": "Python 3"
    },
    "language_info": {
      "name": "python"
    }
  },
  "cells": [
    {
      "cell_type": "markdown",
      "source": [
        "Excepciones y Errores"
      ],
      "metadata": {
        "id": "n8TaAUoXIrE8"
      }
    },
    {
      "cell_type": "code",
      "source": [
        "numero = int(input(\"Ingrese un numero: \"))\n",
        "\n",
        "\n",
        "print(numero)\n",
        "\n",
        "\n",
        "\n"
      ],
      "metadata": {
        "colab": {
          "base_uri": "https://localhost:8080/",
          "height": 228
        },
        "id": "jlAc7RX_IokT",
        "outputId": "a8470053-9e6a-41e3-99b5-5be5902fb4a9"
      },
      "execution_count": null,
      "outputs": [
        {
          "name": "stdout",
          "output_type": "stream",
          "text": [
            "Ingrese un numero: a\n"
          ]
        },
        {
          "output_type": "error",
          "ename": "ValueError",
          "evalue": "invalid literal for int() with base 10: 'a'",
          "traceback": [
            "\u001b[0;31m---------------------------------------------------------------------------\u001b[0m",
            "\u001b[0;31mValueError\u001b[0m                                Traceback (most recent call last)",
            "\u001b[0;32m<ipython-input-3-c9a185d62ddc>\u001b[0m in \u001b[0;36m<cell line: 0>\u001b[0;34m()\u001b[0m\n\u001b[0;32m----> 1\u001b[0;31m \u001b[0mnumero\u001b[0m \u001b[0;34m=\u001b[0m \u001b[0mint\u001b[0m\u001b[0;34m(\u001b[0m\u001b[0minput\u001b[0m\u001b[0;34m(\u001b[0m\u001b[0;34m\"Ingrese un numero: \"\u001b[0m\u001b[0;34m)\u001b[0m\u001b[0;34m)\u001b[0m\u001b[0;34m\u001b[0m\u001b[0;34m\u001b[0m\u001b[0m\n\u001b[0m\u001b[1;32m      2\u001b[0m \u001b[0;34m\u001b[0m\u001b[0m\n\u001b[1;32m      3\u001b[0m \u001b[0;34m\u001b[0m\u001b[0m\n\u001b[1;32m      4\u001b[0m \u001b[0mprint\u001b[0m\u001b[0;34m(\u001b[0m\u001b[0mnumero\u001b[0m\u001b[0;34m)\u001b[0m\u001b[0;34m\u001b[0m\u001b[0;34m\u001b[0m\u001b[0m\n\u001b[1;32m      5\u001b[0m \u001b[0;34m\u001b[0m\u001b[0m\n",
            "\u001b[0;31mValueError\u001b[0m: invalid literal for int() with base 10: 'a'"
          ]
        }
      ]
    },
    {
      "cell_type": "code",
      "source": [
        "nombre = input(\"Ingrese su nombre\")\n",
        "\n",
        "print(f\"Su nombre es {nombre}\")"
      ],
      "metadata": {
        "colab": {
          "base_uri": "https://localhost:8080/"
        },
        "id": "XD-Ez7B7Hnfy",
        "outputId": "2dad4660-405c-46df-b447-65253756545c"
      },
      "execution_count": null,
      "outputs": [
        {
          "output_type": "stream",
          "name": "stdout",
          "text": [
            "Ingrese su nombreyui\n",
            "Su nombre es yui\n"
          ]
        }
      ]
    },
    {
      "cell_type": "markdown",
      "source": [
        "try-except"
      ],
      "metadata": {
        "id": "yoRp6WMNWQiL"
      }
    },
    {
      "cell_type": "markdown",
      "source": [
        "```\n",
        "try:\n",
        "  Bloque de codigo\n",
        "except:\n",
        "  Bloque de codigo\n",
        "```"
      ],
      "metadata": {
        "id": "F5s9ubyCWTYD"
      }
    },
    {
      "cell_type": "code",
      "source": [
        "numero1 = 23\n",
        "numero2 = 40"
      ],
      "metadata": {
        "id": "AApxAD3vKL8A"
      },
      "execution_count": null,
      "outputs": []
    },
    {
      "cell_type": "code",
      "source": [
        "try:\n",
        "  print(\"Antes de dividir\")\n",
        "  print(\"resultado de la division: \", numero1 / numero2)\n",
        "  print(\"Despues de dividir\")\n",
        "except:\n",
        "  print(\"No se puede dividir por 0\")"
      ],
      "metadata": {
        "colab": {
          "base_uri": "https://localhost:8080/"
        },
        "id": "DgxnfJsqXRmd",
        "outputId": "01d50cb4-dac7-418e-bd8a-93dedffa9b62"
      },
      "execution_count": null,
      "outputs": [
        {
          "output_type": "stream",
          "name": "stdout",
          "text": [
            "Antes de dividir\n",
            "resultado de la division:  0.575\n",
            "Despues de dividir\n"
          ]
        }
      ]
    },
    {
      "cell_type": "markdown",
      "source": [
        "Que excepciones mas comunes hay?"
      ],
      "metadata": {
        "id": "I2gcbP6U7lPy"
      }
    },
    {
      "cell_type": "code",
      "source": [
        "56/0"
      ],
      "metadata": {
        "id": "h3OoWkH_X6DY",
        "colab": {
          "base_uri": "https://localhost:8080/",
          "height": 141
        },
        "outputId": "7016605f-fa1f-46b6-9f56-9555ce328784"
      },
      "execution_count": null,
      "outputs": [
        {
          "output_type": "error",
          "ename": "ZeroDivisionError",
          "evalue": "division by zero",
          "traceback": [
            "\u001b[0;31m---------------------------------------------------------------------------\u001b[0m",
            "\u001b[0;31mZeroDivisionError\u001b[0m                         Traceback (most recent call last)",
            "\u001b[0;32m<ipython-input-9-2e3bde6d3278>\u001b[0m in \u001b[0;36m<cell line: 0>\u001b[0;34m()\u001b[0m\n\u001b[0;32m----> 1\u001b[0;31m \u001b[0;36m56\u001b[0m\u001b[0;34m/\u001b[0m\u001b[0;36m0\u001b[0m\u001b[0;34m\u001b[0m\u001b[0;34m\u001b[0m\u001b[0m\n\u001b[0m",
            "\u001b[0;31mZeroDivisionError\u001b[0m: division by zero"
          ]
        }
      ]
    },
    {
      "cell_type": "code",
      "source": [
        "lista = []\n",
        "\n",
        "lista.pop()"
      ],
      "metadata": {
        "colab": {
          "base_uri": "https://localhost:8080/",
          "height": 176
        },
        "id": "Xc6xy90z7qQd",
        "outputId": "b9bfd5d9-2278-4770-d7e7-56e0f80834fe"
      },
      "execution_count": null,
      "outputs": [
        {
          "output_type": "error",
          "ename": "IndexError",
          "evalue": "pop from empty list",
          "traceback": [
            "\u001b[0;31m---------------------------------------------------------------------------\u001b[0m",
            "\u001b[0;31mIndexError\u001b[0m                                Traceback (most recent call last)",
            "\u001b[0;32m<ipython-input-10-2bb7af0c9754>\u001b[0m in \u001b[0;36m<cell line: 0>\u001b[0;34m()\u001b[0m\n\u001b[1;32m      1\u001b[0m \u001b[0mlista\u001b[0m \u001b[0;34m=\u001b[0m \u001b[0;34m[\u001b[0m\u001b[0;34m]\u001b[0m\u001b[0;34m\u001b[0m\u001b[0;34m\u001b[0m\u001b[0m\n\u001b[1;32m      2\u001b[0m \u001b[0;34m\u001b[0m\u001b[0m\n\u001b[0;32m----> 3\u001b[0;31m \u001b[0mlista\u001b[0m\u001b[0;34m.\u001b[0m\u001b[0mpop\u001b[0m\u001b[0;34m(\u001b[0m\u001b[0;34m)\u001b[0m\u001b[0;34m\u001b[0m\u001b[0;34m\u001b[0m\u001b[0m\n\u001b[0m",
            "\u001b[0;31mIndexError\u001b[0m: pop from empty list"
          ]
        }
      ]
    },
    {
      "cell_type": "code",
      "source": [
        "frase = \"hola\"\n",
        "\n",
        "frase[45]"
      ],
      "metadata": {
        "colab": {
          "base_uri": "https://localhost:8080/",
          "height": 176
        },
        "id": "xoi_Wzfl7trZ",
        "outputId": "e6fe7f37-b173-4611-fc9e-4b225a798a8f"
      },
      "execution_count": null,
      "outputs": [
        {
          "output_type": "error",
          "ename": "IndexError",
          "evalue": "string index out of range",
          "traceback": [
            "\u001b[0;31m---------------------------------------------------------------------------\u001b[0m",
            "\u001b[0;31mIndexError\u001b[0m                                Traceback (most recent call last)",
            "\u001b[0;32m<ipython-input-11-f632aa96a6eb>\u001b[0m in \u001b[0;36m<cell line: 0>\u001b[0;34m()\u001b[0m\n\u001b[1;32m      1\u001b[0m \u001b[0mfrase\u001b[0m \u001b[0;34m=\u001b[0m \u001b[0;34m\"hola\"\u001b[0m\u001b[0;34m\u001b[0m\u001b[0;34m\u001b[0m\u001b[0m\n\u001b[1;32m      2\u001b[0m \u001b[0;34m\u001b[0m\u001b[0m\n\u001b[0;32m----> 3\u001b[0;31m \u001b[0mfrase\u001b[0m\u001b[0;34m[\u001b[0m\u001b[0;36m45\u001b[0m\u001b[0;34m]\u001b[0m\u001b[0;34m\u001b[0m\u001b[0;34m\u001b[0m\u001b[0m\n\u001b[0m",
            "\u001b[0;31mIndexError\u001b[0m: string index out of range"
          ]
        }
      ]
    },
    {
      "cell_type": "markdown",
      "source": [
        "try-except para excepciones especificas"
      ],
      "metadata": {
        "id": "o5VkFVPZ78fj"
      }
    },
    {
      "cell_type": "code",
      "source": [
        "try:\n",
        "  numero1 = int(input(\"Ingrese un numero: \"))\n",
        "  numero2 = int(input(\"Ingrese otro numero: \"))\n",
        "  print(\"Antes de dividir\")\n",
        "  print(\"resultado de la division: \", numero1 / numero2)\n",
        "  print(\"Despues de dividir\")\n",
        "except ZeroDivisionError:\n",
        "  print(\"No se puede dividir por 0\")\n",
        "except ValueError:\n",
        "  print(\"Debes ingresar un numero\")"
      ],
      "metadata": {
        "colab": {
          "base_uri": "https://localhost:8080/"
        },
        "id": "5mfCMnYq72ib",
        "outputId": "5e88ac40-765e-4bbf-8354-304ed0552663"
      },
      "execution_count": null,
      "outputs": [
        {
          "output_type": "stream",
          "name": "stdout",
          "text": [
            "Ingrese un numero: 67\n",
            "Ingrese otro numero: 34\n",
            "Antes de dividir\n",
            "resultado de la division:  1.9705882352941178\n",
            "Despues de dividir\n"
          ]
        }
      ]
    },
    {
      "cell_type": "code",
      "source": [
        "try:\n",
        "  numero1 = int(input(\"Ingrese un numero: \"))\n",
        "  numero2 = int(input(\"Ingrese otro numero: \"))\n",
        "  print(\"Antes de dividir\")\n",
        "  print(\"resultado de la division: \", numero1 / numero2)\n",
        "  print(\"Despues de dividir\")\n",
        "except (ZeroDivisionError, ValueError):\n",
        "  print(\"Ha ocurrido un error\")\n"
      ],
      "metadata": {
        "colab": {
          "base_uri": "https://localhost:8080/"
        },
        "id": "axvMHC3U9wT7",
        "outputId": "98eb9ce9-2400-4bd5-9a51-fab6bb9a37a3"
      },
      "execution_count": null,
      "outputs": [
        {
          "output_type": "stream",
          "name": "stdout",
          "text": [
            "Ingrese un numero: 89\n",
            "Ingrese otro numero: 0\n",
            "Antes de dividir\n",
            "Ha ocurrido un error\n"
          ]
        }
      ]
    },
    {
      "cell_type": "code",
      "source": [
        "try:\n",
        "  numero1 = int(input(\"Ingrese un numero: \"))\n",
        "  numero2 = int(input(\"Ingrese otro numero: \"))\n",
        "  print(\"Antes de dividir\")\n",
        "  print(\"resultado de la division: \", numero1 / numero2)\n",
        "  print(\"Despues de dividir\")\n",
        "except Exception as e:\n",
        "  print(f\"Ha ocurrido un error.... {type(e).__name__}\")"
      ],
      "metadata": {
        "colab": {
          "base_uri": "https://localhost:8080/"
        },
        "id": "ZmYEk4aq-HjN",
        "outputId": "36636ddc-01f3-488d-c900-c24a0aee3b56"
      },
      "execution_count": null,
      "outputs": [
        {
          "output_type": "stream",
          "name": "stdout",
          "text": [
            "Ingrese un numero: yutryu\n",
            "Ha ocurrido un error.... ValueError\n"
          ]
        }
      ]
    },
    {
      "cell_type": "markdown",
      "source": [
        "try-except-else"
      ],
      "metadata": {
        "id": "S7WKJcm99e1L"
      }
    },
    {
      "cell_type": "code",
      "source": [
        "numero1 = 10\n",
        "numero2 = 0\n",
        "\n",
        "try:\n",
        "  resultado = numero1 / numero2\n",
        "except ZeroDivisionError:\n",
        "  print(\"No se puede dividir por 0\")\n",
        "else:\n",
        "  print(\"El resultado es: \", resultado)\n",
        "\n",
        "\n",
        "print(\"Continua el programa.....\")"
      ],
      "metadata": {
        "colab": {
          "base_uri": "https://localhost:8080/"
        },
        "id": "9nxQPm9R8Spy",
        "outputId": "fe97313d-5d2e-4fb8-b52e-3b56e9dccc59"
      },
      "execution_count": null,
      "outputs": [
        {
          "output_type": "stream",
          "name": "stdout",
          "text": [
            "No se puede dividir por 0\n",
            "Continua el programa.....\n"
          ]
        }
      ]
    },
    {
      "cell_type": "markdown",
      "source": [
        "try-except-else-finaly"
      ],
      "metadata": {
        "id": "5tAw-WduAQZs"
      }
    },
    {
      "cell_type": "code",
      "source": [
        "numero1 = 10\n",
        "numero2 = 10\n",
        "\n",
        "try:\n",
        "  resultado = numero1 / numero2\n",
        "except ZeroDivisionError:\n",
        "  print(\"No se puede dividir por 0\")\n",
        "else:\n",
        "  print(\"El resultado es: \", resultado)\n",
        "finally:\n",
        "    print(\"Se ejecuta el bloque finally\")\n",
        "\n",
        "print(\"Continua el programa.....\")"
      ],
      "metadata": {
        "colab": {
          "base_uri": "https://localhost:8080/"
        },
        "id": "muUHYE6FAEH9",
        "outputId": "c90f1d3d-5c97-48de-d7a3-85aa3f0865e9"
      },
      "execution_count": null,
      "outputs": [
        {
          "output_type": "stream",
          "name": "stdout",
          "text": [
            "El resultado es:  1.0\n",
            "Se ejecuta el bloque finally\n",
            "Continua el programa.....\n"
          ]
        }
      ]
    },
    {
      "cell_type": "code",
      "source": [
        "try:\n",
        "  connect_db = \"string de conexionb a la db\"\n",
        "except Exception as e:\n",
        "  print(f\"Ha ocurrido un error.... {type(e).__name__}\")\n",
        "else\n",
        "  print(\"Hace lo que tengas que hacer con la base de datos\")\n",
        "finally:\n",
        "    print(\"Cerrar la conexion a la base de datos\")\n",
        "\n",
        "print(\"Continua el programa.....\")"
      ],
      "metadata": {
        "id": "F3QCNUBVBBsK"
      },
      "execution_count": null,
      "outputs": []
    },
    {
      "cell_type": "markdown",
      "source": [
        "ojo ojo oj....\n",
        "\n",
        "\n"
      ],
      "metadata": {
        "id": "y4Fy1DgyCIWY"
      }
    },
    {
      "cell_type": "code",
      "source": [
        "# como evitar el ZeroDivision Error\n",
        "\n",
        "if numero2:\n",
        "  resultado = numero1 / numero2\n"
      ],
      "metadata": {
        "id": "UsQOSQgUCOXy"
      },
      "execution_count": null,
      "outputs": []
    },
    {
      "cell_type": "code",
      "source": [
        "lista = []\n",
        "\n",
        "if lista:\n",
        "  print(lista.pop())"
      ],
      "metadata": {
        "colab": {
          "base_uri": "https://localhost:8080/",
          "height": 141
        },
        "id": "u5MwP_bVDkwM",
        "outputId": "d2af2453-6484-4f93-9c82-bf24de838de5"
      },
      "execution_count": null,
      "outputs": [
        {
          "output_type": "error",
          "ename": "IndexError",
          "evalue": "pop from empty list",
          "traceback": [
            "\u001b[0;31m---------------------------------------------------------------------------\u001b[0m",
            "\u001b[0;31mIndexError\u001b[0m                                Traceback (most recent call last)",
            "\u001b[0;32m<ipython-input-37-47d711ddf6f1>\u001b[0m in \u001b[0;36m<cell line: 0>\u001b[0;34m()\u001b[0m\n\u001b[0;32m----> 1\u001b[0;31m \u001b[0;34m[\u001b[0m\u001b[0;34m]\u001b[0m\u001b[0;34m.\u001b[0m\u001b[0mpop\u001b[0m\u001b[0;34m(\u001b[0m\u001b[0;34m)\u001b[0m\u001b[0;34m\u001b[0m\u001b[0;34m\u001b[0m\u001b[0m\n\u001b[0m",
            "\u001b[0;31mIndexError\u001b[0m: pop from empty list"
          ]
        }
      ]
    },
    {
      "cell_type": "markdown",
      "source": [
        "vamos a ver la libreria requests"
      ],
      "metadata": {
        "id": "5YiziH0nCv6O"
      }
    },
    {
      "cell_type": "code",
      "source": [
        "import requests"
      ],
      "metadata": {
        "id": "ShZ6zXV8C0eG"
      },
      "execution_count": null,
      "outputs": []
    },
    {
      "cell_type": "code",
      "source": [
        "respuesta = requests.get(\"https://jsonplaceholder.typicode.com/users/1\")"
      ],
      "metadata": {
        "id": "uJm2VhvBC5FH"
      },
      "execution_count": null,
      "outputs": []
    },
    {
      "cell_type": "code",
      "source": [
        "respuesta.status_code"
      ],
      "metadata": {
        "colab": {
          "base_uri": "https://localhost:8080/"
        },
        "id": "SIj7Q3NmECRk",
        "outputId": "c1b1d94a-87e6-41bf-c694-ae1d50ae2b1c"
      },
      "execution_count": null,
      "outputs": [
        {
          "output_type": "execute_result",
          "data": {
            "text/plain": [
              "200"
            ]
          },
          "metadata": {},
          "execution_count": 39
        }
      ]
    },
    {
      "cell_type": "code",
      "source": [
        "respuesta.json()"
      ],
      "metadata": {
        "colab": {
          "base_uri": "https://localhost:8080/"
        },
        "id": "cW7NDa07EFuE",
        "outputId": "eeceae58-4b9c-4994-997c-b66cad1469f2"
      },
      "execution_count": null,
      "outputs": [
        {
          "output_type": "execute_result",
          "data": {
            "text/plain": [
              "{'id': 1,\n",
              " 'name': 'Leanne Graham',\n",
              " 'username': 'Bret',\n",
              " 'email': 'Sincere@april.biz',\n",
              " 'address': {'street': 'Kulas Light',\n",
              "  'suite': 'Apt. 556',\n",
              "  'city': 'Gwenborough',\n",
              "  'zipcode': '92998-3874',\n",
              "  'geo': {'lat': '-37.3159', 'lng': '81.1496'}},\n",
              " 'phone': '1-770-736-8031 x56442',\n",
              " 'website': 'hildegard.org',\n",
              " 'company': {'name': 'Romaguera-Crona',\n",
              "  'catchPhrase': 'Multi-layered client-server neural-net',\n",
              "  'bs': 'harness real-time e-markets'}}"
            ]
          },
          "metadata": {},
          "execution_count": 40
        }
      ]
    },
    {
      "cell_type": "code",
      "source": [
        "try:\n",
        "  respuesta = requests.get(\"https://jsonplaceholder.typicode.com/users/2\")\n",
        "  print(\"status code: \", respuesta.status_code)\n",
        "  print(respuesta.json())\n",
        "except Exception as e:\n",
        "  print(f\"Ha ocurrido un error.... {type(e).__name__}\")"
      ],
      "metadata": {
        "colab": {
          "base_uri": "https://localhost:8080/"
        },
        "id": "A2yOEukQEKOE",
        "outputId": "e580ce57-fe43-47a1-9bfd-423975b5d17e"
      },
      "execution_count": null,
      "outputs": [
        {
          "output_type": "stream",
          "name": "stdout",
          "text": [
            "status code:  200\n",
            "{'id': 2, 'name': 'Ervin Howell', 'username': 'Antonette', 'email': 'Shanna@melissa.tv', 'address': {'street': 'Victor Plains', 'suite': 'Suite 879', 'city': 'Wisokyburgh', 'zipcode': '90566-7771', 'geo': {'lat': '-43.9509', 'lng': '-34.4618'}}, 'phone': '010-692-6593 x09125', 'website': 'anastasia.net', 'company': {'name': 'Deckow-Crist', 'catchPhrase': 'Proactive didactic contingency', 'bs': 'synergize scalable supply-chains'}}\n"
          ]
        }
      ]
    },
    {
      "cell_type": "markdown",
      "source": [
        "Lanzar una excepcion"
      ],
      "metadata": {
        "id": "ak4pmxXWFwpL"
      }
    },
    {
      "cell_type": "code",
      "source": [
        "raise Exception(\"Ha ocurrido un error\")"
      ],
      "metadata": {
        "colab": {
          "base_uri": "https://localhost:8080/",
          "height": 141
        },
        "id": "Vx3p68dZEhPz",
        "outputId": "f88a78b6-d5d9-4e30-c395-eadd9002b06f"
      },
      "execution_count": null,
      "outputs": [
        {
          "output_type": "error",
          "ename": "Exception",
          "evalue": "Ha ocurrido un error",
          "traceback": [
            "\u001b[0;31m---------------------------------------------------------------------------\u001b[0m",
            "\u001b[0;31mException\u001b[0m                                 Traceback (most recent call last)",
            "\u001b[0;32m<ipython-input-55-c4dcd62e204b>\u001b[0m in \u001b[0;36m<cell line: 0>\u001b[0;34m()\u001b[0m\n\u001b[0;32m----> 1\u001b[0;31m \u001b[0;32mraise\u001b[0m \u001b[0mException\u001b[0m\u001b[0;34m(\u001b[0m\u001b[0;34m\"Ha ocurrido un error\"\u001b[0m\u001b[0;34m)\u001b[0m\u001b[0;34m\u001b[0m\u001b[0;34m\u001b[0m\u001b[0m\n\u001b[0m",
            "\u001b[0;31mException\u001b[0m: Ha ocurrido un error"
          ]
        }
      ]
    },
    {
      "cell_type": "code",
      "source": [
        "# sacar un elemento de una lista\n",
        "lista = [1]\n",
        "if lista:\n",
        "  print(lista.pop())\n",
        "else:\n",
        "  raise Exception(\"La lista esta vacia\")\n",
        "\n",
        "print(\"Continua\")\n"
      ],
      "metadata": {
        "colab": {
          "base_uri": "https://localhost:8080/"
        },
        "id": "vBN6r2bxF3Yx",
        "outputId": "fa88b96f-c679-4349-86a5-dd8095805c07"
      },
      "execution_count": null,
      "outputs": [
        {
          "output_type": "stream",
          "name": "stdout",
          "text": [
            "1\n",
            "Continua\n"
          ]
        }
      ]
    },
    {
      "cell_type": "code",
      "source": [
        "lista = []\n",
        "if lista:\n",
        "  print(lista.pop())\n",
        "else:\n",
        "  raise Exception(\"La lista esta vacia\")\n",
        "\n",
        "print(\"Continua\")"
      ],
      "metadata": {
        "colab": {
          "base_uri": "https://localhost:8080/",
          "height": 211
        },
        "id": "9EUdL6FGGLNS",
        "outputId": "27c61c10-2781-4c17-b606-de7bba748ea8"
      },
      "execution_count": null,
      "outputs": [
        {
          "output_type": "error",
          "ename": "Exception",
          "evalue": "La lista esta vacia",
          "traceback": [
            "\u001b[0;31m---------------------------------------------------------------------------\u001b[0m",
            "\u001b[0;31mException\u001b[0m                                 Traceback (most recent call last)",
            "\u001b[0;32m<ipython-input-57-203f7b065638>\u001b[0m in \u001b[0;36m<cell line: 0>\u001b[0;34m()\u001b[0m\n\u001b[1;32m      3\u001b[0m   \u001b[0mprint\u001b[0m\u001b[0;34m(\u001b[0m\u001b[0mlista\u001b[0m\u001b[0;34m.\u001b[0m\u001b[0mpop\u001b[0m\u001b[0;34m(\u001b[0m\u001b[0;34m)\u001b[0m\u001b[0;34m)\u001b[0m\u001b[0;34m\u001b[0m\u001b[0;34m\u001b[0m\u001b[0m\n\u001b[1;32m      4\u001b[0m \u001b[0;32melse\u001b[0m\u001b[0;34m:\u001b[0m\u001b[0;34m\u001b[0m\u001b[0;34m\u001b[0m\u001b[0m\n\u001b[0;32m----> 5\u001b[0;31m   \u001b[0;32mraise\u001b[0m \u001b[0mException\u001b[0m\u001b[0;34m(\u001b[0m\u001b[0;34m\"La lista esta vacia\"\u001b[0m\u001b[0;34m)\u001b[0m\u001b[0;34m\u001b[0m\u001b[0;34m\u001b[0m\u001b[0m\n\u001b[0m\u001b[1;32m      6\u001b[0m \u001b[0;34m\u001b[0m\u001b[0m\n\u001b[1;32m      7\u001b[0m \u001b[0mprint\u001b[0m\u001b[0;34m(\u001b[0m\u001b[0;34m\"Continua\"\u001b[0m\u001b[0;34m)\u001b[0m\u001b[0;34m\u001b[0m\u001b[0;34m\u001b[0m\u001b[0m\n",
            "\u001b[0;31mException\u001b[0m: La lista esta vacia"
          ]
        }
      ]
    },
    {
      "cell_type": "code",
      "source": [
        "def leer_web():\n",
        "\n",
        "  respuesta = requests.get(\"https://jsonplaceholder.typicode.com/users/3\")\n",
        "\n",
        "  if respuesta.status_code == 404:\n",
        "    raise ValueError(\"No se encontro el usuario\")\n",
        "\n",
        "  return respuesta.json()"
      ],
      "metadata": {
        "id": "Px1xm77DGN0R"
      },
      "execution_count": null,
      "outputs": []
    },
    {
      "cell_type": "code",
      "source": [
        "try:\n",
        "  usuario = leer_web()\n",
        "  print(usuario)\n",
        "except ValueError:\n",
        "  print(\"No se encontro el usuario\")"
      ],
      "metadata": {
        "colab": {
          "base_uri": "https://localhost:8080/"
        },
        "id": "JST9iJ5-GnWy",
        "outputId": "95da1439-d95c-49f9-d6e7-f433c180c546"
      },
      "execution_count": null,
      "outputs": [
        {
          "output_type": "stream",
          "name": "stdout",
          "text": [
            "{'id': 3, 'name': 'Clementine Bauch', 'username': 'Samantha', 'email': 'Nathan@yesenia.net', 'address': {'street': 'Douglas Extension', 'suite': 'Suite 847', 'city': 'McKenziehaven', 'zipcode': '59590-4157', 'geo': {'lat': '-68.6102', 'lng': '-47.0653'}}, 'phone': '1-463-123-4447', 'website': 'ramiro.info', 'company': {'name': 'Romaguera-Jacobson', 'catchPhrase': 'Face to face bifurcated interface', 'bs': 'e-enable strategic applications'}}\n"
          ]
        }
      ]
    },
    {
      "cell_type": "code",
      "source": [],
      "metadata": {
        "id": "FTm2-r-GIFZD"
      },
      "execution_count": null,
      "outputs": []
    },
    {
      "cell_type": "code",
      "source": [
        "def leer_web(user):\n",
        "\n",
        "  respuesta = requests.get(f\"https://jsonplaceholder.typicode.com/users/{user}\")\n",
        "\n",
        "  if respuesta.status_code == 404:\n",
        "    raise ValueError(\"No se encontro el usuario\")\n",
        "\n",
        "  return respuesta.json()"
      ],
      "metadata": {
        "id": "9AzykwtoIbSk"
      },
      "execution_count": null,
      "outputs": []
    },
    {
      "cell_type": "code",
      "source": [
        "try:\n",
        "  usuario = leer_web(70000)\n",
        "  print(usuario)\n",
        "except ValueError:\n",
        "  print(\"No se encontro el usuario\")"
      ],
      "metadata": {
        "colab": {
          "base_uri": "https://localhost:8080/"
        },
        "id": "GSStbjzjIfpK",
        "outputId": "422ded28-18b8-4ac0-bc94-5daa45209757"
      },
      "execution_count": null,
      "outputs": [
        {
          "output_type": "stream",
          "name": "stdout",
          "text": [
            "No se encontro el usuario\n"
          ]
        }
      ]
    },
    {
      "cell_type": "markdown",
      "source": [],
      "metadata": {
        "id": "vG00xdI3KVrd"
      }
    }
  ]
}