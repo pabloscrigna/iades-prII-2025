{
  "nbformat": 4,
  "nbformat_minor": 0,
  "metadata": {
    "colab": {
      "provenance": []
    },
    "kernelspec": {
      "name": "python3",
      "display_name": "Python 3"
    },
    "language_info": {
      "name": "python"
    }
  },
  "cells": [
    {
      "cell_type": "markdown",
      "source": [
        "Supongamos que tenemos una lista de numeros y queremos elevar los numeros al cuadrado"
      ],
      "metadata": {
        "id": "Er0IkCCATkwQ"
      }
    },
    {
      "cell_type": "code",
      "execution_count": null,
      "metadata": {
        "id": "wZXdxWjFSuW-"
      },
      "outputs": [],
      "source": [
        "numeros = list(range(10))"
      ]
    },
    {
      "cell_type": "code",
      "source": [
        "numeros"
      ],
      "metadata": {
        "colab": {
          "base_uri": "https://localhost:8080/"
        },
        "id": "uNGHnpG8Txln",
        "outputId": "ec94983a-f4b5-45f6-b9f7-9df287b4e589"
      },
      "execution_count": null,
      "outputs": [
        {
          "output_type": "execute_result",
          "data": {
            "text/plain": [
              "[0, 1, 2, 3, 4, 5, 6, 7, 8, 9]"
            ]
          },
          "metadata": {},
          "execution_count": 2
        }
      ]
    },
    {
      "cell_type": "code",
      "source": [
        "resultados = []\n",
        "\n",
        "for numero in numeros:\n",
        "    resultados.append(numero**2)\n",
        "\n",
        "resultados"
      ],
      "metadata": {
        "colab": {
          "base_uri": "https://localhost:8080/"
        },
        "id": "1kpPqyRPTyd1",
        "outputId": "fccc03d6-e909-4c5b-8883-607cd9b4c8ae"
      },
      "execution_count": null,
      "outputs": [
        {
          "output_type": "execute_result",
          "data": {
            "text/plain": [
              "[0, 1, 4, 9, 16, 25, 36, 49, 64, 81]"
            ]
          },
          "metadata": {},
          "execution_count": 6
        }
      ]
    },
    {
      "cell_type": "code",
      "source": [
        "# hay otra forma de hacer lo mismo\n",
        "# list comprehension\n",
        "[numero**2 for numero in numeros]"
      ],
      "metadata": {
        "colab": {
          "base_uri": "https://localhost:8080/"
        },
        "id": "xay9vm3TUAVC",
        "outputId": "f6edf341-210d-4683-f1c1-17d2d59c2456"
      },
      "execution_count": null,
      "outputs": [
        {
          "output_type": "execute_result",
          "data": {
            "text/plain": [
              "[0, 1, 4, 9, 16, 25, 36, 49, 64, 81]"
            ]
          },
          "metadata": {},
          "execution_count": 7
        }
      ]
    },
    {
      "cell_type": "markdown",
      "source": [
        "List Comprehension"
      ],
      "metadata": {
        "id": "Kt3H0RQoUtbI"
      }
    },
    {
      "cell_type": "markdown",
      "source": [
        "En una comprension, primero se ejecuta el loop (iteracion) y despues la expresion\n",
        "\n",
        "El resultado de una list comprehension es una nueva lista\n",
        "La nueva lista tiene la misma cantidad de elementos que la lista original"
      ],
      "metadata": {
        "id": "FUmfzGqZVUEF"
      }
    },
    {
      "cell_type": "code",
      "source": [],
      "metadata": {
        "id": "WfE0jxbUKbkf"
      },
      "execution_count": null,
      "outputs": []
    },
    {
      "cell_type": "markdown",
      "source": [],
      "metadata": {
        "id": "FqRNM5VtKb-m"
      }
    },
    {
      "cell_type": "code",
      "source": [
        "[\n",
        "    numero**2                       # expresion -- cualquier expresion valida de python\n",
        "    for numero in numeros           # iteracion -- loop de python\n",
        "]"
      ],
      "metadata": {
        "id": "R7KCg6yGUokw"
      },
      "execution_count": null,
      "outputs": []
    },
    {
      "cell_type": "markdown",
      "source": [
        "Cuando usamos list comprehension?"
      ],
      "metadata": {
        "id": "cKVj4uy_Vzsi"
      }
    },
    {
      "cell_type": "markdown",
      "source": [
        "Si tengo una lista, y necesito mapear cada elemento de mi lista mediante una expresion para obtener una nueva lista, uso list comprehension"
      ],
      "metadata": {
        "id": "S6yL6gAtV4K8"
      }
    },
    {
      "cell_type": "code",
      "source": [
        "# supongamos que tenemos una lista de strings\n",
        "\n",
        "lista_str = [\"a\", \"e\", \"i\", \"o\", \"u\"]"
      ],
      "metadata": {
        "id": "v0rmc3p6V3fe"
      },
      "execution_count": null,
      "outputs": []
    },
    {
      "cell_type": "code",
      "source": [
        "# quiero unir los strings de mi lista con el \"*\"\n",
        "\"*\".join(lista_str)"
      ],
      "metadata": {
        "colab": {
          "base_uri": "https://localhost:8080/",
          "height": 36
        },
        "id": "NDmxZ8PFWgQi",
        "outputId": "32dd1fc7-3e1e-4afd-dcf6-30d2ebdab09f"
      },
      "execution_count": null,
      "outputs": [
        {
          "output_type": "execute_result",
          "data": {
            "text/plain": [
              "'a*e*i*o*u'"
            ],
            "application/vnd.google.colaboratory.intrinsic+json": {
              "type": "string"
            }
          },
          "metadata": {},
          "execution_count": 9
        }
      ]
    },
    {
      "cell_type": "code",
      "source": [
        "numeros"
      ],
      "metadata": {
        "colab": {
          "base_uri": "https://localhost:8080/"
        },
        "id": "KYIsJK4_Ws5z",
        "outputId": "35aec69c-cf22-40e1-cdc4-a2c548ce2be2"
      },
      "execution_count": null,
      "outputs": [
        {
          "output_type": "execute_result",
          "data": {
            "text/plain": [
              "[0, 1, 2, 3, 4, 5, 6, 7, 8, 9]"
            ]
          },
          "metadata": {},
          "execution_count": 10
        }
      ]
    },
    {
      "cell_type": "code",
      "source": [
        "\"-\".join(numeros)"
      ],
      "metadata": {
        "colab": {
          "base_uri": "https://localhost:8080/",
          "height": 141
        },
        "id": "Ccxb3LubWxlF",
        "outputId": "da9f3925-f21f-4c70-fbed-ee3926f4d60c"
      },
      "execution_count": null,
      "outputs": [
        {
          "output_type": "error",
          "ename": "TypeError",
          "evalue": "sequence item 0: expected str instance, int found",
          "traceback": [
            "\u001b[0;31m---------------------------------------------------------------------------\u001b[0m",
            "\u001b[0;31mTypeError\u001b[0m                                 Traceback (most recent call last)",
            "\u001b[0;32m/tmp/ipython-input-11-3856377449.py\u001b[0m in \u001b[0;36m<cell line: 0>\u001b[0;34m()\u001b[0m\n\u001b[0;32m----> 1\u001b[0;31m \u001b[0;34m\"-\"\u001b[0m\u001b[0;34m.\u001b[0m\u001b[0mjoin\u001b[0m\u001b[0;34m(\u001b[0m\u001b[0mnumeros\u001b[0m\u001b[0;34m)\u001b[0m\u001b[0;34m\u001b[0m\u001b[0;34m\u001b[0m\u001b[0m\n\u001b[0m",
            "\u001b[0;31mTypeError\u001b[0m: sequence item 0: expected str instance, int found"
          ]
        }
      ]
    },
    {
      "cell_type": "code",
      "source": [
        "str(10)"
      ],
      "metadata": {
        "colab": {
          "base_uri": "https://localhost:8080/",
          "height": 36
        },
        "id": "MqZBBn9MXAqZ",
        "outputId": "99a0719e-1674-4c53-9678-5c06d28e420f"
      },
      "execution_count": null,
      "outputs": [
        {
          "output_type": "execute_result",
          "data": {
            "text/plain": [
              "'10'"
            ],
            "application/vnd.google.colaboratory.intrinsic+json": {
              "type": "string"
            }
          },
          "metadata": {},
          "execution_count": 12
        }
      ]
    },
    {
      "cell_type": "code",
      "source": [
        "numeros"
      ],
      "metadata": {
        "colab": {
          "base_uri": "https://localhost:8080/"
        },
        "id": "mnI4FoCRY8-7",
        "outputId": "54b696b3-36d5-4cda-9c33-303487f60e77"
      },
      "execution_count": null,
      "outputs": [
        {
          "output_type": "execute_result",
          "data": {
            "text/plain": [
              "[0, 1, 2, 3, 4, 5, 6, 7, 8, 9]"
            ]
          },
          "metadata": {},
          "execution_count": 15
        }
      ]
    },
    {
      "cell_type": "code",
      "source": [
        "[\n",
        "    str(numero)\n",
        "    for numero in numeros\n",
        "]"
      ],
      "metadata": {
        "colab": {
          "base_uri": "https://localhost:8080/"
        },
        "id": "eIm9uTT1Y_fJ",
        "outputId": "118a9da2-f6a4-45b9-bb48-0a773d81678d"
      },
      "execution_count": null,
      "outputs": [
        {
          "output_type": "execute_result",
          "data": {
            "text/plain": [
              "['0', '1', '2', '3', '4', '5', '6', '7', '8', '9']"
            ]
          },
          "metadata": {},
          "execution_count": 16
        }
      ]
    },
    {
      "cell_type": "code",
      "source": [
        "\"-\".join([\n",
        "   str(numeros)\n",
        "   for numeros in numeros\n",
        "])"
      ],
      "metadata": {
        "colab": {
          "base_uri": "https://localhost:8080/",
          "height": 36
        },
        "id": "270PiGPeXRnV",
        "outputId": "5b3ec168-a3f8-4354-e5bc-8a930336670d"
      },
      "execution_count": null,
      "outputs": [
        {
          "output_type": "execute_result",
          "data": {
            "text/plain": [
              "'0-1-2-3-4-5-6-7-8-9'"
            ],
            "application/vnd.google.colaboratory.intrinsic+json": {
              "type": "string"
            }
          },
          "metadata": {},
          "execution_count": 17
        }
      ]
    },
    {
      "cell_type": "code",
      "source": [
        "# tengo un string y quiero convertir en mayuscula la primer letra de cada palabra\n",
        "\n",
        "s = \"esto es una prueba\""
      ],
      "metadata": {
        "id": "pq9udaNfXzcj"
      },
      "execution_count": null,
      "outputs": []
    },
    {
      "cell_type": "code",
      "source": [
        "s.title()"
      ],
      "metadata": {
        "colab": {
          "base_uri": "https://localhost:8080/",
          "height": 36
        },
        "id": "h7d_JA_dZwt3",
        "outputId": "f6245414-5f1c-4f85-f9c2-df1b14860b17"
      },
      "execution_count": null,
      "outputs": [
        {
          "output_type": "execute_result",
          "data": {
            "text/plain": [
              "'Esto Es Una Prueba'"
            ],
            "application/vnd.google.colaboratory.intrinsic+json": {
              "type": "string"
            }
          },
          "metadata": {},
          "execution_count": 19
        }
      ]
    },
    {
      "cell_type": "code",
      "source": [
        "s"
      ],
      "metadata": {
        "colab": {
          "base_uri": "https://localhost:8080/",
          "height": 36
        },
        "id": "1FTUYSb7ZyTg",
        "outputId": "0060d8e9-706c-46c1-e60e-c6ceaa05bdf4"
      },
      "execution_count": null,
      "outputs": [
        {
          "output_type": "execute_result",
          "data": {
            "text/plain": [
              "'esto es una prueba'"
            ],
            "application/vnd.google.colaboratory.intrinsic+json": {
              "type": "string"
            }
          },
          "metadata": {},
          "execution_count": 20
        }
      ]
    },
    {
      "cell_type": "code",
      "source": [
        "palabra = 'hola'\n",
        "palabra.capitalize()"
      ],
      "metadata": {
        "colab": {
          "base_uri": "https://localhost:8080/",
          "height": 36
        },
        "id": "aLI__YyPZ2c2",
        "outputId": "60e284bb-ca4d-47f4-bccd-2a3eb3d20a73"
      },
      "execution_count": null,
      "outputs": [
        {
          "output_type": "execute_result",
          "data": {
            "text/plain": [
              "'Hola'"
            ],
            "application/vnd.google.colaboratory.intrinsic+json": {
              "type": "string"
            }
          },
          "metadata": {},
          "execution_count": 22
        }
      ]
    },
    {
      "cell_type": "code",
      "source": [
        "s"
      ],
      "metadata": {
        "colab": {
          "base_uri": "https://localhost:8080/",
          "height": 36
        },
        "id": "bmTU7kCSa-3q",
        "outputId": "43d0bf55-58c0-474d-d44b-ff46ee4c3776"
      },
      "execution_count": null,
      "outputs": [
        {
          "output_type": "execute_result",
          "data": {
            "text/plain": [
              "'esto es una prueba'"
            ],
            "application/vnd.google.colaboratory.intrinsic+json": {
              "type": "string"
            }
          },
          "metadata": {},
          "execution_count": 23
        }
      ]
    },
    {
      "cell_type": "code",
      "source": [
        "# que tengo ? tengo una lista con palabras\n",
        "# que quiero? poner en mayuscula la primera letra de cada palabra (capitalize)\n",
        "\n",
        "\" \".join([ palabra.capitalize()\n",
        "       for palabra in s.split()\n",
        "])"
      ],
      "metadata": {
        "colab": {
          "base_uri": "https://localhost:8080/",
          "height": 36
        },
        "id": "Fun7eemNZ97q",
        "outputId": "2b9a624e-f89a-4f1e-d780-b0bef55a4fe5"
      },
      "execution_count": null,
      "outputs": [
        {
          "output_type": "execute_result",
          "data": {
            "text/plain": [
              "'Esto Es Una Prueba'"
            ],
            "application/vnd.google.colaboratory.intrinsic+json": {
              "type": "string"
            }
          },
          "metadata": {},
          "execution_count": 25
        }
      ]
    },
    {
      "cell_type": "markdown",
      "source": [
        "Ejercicio:\n",
        "\n",
        "1. Ingresar numeros separados por espacios.\n",
        "2. Sumar los numeros\n",
        "\n",
        "```\n",
        "string de entrada: \"10 20 30\"\n",
        "salida: 60\n",
        "```"
      ],
      "metadata": {
        "id": "6a9s1JCkbzvG"
      }
    },
    {
      "cell_type": "code",
      "source": [
        "s = input(\"Ingrese numeros separados por espacios: \").strip()"
      ],
      "metadata": {
        "colab": {
          "base_uri": "https://localhost:8080/"
        },
        "id": "QUKvnieFbWeR",
        "outputId": "721730d6-8714-4edc-d207-0a6003fccaee"
      },
      "execution_count": null,
      "outputs": [
        {
          "name": "stdout",
          "output_type": "stream",
          "text": [
            "Ingrese numeros separados por espacios:        56   78     89      \n"
          ]
        }
      ]
    },
    {
      "cell_type": "code",
      "source": [
        "s"
      ],
      "metadata": {
        "colab": {
          "base_uri": "https://localhost:8080/",
          "height": 36
        },
        "id": "GmtV5QQSdSAu",
        "outputId": "c44d636c-c033-46c7-f3ab-4fcfa3c3942f"
      },
      "execution_count": null,
      "outputs": [
        {
          "output_type": "execute_result",
          "data": {
            "text/plain": [
              "'56   78     89'"
            ],
            "application/vnd.google.colaboratory.intrinsic+json": {
              "type": "string"
            }
          },
          "metadata": {},
          "execution_count": 29
        }
      ]
    },
    {
      "cell_type": "code",
      "source": [
        "s.split()"
      ],
      "metadata": {
        "colab": {
          "base_uri": "https://localhost:8080/"
        },
        "id": "uCPL3Ocpd4Sr",
        "outputId": "0ff6302e-1f8d-43a0-f7ed-79e3a61f78be"
      },
      "execution_count": null,
      "outputs": [
        {
          "output_type": "execute_result",
          "data": {
            "text/plain": [
              "['56', '78', '89']"
            ]
          },
          "metadata": {},
          "execution_count": 31
        }
      ]
    },
    {
      "cell_type": "code",
      "source": [
        "# tengo una lista de numeros en str\n",
        "sum([\n",
        "    int(numero)\n",
        "    for numero in s.split()\n",
        "    ])"
      ],
      "metadata": {
        "colab": {
          "base_uri": "https://localhost:8080/"
        },
        "id": "61FxrIu3eFD2",
        "outputId": "1f78c1bf-4842-4fd9-ec3a-16676108e0ea"
      },
      "execution_count": null,
      "outputs": [
        {
          "output_type": "execute_result",
          "data": {
            "text/plain": [
              "223"
            ]
          },
          "metadata": {},
          "execution_count": 35
        }
      ]
    },
    {
      "cell_type": "code",
      "source": [
        "sum([5, 7, 8, 9])"
      ],
      "metadata": {
        "colab": {
          "base_uri": "https://localhost:8080/"
        },
        "id": "bEzB8iGmdVnE",
        "outputId": "0f37f9f1-4778-40fe-8647-ccdc19fdcf5f"
      },
      "execution_count": null,
      "outputs": [
        {
          "output_type": "execute_result",
          "data": {
            "text/plain": [
              "29"
            ]
          },
          "metadata": {},
          "execution_count": 30
        }
      ]
    },
    {
      "cell_type": "code",
      "source": [
        "sum(['5', '7', '8', '9'])"
      ],
      "metadata": {
        "colab": {
          "base_uri": "https://localhost:8080/",
          "height": 141
        },
        "id": "c1A83Mjrdqj3",
        "outputId": "970a4927-8c25-4ce6-8990-ce8da2bc216c"
      },
      "execution_count": null,
      "outputs": [
        {
          "output_type": "error",
          "ename": "TypeError",
          "evalue": "unsupported operand type(s) for +: 'int' and 'str'",
          "traceback": [
            "\u001b[0;31m---------------------------------------------------------------------------\u001b[0m",
            "\u001b[0;31mTypeError\u001b[0m                                 Traceback (most recent call last)",
            "\u001b[0;32m/tmp/ipython-input-32-4202577431.py\u001b[0m in \u001b[0;36m<cell line: 0>\u001b[0;34m()\u001b[0m\n\u001b[0;32m----> 1\u001b[0;31m \u001b[0msum\u001b[0m\u001b[0;34m(\u001b[0m\u001b[0;34m[\u001b[0m\u001b[0;34m'5'\u001b[0m\u001b[0;34m,\u001b[0m \u001b[0;34m'7'\u001b[0m\u001b[0;34m,\u001b[0m \u001b[0;34m'8'\u001b[0m\u001b[0;34m,\u001b[0m \u001b[0;34m'9'\u001b[0m\u001b[0;34m]\u001b[0m\u001b[0;34m)\u001b[0m\u001b[0;34m\u001b[0m\u001b[0;34m\u001b[0m\u001b[0m\n\u001b[0m",
            "\u001b[0;31mTypeError\u001b[0m: unsupported operand type(s) for +: 'int' and 'str'"
          ]
        }
      ]
    },
    {
      "cell_type": "markdown",
      "source": [
        "Dada una oracion, calcular la cantidad de letras sin contar los espacios"
      ],
      "metadata": {
        "id": "F_6uTnjoeu3o"
      }
    },
    {
      "cell_type": "code",
      "source": [
        "s = input(\"Ingrese una oracion: \").strip()"
      ],
      "metadata": {
        "colab": {
          "base_uri": "https://localhost:8080/"
        },
        "id": "RFEIoqDReDhi",
        "outputId": "7374dc70-f940-4c54-b831-230615def3fa"
      },
      "execution_count": null,
      "outputs": [
        {
          "name": "stdout",
          "output_type": "stream",
          "text": [
            "Ingrese una oracion: hola hola\n"
          ]
        }
      ]
    },
    {
      "cell_type": "code",
      "source": [
        "[\n",
        "    len(palabra)\n",
        "    for palabra in s.split()\n",
        "]"
      ],
      "metadata": {
        "colab": {
          "base_uri": "https://localhost:8080/"
        },
        "id": "BLF-wzHCfcLZ",
        "outputId": "4f44d4de-62f4-4854-8dac-58dd10d3d4ef"
      },
      "execution_count": null,
      "outputs": [
        {
          "output_type": "execute_result",
          "data": {
            "text/plain": [
              "[4, 2, 3, 8, 2, 6]"
            ]
          },
          "metadata": {},
          "execution_count": 37
        }
      ]
    },
    {
      "cell_type": "code",
      "source": [
        "sum([\n",
        "    len(palabra)\n",
        "    for palabra in s.split()\n",
        "])"
      ],
      "metadata": {
        "colab": {
          "base_uri": "https://localhost:8080/"
        },
        "id": "LKXaEDJtgCiI",
        "outputId": "299edbb5-12c8-4344-f3a1-184499cb700a"
      },
      "execution_count": null,
      "outputs": [
        {
          "output_type": "execute_result",
          "data": {
            "text/plain": [
              "8"
            ]
          },
          "metadata": {},
          "execution_count": 42
        }
      ]
    },
    {
      "cell_type": "markdown",
      "source": [
        "sql....."
      ],
      "metadata": {
        "id": "2gdM1j-7g5KI"
      }
    },
    {
      "cell_type": "code",
      "source": [
        "s = '10 20 30 40'\n",
        "\n",
        "[   int(numero)                         # expresion -- SELECT\n",
        "    for numero in s.split()             # iteracion -- FROM\n",
        "]"
      ],
      "metadata": {
        "colab": {
          "base_uri": "https://localhost:8080/"
        },
        "id": "KJZAdvQegYSI",
        "outputId": "0c1d2917-8344-4345-a0a3-566e071180a7"
      },
      "execution_count": null,
      "outputs": [
        {
          "output_type": "execute_result",
          "data": {
            "text/plain": [
              "[10, 20, 30, 40]"
            ]
          },
          "metadata": {},
          "execution_count": 43
        }
      ]
    },
    {
      "cell_type": "code",
      "source": [
        "# tengo una oracion con palabras\n",
        "# quiero imprimir cada palabra con un * al principio y otro al final *\n",
        "\n",
        "s = \"python es magico\"\n",
        "\n",
        "\n",
        "[\n",
        "    print(f\"*{palabra}*\")\n",
        "    for palabra in s.split()\n",
        "]"
      ],
      "metadata": {
        "colab": {
          "base_uri": "https://localhost:8080/"
        },
        "id": "dVvTs4e-hJV4",
        "outputId": "090e2645-cb24-4e33-8465-5e1283eca091"
      },
      "execution_count": null,
      "outputs": [
        {
          "output_type": "stream",
          "name": "stdout",
          "text": [
            "*python*\n",
            "*es*\n",
            "*magico*\n"
          ]
        },
        {
          "output_type": "execute_result",
          "data": {
            "text/plain": [
              "[None, None, None]"
            ]
          },
          "metadata": {},
          "execution_count": 44
        }
      ]
    },
    {
      "cell_type": "code",
      "source": [
        "foo = print(\"Hola\")\n",
        "print(foo)"
      ],
      "metadata": {
        "colab": {
          "base_uri": "https://localhost:8080/"
        },
        "id": "PCGyyrn7har7",
        "outputId": "7614ddda-9b99-4a7c-a891-9b5c8d0d6c19"
      },
      "execution_count": null,
      "outputs": [
        {
          "output_type": "stream",
          "name": "stdout",
          "text": [
            "Hola\n",
            "None\n"
          ]
        }
      ]
    },
    {
      "cell_type": "markdown",
      "source": [
        "la lista de salida, guarda los valores que retorna la expresion!!!!"
      ],
      "metadata": {
        "id": "9bUMOjOniM_Z"
      }
    },
    {
      "cell_type": "code",
      "source": [
        "# Vamos a conectar con google drive\n",
        "from google.colab import drive\n",
        "drive.mount('/content/drive')"
      ],
      "metadata": {
        "colab": {
          "base_uri": "https://localhost:8080/"
        },
        "id": "nQdZ26F5hsBG",
        "outputId": "26281c5f-1bf3-44fb-9e06-dc534d58d073"
      },
      "execution_count": null,
      "outputs": [
        {
          "output_type": "stream",
          "name": "stdout",
          "text": [
            "Mounted at /content/drive\n"
          ]
        }
      ]
    },
    {
      "cell_type": "code",
      "source": [
        "!ls /content/drive/MyDrive/samples"
      ],
      "metadata": {
        "colab": {
          "base_uri": "https://localhost:8080/"
        },
        "id": "FV99vGU7jMyQ",
        "outputId": "c11e7b96-2954-4bd0-bf19-75f410ed5828"
      },
      "execution_count": null,
      "outputs": [
        {
          "output_type": "stream",
          "name": "stdout",
          "text": [
            " athlete_events.csv\t\t\t  lluvias.csv\n",
            " casas.csv\t\t\t\t  Mall_Customers.csv\n",
            " compras-contrataciones-acumar-2024.csv   mini-access-log.txt\n",
            "'Data Analytics Analyst Assestment.csv'   nums.txt\n",
            " datos_personas.csv\t\t\t  Pokemon_data.txt\n",
            "'Financial Sample.xlsx'\t\t\t  propiedades.csv\n",
            " housing.csv\t\t\t\t  publicidad.csv\n",
            " imdb_top_1000.csv\t\t\t  shoe-data.txt\n",
            " linux-etc-passwd.txt\t\t\t  Social_Network_Ads.csv\n"
          ]
        }
      ]
    },
    {
      "cell_type": "code",
      "source": [
        "!head /content/drive/MyDrive/samples/linux-etc-passwd.txt"
      ],
      "metadata": {
        "colab": {
          "base_uri": "https://localhost:8080/"
        },
        "id": "D3liJomwjbvI",
        "outputId": "f007ad1a-bb9b-4101-e307-b7a983f315eb"
      },
      "execution_count": null,
      "outputs": [
        {
          "output_type": "stream",
          "name": "stdout",
          "text": [
            "# This is a comment\n",
            "# You should ignore me\n",
            "root:x:0:0:root:/root:/bin/bash\n",
            "daemon:x:1:1:daemon:/usr/sbin:/usr/sbin/nologin\n",
            "bin:x:2:2:bin:/bin:/usr/sbin/nologin\n",
            "sys:x:3:3:sys:/dev:/usr/sbin/nologin\n",
            "sync:x:4:65534:sync:/bin:/bin/sync\n",
            "games:x:5:60:games:/usr/games:/usr/sbin/nologin\n",
            "man:x:6:12:man:/var/cache/man:/usr/sbin/nologin\n",
            "lp:x:7:7:lp:/var/spool/lpd:/usr/sbin/nologin\n"
          ]
        }
      ]
    },
    {
      "cell_type": "code",
      "source": [
        "# como iterar sobre archivos\n",
        "[\n",
        "    linea\n",
        "    for linea in open('/content/drive/MyDrive/samples/linux-etc-passwd.txt')\n",
        "]"
      ],
      "metadata": {
        "colab": {
          "base_uri": "https://localhost:8080/"
        },
        "id": "MNnlRvT1j0XS",
        "outputId": "b7fafa9e-1a98-4c59-c073-a45096d0de32"
      },
      "execution_count": null,
      "outputs": [
        {
          "output_type": "execute_result",
          "data": {
            "text/plain": [
              "['# This is a comment\\n',\n",
              " '# You should ignore me\\n',\n",
              " 'root:x:0:0:root:/root:/bin/bash\\n',\n",
              " 'daemon:x:1:1:daemon:/usr/sbin:/usr/sbin/nologin\\n',\n",
              " 'bin:x:2:2:bin:/bin:/usr/sbin/nologin\\n',\n",
              " 'sys:x:3:3:sys:/dev:/usr/sbin/nologin\\n',\n",
              " 'sync:x:4:65534:sync:/bin:/bin/sync\\n',\n",
              " 'games:x:5:60:games:/usr/games:/usr/sbin/nologin\\n',\n",
              " 'man:x:6:12:man:/var/cache/man:/usr/sbin/nologin\\n',\n",
              " 'lp:x:7:7:lp:/var/spool/lpd:/usr/sbin/nologin\\n',\n",
              " 'mail:x:8:8:mail:/var/mail:/usr/sbin/nologin\\n',\n",
              " '\\n',\n",
              " '\\n',\n",
              " '\\n',\n",
              " 'news:x:9:9:news:/var/spool/news:/usr/sbin/nologin\\n',\n",
              " 'uucp:x:10:10:uucp:/var/spool/uucp:/usr/sbin/nologin\\n',\n",
              " 'proxy:x:13:13:proxy:/bin:/usr/sbin/nologin\\n',\n",
              " 'www-data:x:33:33:www-data:/var/www:/usr/sbin/nologin\\n',\n",
              " 'backup:x:34:34:backup:/var/backups:/usr/sbin/nologin\\n',\n",
              " 'list:x:38:38:Mailing List Manager:/var/list:/usr/sbin/nologin\\n',\n",
              " 'irc:x:39:39:ircd:/var/run/ircd:/usr/sbin/nologin\\n',\n",
              " 'gnats:x:41:41:Gnats Bug-Reporting System (admin):/var/lib/gnats:/usr/sbin/nologin\\n',\n",
              " '\\n',\n",
              " 'nobody:x:65534:65534:nobody:/nonexistent:/usr/sbin/nologin\\n',\n",
              " 'syslog:x:101:104::/home/syslog:/bin/false\\n',\n",
              " 'messagebus:x:102:106::/var/run/dbus:/bin/false\\n',\n",
              " 'landscape:x:103:109::/var/lib/landscape:/bin/false\\n',\n",
              " 'jci:x:955:955::/home/jci:/bin/bash\\n',\n",
              " 'sshd:x:104:65534::/var/run/sshd:/usr/sbin/nologin\\n',\n",
              " 'user:x:1000:1000:user,,,:/home/user:/bin/bash\\n',\n",
              " 'reuven:x:1001:1001:Reuven M. Lerner,,,:/home/reuven:/bin/bash\\n',\n",
              " 'postfix:x:105:113::/var/spool/postfix:/bin/false\\n',\n",
              " 'colord:x:106:116:colord colour management daemon,,,:/var/lib/colord:/bin/false\\n',\n",
              " 'postgres:x:107:117:PostgreSQL administrator,,,:/var/lib/postgresql:/bin/bash\\n',\n",
              " 'dovecot:x:108:119:Dovecot mail server,,,:/usr/lib/dovecot:/bin/false\\n',\n",
              " 'dovenull:x:109:120:Dovecot login user,,,:/nonexistent:/bin/false\\n',\n",
              " 'postgrey:x:110:121::/var/lib/postgrey:/bin/false\\n',\n",
              " 'debian-spamd:x:111:122::/var/lib/spamassassin:/bin/sh\\n',\n",
              " 'memcache:x:113:124:Memcached,,,:/nonexistent:/bin/false\\n',\n",
              " 'genadi:x:1002:1003:Genadi Reznichenko,,,:/home/genadi:/bin/bash\\n',\n",
              " 'shira:x:1003:1004:Shira Friedman,,,:/home/shira:/bin/bash\\n',\n",
              " 'atara:x:1004:1005:Atara Lerner-Friedman,,,:/home/atara:/bin/bash\\n',\n",
              " 'shikma:x:1005:1006:Shikma Lerner-Friedman,,,:/home/shikma:/bin/bash\\n',\n",
              " 'amotz:x:1006:1007:Amotz Lerner-Friedman,,,:/home/amotz:/bin/bash\\n',\n",
              " 'mysql:x:114:125:MySQL Server,,,:/nonexistent:/bin/false\\n',\n",
              " 'clamav:x:115:126::/var/lib/clamav:/bin/false\\n',\n",
              " 'amavis:x:116:127:AMaViS system user,,,:/var/lib/amavis:/bin/sh\\n',\n",
              " 'opendkim:x:117:128::/var/run/opendkim:/bin/false\\n',\n",
              " 'gitlab-redis:x:999:1009::/var/opt/gitlab/redis:/bin/nologin\\n',\n",
              " 'gitlab-psql:x:998:1010::/var/opt/gitlab/postgresql:/bin/sh\\n',\n",
              " 'git:x:1007:1008:GitLab,,,:/home/git:/bin/bash\\n',\n",
              " 'opendmarc:x:118:129::/var/run/opendmarc:/bin/false\\n',\n",
              " 'dkim-milter-python:x:119:130::/var/run/dkim-milter-python:/bin/false\\n',\n",
              " 'deploy:x:1008:1011:Deploy,,,:/home/deploy:/bin/bash\\n',\n",
              " 'redis:x:112:123:redis server,,,:/var/lib/redis:/bin/false\\n']"
            ]
          },
          "metadata": {},
          "execution_count": 52
        }
      ]
    },
    {
      "cell_type": "markdown",
      "source": [
        "La idea es obtener una lista con todos los usuarios"
      ],
      "metadata": {
        "id": "ARdF0qPTqJIk"
      }
    },
    {
      "cell_type": "code",
      "source": [],
      "metadata": {
        "id": "uOFiKGUhpjTD"
      },
      "execution_count": null,
      "outputs": []
    }
  ]
}