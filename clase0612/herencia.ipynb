{
  "nbformat": 4,
  "nbformat_minor": 0,
  "metadata": {
    "colab": {
      "provenance": []
    },
    "kernelspec": {
      "name": "python3",
      "display_name": "Python 3"
    },
    "language_info": {
      "name": "python"
    }
  },
  "cells": [
    {
      "cell_type": "code",
      "execution_count": 1,
      "metadata": {
        "id": "QiHxeFc-UbdF"
      },
      "outputs": [],
      "source": [
        "# clase Padre\n",
        "class Animal:\n",
        "  pass"
      ]
    },
    {
      "cell_type": "code",
      "source": [
        "# clase Hija que hereda de la clase padre\n",
        "class Perro(Animal):\n",
        "  pass"
      ],
      "metadata": {
        "id": "ry5pDGvSUj-7"
      },
      "execution_count": 8,
      "outputs": []
    },
    {
      "cell_type": "code",
      "source": [
        "animal = Animal()"
      ],
      "metadata": {
        "id": "rgMYWteZVs7O"
      },
      "execution_count": 9,
      "outputs": []
    },
    {
      "cell_type": "code",
      "source": [
        "type(animal)"
      ],
      "metadata": {
        "colab": {
          "base_uri": "https://localhost:8080/"
        },
        "id": "TwoWYM-YVzFU",
        "outputId": "d9e8b6a2-f4ca-4a4f-f36c-085d3214c0bd"
      },
      "execution_count": 10,
      "outputs": [
        {
          "output_type": "execute_result",
          "data": {
            "text/plain": [
              "__main__.Animal"
            ]
          },
          "metadata": {},
          "execution_count": 10
        }
      ]
    },
    {
      "cell_type": "code",
      "source": [
        "perro = Perro()"
      ],
      "metadata": {
        "id": "vak_C15aV1Q8"
      },
      "execution_count": 11,
      "outputs": []
    },
    {
      "cell_type": "code",
      "source": [
        "type(perro)"
      ],
      "metadata": {
        "colab": {
          "base_uri": "https://localhost:8080/"
        },
        "id": "2OZYyXOkV66M",
        "outputId": "c6560b4a-cdef-498f-94eb-64dceb0055f3"
      },
      "execution_count": 12,
      "outputs": [
        {
          "output_type": "execute_result",
          "data": {
            "text/plain": [
              "__main__.Perro"
            ]
          },
          "metadata": {},
          "execution_count": 12
        }
      ]
    },
    {
      "cell_type": "code",
      "source": [
        "# saber de que clases hereda\n",
        "Perro.__bases__"
      ],
      "metadata": {
        "colab": {
          "base_uri": "https://localhost:8080/"
        },
        "id": "stGhbXN0V9yf",
        "outputId": "0c6164f8-6f44-48ec-c5e6-e44b2a57caad"
      },
      "execution_count": 13,
      "outputs": [
        {
          "output_type": "execute_result",
          "data": {
            "text/plain": [
              "(__main__.Animal,)"
            ]
          },
          "metadata": {},
          "execution_count": 13
        }
      ]
    },
    {
      "cell_type": "code",
      "source": [
        "Animal.__bases__"
      ],
      "metadata": {
        "colab": {
          "base_uri": "https://localhost:8080/"
        },
        "id": "dFLVcEDWWHId",
        "outputId": "9c6c4173-3dfb-4035-a9a8-5739be5fb19a"
      },
      "execution_count": 14,
      "outputs": [
        {
          "output_type": "execute_result",
          "data": {
            "text/plain": [
              "(object,)"
            ]
          },
          "metadata": {},
          "execution_count": 14
        }
      ]
    },
    {
      "cell_type": "markdown",
      "source": [
        "¿Como funciona?\n",
        "\n",
        "Dado que una clase hija hereda los atributos y métodos de la padre, nos puede ser muy útil cuando tengamos clases que se parecen entre sí pero tienen ciertas particularidades.\n",
        "\n",
        "En este caso, siguiendo el ejemplo anterior, en vez de definir muchas clases para cada animal, podemos tomar los elementos comunes y crear una clase Animal de la que hereden el resto, respetando por tanto la filosofía DRY.(Don't repeat yourself)\n",
        "\n",
        "Las clases y la herencia ayudan a no repetir código de manera innecesaria."
      ],
      "metadata": {
        "id": "dZb64_kiWjrb"
      }
    },
    {
      "cell_type": "code",
      "source": [
        "class CalculadoraBase:\n",
        "\n",
        "  def __init__(self, numero1, numero2):\n",
        "    self.numero1 = numero1\n",
        "    self.numero2 = numero2\n",
        "\n",
        "  def suma(self):\n",
        "    return self.numero1 + self.numero2\n",
        "\n",
        "  def resta(self):\n",
        "    return self.numero1 - self.numero2"
      ],
      "metadata": {
        "id": "WPLgk2RkWZzP"
      },
      "execution_count": 16,
      "outputs": []
    },
    {
      "cell_type": "code",
      "source": [
        "calculo = CalculadoraBase(10, 5)"
      ],
      "metadata": {
        "id": "MVKhISa5XaaA"
      },
      "execution_count": 17,
      "outputs": []
    },
    {
      "cell_type": "code",
      "source": [
        "resultado1 = calculo.suma()"
      ],
      "metadata": {
        "id": "ixeoVQ-2XoKk"
      },
      "execution_count": 18,
      "outputs": []
    },
    {
      "cell_type": "code",
      "source": [
        "resultado1"
      ],
      "metadata": {
        "colab": {
          "base_uri": "https://localhost:8080/"
        },
        "id": "ASRhnDh7Xvnk",
        "outputId": "cd86135c-7498-492c-a9a4-1bae1276d587"
      },
      "execution_count": 19,
      "outputs": [
        {
          "output_type": "execute_result",
          "data": {
            "text/plain": [
              "15"
            ]
          },
          "metadata": {},
          "execution_count": 19
        }
      ]
    },
    {
      "cell_type": "code",
      "source": [
        "resultado2 = calculo.resta()"
      ],
      "metadata": {
        "id": "ihWvKqQPXw0k"
      },
      "execution_count": 20,
      "outputs": []
    },
    {
      "cell_type": "code",
      "source": [
        "resultado2"
      ],
      "metadata": {
        "colab": {
          "base_uri": "https://localhost:8080/"
        },
        "id": "eL7IcDGpX0BU",
        "outputId": "45177b06-6947-4d04-a7e0-40558c6c32a8"
      },
      "execution_count": 21,
      "outputs": [
        {
          "output_type": "execute_result",
          "data": {
            "text/plain": [
              "5"
            ]
          },
          "metadata": {},
          "execution_count": 21
        }
      ]
    },
    {
      "cell_type": "code",
      "source": [
        "class CalculadoraCompleta(CalculadoraBase):\n",
        "\n",
        "  def __init__(self, numero1, numero2):\n",
        "    self.numero1 = numero1\n",
        "    self.numero2 = numero2\n",
        "\n",
        "  def multiplicacion(self):\n",
        "    return self.numero1 * self.numero2\n",
        "\n",
        "  def division(self):\n",
        "    return self.numero1 / self.numero2"
      ],
      "metadata": {
        "id": "zS8crUqBX3ll"
      },
      "execution_count": 22,
      "outputs": []
    },
    {
      "cell_type": "code",
      "source": [
        "calculo = CalculadoraCompleta(10, 5)"
      ],
      "metadata": {
        "id": "F35l-DBlaWCp"
      },
      "execution_count": 23,
      "outputs": []
    },
    {
      "cell_type": "code",
      "source": [
        "calculo.multiplicacion()"
      ],
      "metadata": {
        "colab": {
          "base_uri": "https://localhost:8080/"
        },
        "id": "CLujEwutabSm",
        "outputId": "42436c16-39d2-4b0d-a58a-5348f5a8df84"
      },
      "execution_count": 24,
      "outputs": [
        {
          "output_type": "execute_result",
          "data": {
            "text/plain": [
              "50"
            ]
          },
          "metadata": {},
          "execution_count": 24
        }
      ]
    },
    {
      "cell_type": "code",
      "source": [
        "calculo.division()"
      ],
      "metadata": {
        "colab": {
          "base_uri": "https://localhost:8080/"
        },
        "id": "L-E4xGBAafzr",
        "outputId": "084db7d1-3e57-437c-ddee-1720d6ed9224"
      },
      "execution_count": 25,
      "outputs": [
        {
          "output_type": "execute_result",
          "data": {
            "text/plain": [
              "2.0"
            ]
          },
          "metadata": {},
          "execution_count": 25
        }
      ]
    },
    {
      "cell_type": "code",
      "source": [
        "calculo.suma()"
      ],
      "metadata": {
        "colab": {
          "base_uri": "https://localhost:8080/"
        },
        "id": "QyBAB-3gahx5",
        "outputId": "1606ddfc-dddf-4120-daf2-a4c8bcb873de"
      },
      "execution_count": 26,
      "outputs": [
        {
          "output_type": "execute_result",
          "data": {
            "text/plain": [
              "15"
            ]
          },
          "metadata": {},
          "execution_count": 26
        }
      ]
    },
    {
      "cell_type": "code",
      "source": [
        "calculo.resta()"
      ],
      "metadata": {
        "colab": {
          "base_uri": "https://localhost:8080/"
        },
        "id": "8rOe6L-ramrK",
        "outputId": "d6589b73-ebb9-4345-d1af-a00a1bd23cbe"
      },
      "execution_count": 28,
      "outputs": [
        {
          "output_type": "execute_result",
          "data": {
            "text/plain": [
              "5"
            ]
          },
          "metadata": {},
          "execution_count": 28
        }
      ]
    },
    {
      "cell_type": "code",
      "source": [
        "class Rectangulo:\n",
        "\n",
        "  def __init__(self, base, altura):\n",
        "    self.base = base\n",
        "    self.altura = altura\n",
        "\n",
        "  def area(self):\n",
        "    return self.base * self.altura"
      ],
      "metadata": {
        "id": "oQX01RCnaocZ"
      },
      "execution_count": null,
      "outputs": []
    }
  ]
}