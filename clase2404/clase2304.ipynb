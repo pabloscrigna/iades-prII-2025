{
  "nbformat": 4,
  "nbformat_minor": 0,
  "metadata": {
    "colab": {
      "provenance": []
    },
    "kernelspec": {
      "name": "python3",
      "display_name": "Python 3"
    },
    "language_info": {
      "name": "python"
    }
  },
  "cells": [
    {
      "cell_type": "code",
      "execution_count": 1,
      "metadata": {
        "id": "NnP5Tj9s3gw_"
      },
      "outputs": [],
      "source": [
        "diccionario = {}"
      ]
    },
    {
      "cell_type": "code",
      "source": [
        "type(diccionario)"
      ],
      "metadata": {
        "colab": {
          "base_uri": "https://localhost:8080/"
        },
        "id": "0qi52Ud134Yr",
        "outputId": "dff16871-a708-4915-841a-423395e4bebc"
      },
      "execution_count": 2,
      "outputs": [
        {
          "output_type": "execute_result",
          "data": {
            "text/plain": [
              "dict"
            ]
          },
          "metadata": {},
          "execution_count": 2
        }
      ]
    },
    {
      "cell_type": "code",
      "source": [
        "diccionario = dict()"
      ],
      "metadata": {
        "id": "FuDqyz_G36Ac"
      },
      "execution_count": 3,
      "outputs": []
    },
    {
      "cell_type": "code",
      "source": [
        "type(diccionario)"
      ],
      "metadata": {
        "colab": {
          "base_uri": "https://localhost:8080/"
        },
        "id": "yZNhhpqB389a",
        "outputId": "8c327610-0f72-4d9d-a237-c6e3bf7d2d04"
      },
      "execution_count": 4,
      "outputs": [
        {
          "output_type": "execute_result",
          "data": {
            "text/plain": [
              "dict"
            ]
          },
          "metadata": {},
          "execution_count": 4
        }
      ]
    },
    {
      "cell_type": "code",
      "source": [
        "diccionario"
      ],
      "metadata": {
        "colab": {
          "base_uri": "https://localhost:8080/"
        },
        "id": "EqYbutEL3-S9",
        "outputId": "8aa67267-23ee-4bcb-ca94-619005f3ba60"
      },
      "execution_count": 5,
      "outputs": [
        {
          "output_type": "execute_result",
          "data": {
            "text/plain": [
              "{}"
            ]
          },
          "metadata": {},
          "execution_count": 5
        }
      ]
    },
    {
      "cell_type": "code",
      "source": [
        "# clave : valor\n",
        "# clave --> por lo general son str ----> json, pero las claves pueden ser cualquier variable inmutable\n",
        "\n",
        "# agregar un par clave valor a mi diccionario\n",
        "diccionario[\"nombre\"] = \"Juan\""
      ],
      "metadata": {
        "id": "2EO9IClQ4ABb"
      },
      "execution_count": 6,
      "outputs": []
    },
    {
      "cell_type": "code",
      "source": [
        "diccionario"
      ],
      "metadata": {
        "colab": {
          "base_uri": "https://localhost:8080/"
        },
        "id": "f1XMB_5S4fJu",
        "outputId": "ea81bb7f-90a3-4ce3-ac25-3c8ea639522e"
      },
      "execution_count": 7,
      "outputs": [
        {
          "output_type": "execute_result",
          "data": {
            "text/plain": [
              "{'nombre': 'Juan'}"
            ]
          },
          "metadata": {},
          "execution_count": 7
        }
      ]
    },
    {
      "cell_type": "code",
      "source": [
        "# una variable en python estaba definida por 3 cosas:\n",
        "# id\n",
        "# valor\n",
        "# tipo\n",
        "\n",
        "id(diccionario)"
      ],
      "metadata": {
        "colab": {
          "base_uri": "https://localhost:8080/"
        },
        "id": "DSbyZ1By4gg_",
        "outputId": "adba56c7-8298-4ee0-9306-cb2a8c10603d"
      },
      "execution_count": 8,
      "outputs": [
        {
          "output_type": "execute_result",
          "data": {
            "text/plain": [
              "139473483261312"
            ]
          },
          "metadata": {},
          "execution_count": 8
        }
      ]
    },
    {
      "cell_type": "code",
      "source": [
        "type(diccionario)"
      ],
      "metadata": {
        "colab": {
          "base_uri": "https://localhost:8080/"
        },
        "id": "l2KvmNrO4xdO",
        "outputId": "6666c43e-6f48-49bc-85ca-deebfb3551e5"
      },
      "execution_count": 9,
      "outputs": [
        {
          "output_type": "execute_result",
          "data": {
            "text/plain": [
              "dict"
            ]
          },
          "metadata": {},
          "execution_count": 9
        }
      ]
    },
    {
      "cell_type": "code",
      "source": [
        "diccionario"
      ],
      "metadata": {
        "colab": {
          "base_uri": "https://localhost:8080/"
        },
        "id": "xe2KruAF40Pe",
        "outputId": "1df27e42-0c72-4aec-b47b-a411f0fc4892"
      },
      "execution_count": 10,
      "outputs": [
        {
          "output_type": "execute_result",
          "data": {
            "text/plain": [
              "{'nombre': 'Juan'}"
            ]
          },
          "metadata": {},
          "execution_count": 10
        }
      ]
    },
    {
      "cell_type": "code",
      "source": [
        "dict_nuevo = diccionario"
      ],
      "metadata": {
        "id": "mXNnNmzw41hP"
      },
      "execution_count": 11,
      "outputs": []
    },
    {
      "cell_type": "code",
      "source": [
        "id(dict_nuevo)"
      ],
      "metadata": {
        "colab": {
          "base_uri": "https://localhost:8080/"
        },
        "id": "j1uDKLaT46Kv",
        "outputId": "19ae1c13-b612-470e-d9b0-352bf973f194"
      },
      "execution_count": 12,
      "outputs": [
        {
          "output_type": "execute_result",
          "data": {
            "text/plain": [
              "139473483261312"
            ]
          },
          "metadata": {},
          "execution_count": 12
        }
      ]
    },
    {
      "cell_type": "code",
      "source": [
        "dict_nuevo[\"edad\"] = 34"
      ],
      "metadata": {
        "id": "9ZfZuBaO48Jx"
      },
      "execution_count": 13,
      "outputs": []
    },
    {
      "cell_type": "code",
      "source": [
        "dict_nuevo"
      ],
      "metadata": {
        "colab": {
          "base_uri": "https://localhost:8080/"
        },
        "id": "SWU7AsBp5JWw",
        "outputId": "8f9077b2-a0f8-422e-8166-de46c8596eaa"
      },
      "execution_count": 14,
      "outputs": [
        {
          "output_type": "execute_result",
          "data": {
            "text/plain": [
              "{'nombre': 'Juan', 'edad': 34}"
            ]
          },
          "metadata": {},
          "execution_count": 14
        }
      ]
    },
    {
      "cell_type": "code",
      "source": [
        "diccionario"
      ],
      "metadata": {
        "colab": {
          "base_uri": "https://localhost:8080/"
        },
        "id": "jNMSenSM5Krh",
        "outputId": "718770b4-3804-4a56-9994-9055dca26adc"
      },
      "execution_count": 15,
      "outputs": [
        {
          "output_type": "execute_result",
          "data": {
            "text/plain": [
              "{'nombre': 'Juan', 'edad': 34}"
            ]
          },
          "metadata": {},
          "execution_count": 15
        }
      ]
    },
    {
      "cell_type": "code",
      "source": [
        "diccionario[\"peso\"] = 56"
      ],
      "metadata": {
        "id": "qwFVPy2Q5NYQ"
      },
      "execution_count": 16,
      "outputs": []
    },
    {
      "cell_type": "code",
      "source": [
        "dict_nuevo"
      ],
      "metadata": {
        "colab": {
          "base_uri": "https://localhost:8080/"
        },
        "id": "M0nHSiYJ5RBS",
        "outputId": "69e165e0-c602-499e-a4bc-cf573be86c5b"
      },
      "execution_count": 17,
      "outputs": [
        {
          "output_type": "execute_result",
          "data": {
            "text/plain": [
              "{'nombre': 'Juan', 'edad': 34, 'peso': 56}"
            ]
          },
          "metadata": {},
          "execution_count": 17
        }
      ]
    },
    {
      "cell_type": "code",
      "source": [
        "estructura = {\n",
        "    \"nombre\" : \"plataforma-2\",\n",
        "    \"user\" : \"system\",\n",
        "    \"file\" : \"config.txt\"\n",
        "}\n",
        "\n",
        "\n",
        "lista_estructura = []\n",
        "\n",
        "\n",
        "# 0 --> tal cual esta\n",
        "# 1 --> sin user\n",
        "# 2 --> sin file\n",
        "\n",
        "\n",
        "lista_estructura.append(estructura)\n",
        "\n",
        "print(lista_estructura)\n",
        "\n",
        "dict_indice_1 = estructura\n",
        "\n",
        "del dict_indice_1[\"user\"]\n",
        "\n",
        "lista_estructura.append(dict_indice_1)\n",
        "\n",
        "print(lista_estructura)\n"
      ],
      "metadata": {
        "colab": {
          "base_uri": "https://localhost:8080/"
        },
        "id": "A21TYeda5SKx",
        "outputId": "351f4654-4a58-4c2d-baa1-c23ab91530ea"
      },
      "execution_count": 19,
      "outputs": [
        {
          "output_type": "stream",
          "name": "stdout",
          "text": [
            "[{'nombre': 'plataforma-2', 'user': 'system', 'file': 'config.txt'}]\n",
            "[{'nombre': 'plataforma-2', 'file': 'config.txt'}, {'nombre': 'plataforma-2', 'file': 'config.txt'}]\n"
          ]
        }
      ]
    },
    {
      "cell_type": "code",
      "source": [
        "# listas\n",
        "\n",
        "lista1 = [1, 2, 3]\n",
        "lista1"
      ],
      "metadata": {
        "colab": {
          "base_uri": "https://localhost:8080/"
        },
        "id": "mPhvjhPk6IRl",
        "outputId": "b15141cc-afa1-4746-d11f-5192c34d68e3"
      },
      "execution_count": 36,
      "outputs": [
        {
          "output_type": "execute_result",
          "data": {
            "text/plain": [
              "[1, 2, 3]"
            ]
          },
          "metadata": {},
          "execution_count": 36
        }
      ]
    },
    {
      "cell_type": "code",
      "source": [
        "id(lista1)"
      ],
      "metadata": {
        "colab": {
          "base_uri": "https://localhost:8080/"
        },
        "id": "A0lK2HOB_6xd",
        "outputId": "0188a2bf-5853-467a-a4dd-e73aeca81668"
      },
      "execution_count": 37,
      "outputs": [
        {
          "output_type": "execute_result",
          "data": {
            "text/plain": [
              "139473260991104"
            ]
          },
          "metadata": {},
          "execution_count": 37
        }
      ]
    },
    {
      "cell_type": "code",
      "source": [
        "lista2 = lista1"
      ],
      "metadata": {
        "id": "ecZNTZqg8Mfe"
      },
      "execution_count": 38,
      "outputs": []
    },
    {
      "cell_type": "code",
      "source": [
        "id(lista2)"
      ],
      "metadata": {
        "colab": {
          "base_uri": "https://localhost:8080/"
        },
        "id": "c0x-ECkU_9PD",
        "outputId": "f7449ecf-537d-44bb-f80f-f20d940b942d"
      },
      "execution_count": 39,
      "outputs": [
        {
          "output_type": "execute_result",
          "data": {
            "text/plain": [
              "139473260991104"
            ]
          },
          "metadata": {},
          "execution_count": 39
        }
      ]
    },
    {
      "cell_type": "code",
      "source": [
        "lista3 = [1, 2, 3]\n",
        "lista3"
      ],
      "metadata": {
        "colab": {
          "base_uri": "https://localhost:8080/"
        },
        "id": "aVePp_lt9edB",
        "outputId": "f81bd6f2-fbe6-4d84-c8c1-877cdaaa00c3"
      },
      "execution_count": 40,
      "outputs": [
        {
          "output_type": "execute_result",
          "data": {
            "text/plain": [
              "[1, 2, 3]"
            ]
          },
          "metadata": {},
          "execution_count": 40
        }
      ]
    },
    {
      "cell_type": "code",
      "source": [
        "id(lista3)"
      ],
      "metadata": {
        "colab": {
          "base_uri": "https://localhost:8080/"
        },
        "id": "bU-A6zkqAJYr",
        "outputId": "f50b9efb-2953-4d35-b7d6-2057d7a838ab"
      },
      "execution_count": 41,
      "outputs": [
        {
          "output_type": "execute_result",
          "data": {
            "text/plain": [
              "139473481532096"
            ]
          },
          "metadata": {},
          "execution_count": 41
        }
      ]
    },
    {
      "cell_type": "code",
      "source": [
        "lista2.append(6)\n",
        "lista2"
      ],
      "metadata": {
        "colab": {
          "base_uri": "https://localhost:8080/"
        },
        "id": "DBk95Wgy8O7-",
        "outputId": "530353dd-2745-4527-a25e-d32161dd5463"
      },
      "execution_count": 42,
      "outputs": [
        {
          "output_type": "execute_result",
          "data": {
            "text/plain": [
              "[1, 2, 3, 6]"
            ]
          },
          "metadata": {},
          "execution_count": 42
        }
      ]
    },
    {
      "cell_type": "code",
      "source": [
        "lista1"
      ],
      "metadata": {
        "colab": {
          "base_uri": "https://localhost:8080/"
        },
        "id": "ceVBT6jW8Rju",
        "outputId": "67015c3d-9873-4b0b-e82b-5db33724fd20"
      },
      "execution_count": 43,
      "outputs": [
        {
          "output_type": "execute_result",
          "data": {
            "text/plain": [
              "[1, 2, 3, 6]"
            ]
          },
          "metadata": {},
          "execution_count": 43
        }
      ]
    },
    {
      "cell_type": "code",
      "source": [
        "a = 5"
      ],
      "metadata": {
        "id": "4KzP3kQX8Sxf"
      },
      "execution_count": 29,
      "outputs": []
    },
    {
      "cell_type": "code",
      "source": [
        "id(a)"
      ],
      "metadata": {
        "colab": {
          "base_uri": "https://localhost:8080/"
        },
        "id": "gQOIcT6i_Mty",
        "outputId": "2164f562-9268-4778-8ffa-640040b60163"
      },
      "execution_count": 31,
      "outputs": [
        {
          "output_type": "execute_result",
          "data": {
            "text/plain": [
              "10750984"
            ]
          },
          "metadata": {},
          "execution_count": 31
        }
      ]
    },
    {
      "cell_type": "code",
      "source": [
        "b = a"
      ],
      "metadata": {
        "id": "ZbI1IC3r-Td5"
      },
      "execution_count": 27,
      "outputs": []
    },
    {
      "cell_type": "code",
      "source": [
        "id(b)"
      ],
      "metadata": {
        "colab": {
          "base_uri": "https://localhost:8080/"
        },
        "id": "MD7QrIp__Xtw",
        "outputId": "881624df-c347-44b8-87d0-a89f5f585a50"
      },
      "execution_count": 32,
      "outputs": [
        {
          "output_type": "execute_result",
          "data": {
            "text/plain": [
              "10750984"
            ]
          },
          "metadata": {},
          "execution_count": 32
        }
      ]
    },
    {
      "cell_type": "code",
      "source": [
        "c = 5"
      ],
      "metadata": {
        "id": "57LKVqRa-Uzi"
      },
      "execution_count": 28,
      "outputs": []
    },
    {
      "cell_type": "code",
      "source": [
        "id(c)"
      ],
      "metadata": {
        "colab": {
          "base_uri": "https://localhost:8080/"
        },
        "id": "1d1q94Pf-hgM",
        "outputId": "d823a83f-ee4e-4845-c8c0-5e949084288b"
      },
      "execution_count": 33,
      "outputs": [
        {
          "output_type": "execute_result",
          "data": {
            "text/plain": [
              "10750984"
            ]
          },
          "metadata": {},
          "execution_count": 33
        }
      ]
    },
    {
      "cell_type": "markdown",
      "source": [
        "Diccionarios"
      ],
      "metadata": {
        "id": "rps2BnN3A1xQ"
      }
    },
    {
      "cell_type": "code",
      "source": [
        "foo = {\n",
        "    \"nombre\": \"Juan\",\n",
        "    \"edad\": 67\n",
        "}"
      ],
      "metadata": {
        "id": "Z5GDnx16_lIG"
      },
      "execution_count": 44,
      "outputs": []
    },
    {
      "cell_type": "code",
      "source": [
        "id(foo)"
      ],
      "metadata": {
        "colab": {
          "base_uri": "https://localhost:8080/"
        },
        "id": "ZggQ3-edBAsF",
        "outputId": "cd2391aa-2f06-4036-c1ad-93a27b36fb27"
      },
      "execution_count": 45,
      "outputs": [
        {
          "output_type": "execute_result",
          "data": {
            "text/plain": [
              "139473483394240"
            ]
          },
          "metadata": {},
          "execution_count": 45
        }
      ]
    },
    {
      "cell_type": "code",
      "source": [
        "bar = foo"
      ],
      "metadata": {
        "id": "7QxLFPo4BB81"
      },
      "execution_count": 47,
      "outputs": []
    },
    {
      "cell_type": "code",
      "source": [
        "id(bar)"
      ],
      "metadata": {
        "colab": {
          "base_uri": "https://localhost:8080/"
        },
        "id": "4kQ4EOr7BEFK",
        "outputId": "4ee1c8db-cf65-4786-dc2b-1d8d3e1a8f63"
      },
      "execution_count": 48,
      "outputs": [
        {
          "output_type": "execute_result",
          "data": {
            "text/plain": [
              "139473483394240"
            ]
          },
          "metadata": {},
          "execution_count": 48
        }
      ]
    },
    {
      "cell_type": "code",
      "source": [
        "bar[\"nombre\"] = \"pepe\""
      ],
      "metadata": {
        "id": "JQC5wbEaBMsu"
      },
      "execution_count": 49,
      "outputs": []
    },
    {
      "cell_type": "code",
      "source": [
        "id(bar) == id(foo)"
      ],
      "metadata": {
        "colab": {
          "base_uri": "https://localhost:8080/"
        },
        "id": "ehsF5TWABPzF",
        "outputId": "68f7f6e4-0e93-4aa9-cbea-dcc9c271c031"
      },
      "execution_count": 50,
      "outputs": [
        {
          "output_type": "execute_result",
          "data": {
            "text/plain": [
              "True"
            ]
          },
          "metadata": {},
          "execution_count": 50
        }
      ]
    },
    {
      "cell_type": "code",
      "source": [
        "estructura = {\n",
        "    \"nombre\" : \"plataforma-2\",\n",
        "    \"user\" : \"system\",\n",
        "    \"file\" : \"config.txt\"\n",
        "}\n",
        "\n",
        "\n",
        "lista_estructura = []\n",
        "\n",
        "\n",
        "# 0 --> tal cual esta\n",
        "# 1 --> sin user\n",
        "# 2 --> sin file\n",
        "\n",
        "\n",
        "lista_estructura.append(estructura)\n",
        "print(lista_estructura)\n",
        "#\n",
        "dict_indice_1 = estructura\n",
        "#\n",
        "dict_indice_1[\"path\"] = \"/tmp\"\n",
        "\n",
        "print(\"dict_indice_1 :\", dict_indice_1)\n",
        "print(\"estructura :\", estructura)\n",
        "\n",
        "\n",
        "del dict_indice_1[\"user\"]\n",
        "print(\"Despues del del\")\n",
        "print(\"dict_indice_1 :\", dict_indice_1)\n",
        "print(\"estructura :\", estructura)\n",
        "\n",
        "\n",
        "# lista_estructura.append(dict_indice_1)\n",
        "#\n",
        "# print(lista_estructura)"
      ],
      "metadata": {
        "colab": {
          "base_uri": "https://localhost:8080/"
        },
        "id": "Y5FM5QbGBUoV",
        "outputId": "7dba979c-d2f9-42b9-84e5-fef194b3e96a"
      },
      "execution_count": 55,
      "outputs": [
        {
          "output_type": "stream",
          "name": "stdout",
          "text": [
            "[{'nombre': 'plataforma-2', 'user': 'system', 'file': 'config.txt'}]\n",
            "dict_indice_1 : {'nombre': 'plataforma-2', 'user': 'system', 'file': 'config.txt', 'path': '/tmp'}\n",
            "estructura : {'nombre': 'plataforma-2', 'user': 'system', 'file': 'config.txt', 'path': '/tmp'}\n",
            "Despues del del\n",
            "dict_indice_1 : {'nombre': 'plataforma-2', 'file': 'config.txt', 'path': '/tmp'}\n",
            "estructura : {'nombre': 'plataforma-2', 'file': 'config.txt', 'path': '/tmp'}\n"
          ]
        }
      ]
    },
    {
      "cell_type": "code",
      "source": [
        "diccionario_nuevo = {}\n",
        "for value, item in estructura.items():\n",
        "  diccionario_nuevo[value] = item\n",
        "\n",
        "diccionario_nuevo"
      ],
      "metadata": {
        "colab": {
          "base_uri": "https://localhost:8080/"
        },
        "id": "DTm-cDDWB7hV",
        "outputId": "64e2671c-a9bb-4b36-85e0-eb51f3327139"
      },
      "execution_count": 56,
      "outputs": [
        {
          "output_type": "execute_result",
          "data": {
            "text/plain": [
              "{'nombre': 'plataforma-2', 'file': 'config.txt', 'path': '/tmp'}"
            ]
          },
          "metadata": {},
          "execution_count": 56
        }
      ]
    },
    {
      "cell_type": "code",
      "source": [
        "del diccionario_nuevo[\"file\"]\n",
        "\n",
        "print(diccionario_nuevo)\n",
        "print(estructura)"
      ],
      "metadata": {
        "colab": {
          "base_uri": "https://localhost:8080/"
        },
        "id": "7UnsJ4ooEQUZ",
        "outputId": "46952ae8-ade8-4222-ff6b-7ca800824d4f"
      },
      "execution_count": 57,
      "outputs": [
        {
          "output_type": "stream",
          "name": "stdout",
          "text": [
            "{'nombre': 'plataforma-2', 'path': '/tmp'}\n",
            "{'nombre': 'plataforma-2', 'file': 'config.txt', 'path': '/tmp'}\n"
          ]
        }
      ]
    },
    {
      "cell_type": "code",
      "source": [
        "diccionario_nuevo = estructura.copy()"
      ],
      "metadata": {
        "id": "u5RQlQl4EYW4"
      },
      "execution_count": 58,
      "outputs": []
    },
    {
      "cell_type": "code",
      "source": [
        "diccionario_nuevo"
      ],
      "metadata": {
        "colab": {
          "base_uri": "https://localhost:8080/"
        },
        "id": "gHaf8DtTEiJ4",
        "outputId": "01b1687d-3e4a-45d4-dfc9-f1b5ca690304"
      },
      "execution_count": 59,
      "outputs": [
        {
          "output_type": "execute_result",
          "data": {
            "text/plain": [
              "{'nombre': 'plataforma-2', 'file': 'config.txt', 'path': '/tmp'}"
            ]
          },
          "metadata": {},
          "execution_count": 59
        }
      ]
    },
    {
      "cell_type": "code",
      "source": [],
      "metadata": {
        "id": "X9ZH8VKhEjaX"
      },
      "execution_count": null,
      "outputs": []
    },
    {
      "cell_type": "markdown",
      "source": [
        "Crear un diccionario con los datos de las personas\n",
        "\n",
        "* Nombre: str\n",
        "* Apellido: str\n",
        "\n",
        "* Direccion: object\n",
        "   * Calle\n",
        "   * Numero\n",
        "   * piso\n",
        "   * CP\n",
        "\n",
        "\n",
        "**ingresar 5 valores -- estructuras de datos de las personas**"
      ],
      "metadata": {
        "id": "WTW90y7bFcWb"
      }
    },
    {
      "cell_type": "markdown",
      "source": [
        "# metodos de diccionarios"
      ],
      "metadata": {
        "id": "McbCadVTT2cT"
      }
    },
    {
      "cell_type": "code",
      "source": [
        "# leer - get"
      ],
      "metadata": {
        "id": "yK9yD7PTFxVN"
      },
      "execution_count": null,
      "outputs": []
    },
    {
      "cell_type": "markdown",
      "source": [
        "Funciones"
      ],
      "metadata": {
        "id": "aQEF2AC6a8wJ"
      }
    },
    {
      "cell_type": "code",
      "source": [
        "lista = [0,1,2,3,4,5,6,7,8,9]"
      ],
      "metadata": {
        "id": "u37EEwUFa_G9"
      },
      "execution_count": 60,
      "outputs": []
    },
    {
      "cell_type": "code",
      "source": [
        "lista"
      ],
      "metadata": {
        "colab": {
          "base_uri": "https://localhost:8080/"
        },
        "id": "Rz15m1qBiBq9",
        "outputId": "5ba82571-c4dd-4ba8-957e-5323f42dffb2"
      },
      "execution_count": 68,
      "outputs": [
        {
          "output_type": "execute_result",
          "data": {
            "text/plain": [
              "[0, 1, 2, 3, 4, 5]"
            ]
          },
          "metadata": {},
          "execution_count": 68
        }
      ]
    },
    {
      "cell_type": "code",
      "source": [
        "lista.pop()"
      ],
      "metadata": {
        "colab": {
          "base_uri": "https://localhost:8080/"
        },
        "id": "dtK0k_GObCk3",
        "outputId": "74e3b975-0cdc-4a89-aa0a-0348f07c1af5"
      },
      "execution_count": 61,
      "outputs": [
        {
          "output_type": "execute_result",
          "data": {
            "text/plain": [
              "9"
            ]
          },
          "metadata": {},
          "execution_count": 61
        }
      ]
    },
    {
      "cell_type": "code",
      "source": [
        "lista.pop()"
      ],
      "metadata": {
        "colab": {
          "base_uri": "https://localhost:8080/"
        },
        "id": "jTCuy_lDbQe3",
        "outputId": "97324339-b8f1-4f7c-e745-4d9b1e6df2b5"
      },
      "execution_count": 62,
      "outputs": [
        {
          "output_type": "execute_result",
          "data": {
            "text/plain": [
              "8"
            ]
          },
          "metadata": {},
          "execution_count": 62
        }
      ]
    },
    {
      "cell_type": "code",
      "source": [
        "lista.pop()"
      ],
      "metadata": {
        "colab": {
          "base_uri": "https://localhost:8080/"
        },
        "id": "TBsrCcB0bXN3",
        "outputId": "3bc96b6f-efab-433b-cf5c-fcd449918fcf"
      },
      "execution_count": 63,
      "outputs": [
        {
          "output_type": "execute_result",
          "data": {
            "text/plain": [
              "7"
            ]
          },
          "metadata": {},
          "execution_count": 63
        }
      ]
    },
    {
      "cell_type": "code",
      "source": [
        "lista.pop()"
      ],
      "metadata": {
        "colab": {
          "base_uri": "https://localhost:8080/"
        },
        "id": "O_V5NM13bbJI",
        "outputId": "19f4b117-93f3-4b34-862f-edd1e8f076be"
      },
      "execution_count": 64,
      "outputs": [
        {
          "output_type": "execute_result",
          "data": {
            "text/plain": [
              "6"
            ]
          },
          "metadata": {},
          "execution_count": 64
        }
      ]
    },
    {
      "cell_type": "code",
      "source": [
        "def saludar_nombre(nombre):\n",
        "  print(f\"Hola {nombre}\")\n",
        "  return"
      ],
      "metadata": {
        "id": "j2QxkFrEbdc3"
      },
      "execution_count": 76,
      "outputs": []
    },
    {
      "cell_type": "code",
      "source": [
        "saludar_nombre(\"Juan\")"
      ],
      "metadata": {
        "colab": {
          "base_uri": "https://localhost:8080/"
        },
        "id": "SMbkZMnjhtSE",
        "outputId": "699ecce2-d0fa-447e-9a53-e4492dee3731"
      },
      "execution_count": 66,
      "outputs": [
        {
          "output_type": "stream",
          "name": "stdout",
          "text": [
            "Hola Juan\n"
          ]
        }
      ]
    },
    {
      "cell_type": "code",
      "source": [
        "print(saludar_nombre(\"Juan\"))"
      ],
      "metadata": {
        "colab": {
          "base_uri": "https://localhost:8080/"
        },
        "id": "V-_euLLrhwCE",
        "outputId": "9b8906a4-2826-46ee-bc17-29d4e331cb91"
      },
      "execution_count": 77,
      "outputs": [
        {
          "output_type": "stream",
          "name": "stdout",
          "text": [
            "Hola Juan\n",
            "4\n"
          ]
        }
      ]
    },
    {
      "cell_type": "code",
      "source": [
        "def sumar(a,b):\n",
        "  print(a + b)\n",
        "  return a + b"
      ],
      "metadata": {
        "id": "p4ftHyWUh0Pk"
      },
      "execution_count": 70,
      "outputs": []
    },
    {
      "cell_type": "code",
      "source": [
        "print(sumar(2,3))  # el print lo que imprime es lo que retorna la funcion\n"
      ],
      "metadata": {
        "colab": {
          "base_uri": "https://localhost:8080/"
        },
        "id": "pRfP0WsHidHE",
        "outputId": "cff173a3-f42d-4dbd-8103-bc7efc10f5f3"
      },
      "execution_count": 73,
      "outputs": [
        {
          "output_type": "stream",
          "name": "stdout",
          "text": [
            "5\n",
            "5\n"
          ]
        }
      ]
    },
    {
      "cell_type": "code",
      "source": [],
      "metadata": {
        "id": "mEBCO-fVilhT"
      },
      "execution_count": null,
      "outputs": []
    }
  ]
}