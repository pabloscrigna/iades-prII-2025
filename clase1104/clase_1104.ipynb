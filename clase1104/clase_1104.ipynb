{
  "nbformat": 4,
  "nbformat_minor": 0,
  "metadata": {
    "colab": {
      "provenance": []
    },
    "kernelspec": {
      "name": "python3",
      "display_name": "Python 3"
    },
    "language_info": {
      "name": "python"
    }
  },
  "cells": [
    {
      "cell_type": "markdown",
      "source": [
        "Diccionarios"
      ],
      "metadata": {
        "id": "0gsUJM186Uef"
      }
    },
    {
      "cell_type": "markdown",
      "source": [
        "Introducción"
      ],
      "metadata": {
        "id": "H9EU71RM6hsr"
      }
    },
    {
      "cell_type": "markdown",
      "source": [
        "Los diccionarios en Python son estructuras de datos que permiten almacenar colecciones de pares clave-valor. A diferencia de las listas y tuplas, que son secuencias de elementos, los diccionarios son colecciones no ordenadas, lo que significa que no mantienen el orden de inserción de los elementos. Cada clave en un diccionario es única y se utiliza para acceder a su valor correspondiente de manera rápida y eficiente."
      ],
      "metadata": {
        "id": "YmSiCzdl6k6G"
      }
    },
    {
      "cell_type": "markdown",
      "source": [
        "Para definir un diccionario en Python, se utilizan llaves {} y los pares clave-valor se separan por comas, con la clave y el valor separados por dos puntos *:*.\n",
        "\n",
        "A continuación, se presentan algunos ejemplos de cómo definir y utilizar diccionarios:"
      ],
      "metadata": {
        "id": "nD-3CsnU60yn"
      }
    },
    {
      "cell_type": "code",
      "source": [
        "# diccionario\n",
        "\n",
        "foo = {}"
      ],
      "metadata": {
        "id": "gNqRGnJT6yFN"
      },
      "execution_count": null,
      "outputs": []
    },
    {
      "cell_type": "code",
      "execution_count": null,
      "metadata": {
        "colab": {
          "base_uri": "https://localhost:8080/"
        },
        "id": "jwF1Ln2V6FAR",
        "outputId": "c41eeb45-726d-4a2f-90bb-995e6787ff7f"
      },
      "outputs": [
        {
          "output_type": "execute_result",
          "data": {
            "text/plain": [
              "dict"
            ]
          },
          "metadata": {},
          "execution_count": 24
        }
      ],
      "source": [
        "type(foo)"
      ]
    },
    {
      "cell_type": "code",
      "source": [
        "# otra forma de definir un diccionario\n",
        "foo = dict()"
      ],
      "metadata": {
        "id": "zoDJ-4rh6-8V"
      },
      "execution_count": null,
      "outputs": []
    },
    {
      "cell_type": "code",
      "source": [
        "type(foo)"
      ],
      "metadata": {
        "colab": {
          "base_uri": "https://localhost:8080/"
        },
        "id": "sOz49fT_7JQD",
        "outputId": "397ceeb6-ad89-4f17-bae3-6f05821ba744"
      },
      "execution_count": null,
      "outputs": [
        {
          "output_type": "execute_result",
          "data": {
            "text/plain": [
              "dict"
            ]
          },
          "metadata": {},
          "execution_count": 26
        }
      ]
    },
    {
      "cell_type": "code",
      "source": [
        "# definir un diccionario con datos\n",
        "\n",
        "foo = {\n",
        "    \"nombre\" : \"Juan\",\n",
        "    \"edad\": 34,\n",
        "    \"peso\": 43.7,\n",
        "    \"altura\": 1.78,\n",
        "    \"activo\": True,\n",
        "    \"permisos\": [\"lectura\"]\n",
        "}\n",
        "foo"
      ],
      "metadata": {
        "colab": {
          "base_uri": "https://localhost:8080/"
        },
        "id": "KJnL7QFM7Kci",
        "outputId": "ef6178c9-a3f6-45ae-ebfe-d5891de75048"
      },
      "execution_count": null,
      "outputs": [
        {
          "output_type": "execute_result",
          "data": {
            "text/plain": [
              "{'nombre': 'Juan',\n",
              " 'edad': 34,\n",
              " 'peso': 43.7,\n",
              " 'altura': 1.78,\n",
              " 'activo': True,\n",
              " 'permisos': ['lectura']}"
            ]
          },
          "metadata": {},
          "execution_count": 27
        }
      ]
    },
    {
      "cell_type": "code",
      "source": [
        "# acceso a los datos\n",
        "\n",
        "foo[\"nombre\"]"
      ],
      "metadata": {
        "colab": {
          "base_uri": "https://localhost:8080/",
          "height": 36
        },
        "id": "ZyZr_lE47qSj",
        "outputId": "61cc1b3e-d546-451f-d03a-00467f440cf6"
      },
      "execution_count": null,
      "outputs": [
        {
          "output_type": "execute_result",
          "data": {
            "text/plain": [
              "'Juan'"
            ],
            "application/vnd.google.colaboratory.intrinsic+json": {
              "type": "string"
            }
          },
          "metadata": {},
          "execution_count": 28
        }
      ]
    },
    {
      "cell_type": "code",
      "source": [
        "foo[\"edad\"]"
      ],
      "metadata": {
        "colab": {
          "base_uri": "https://localhost:8080/"
        },
        "id": "SZcWeCT-73Ji",
        "outputId": "c8410930-ab65-47c3-caa5-6a4fe3c42ef4"
      },
      "execution_count": null,
      "outputs": [
        {
          "output_type": "execute_result",
          "data": {
            "text/plain": [
              "34"
            ]
          },
          "metadata": {},
          "execution_count": 29
        }
      ]
    },
    {
      "cell_type": "code",
      "source": [
        "# si la clave no esta? ---> da error\n",
        "foo[\"dni\"]"
      ],
      "metadata": {
        "colab": {
          "base_uri": "https://localhost:8080/",
          "height": 158
        },
        "id": "Xb9r5-s175yj",
        "outputId": "e272301c-3329-4908-d73a-9c3d816e103a"
      },
      "execution_count": null,
      "outputs": [
        {
          "output_type": "error",
          "ename": "KeyError",
          "evalue": "'dni'",
          "traceback": [
            "\u001b[0;31m---------------------------------------------------------------------------\u001b[0m",
            "\u001b[0;31mKeyError\u001b[0m                                  Traceback (most recent call last)",
            "\u001b[0;32m<ipython-input-8-f3a8a7e04073>\u001b[0m in \u001b[0;36m<cell line: 0>\u001b[0;34m()\u001b[0m\n\u001b[1;32m      1\u001b[0m \u001b[0;31m# si la clave no esta?\u001b[0m\u001b[0;34m\u001b[0m\u001b[0;34m\u001b[0m\u001b[0m\n\u001b[0;32m----> 2\u001b[0;31m \u001b[0mfoo\u001b[0m\u001b[0;34m[\u001b[0m\u001b[0;34m\"dni\"\u001b[0m\u001b[0;34m]\u001b[0m\u001b[0;34m\u001b[0m\u001b[0;34m\u001b[0m\u001b[0m\n\u001b[0m",
            "\u001b[0;31mKeyError\u001b[0m: 'dni'"
          ]
        }
      ]
    },
    {
      "cell_type": "code",
      "source": [
        "# Modificando los valores\n",
        "\n",
        "foo[\"nombre\"] = \"Pedro\""
      ],
      "metadata": {
        "id": "-JUSOUaG8AWC"
      },
      "execution_count": null,
      "outputs": []
    },
    {
      "cell_type": "code",
      "source": [
        "foo"
      ],
      "metadata": {
        "colab": {
          "base_uri": "https://localhost:8080/"
        },
        "id": "Ec24e2LF8Nxy",
        "outputId": "af8d8ca6-bf66-4806-fd57-e7e6d062a878"
      },
      "execution_count": null,
      "outputs": [
        {
          "output_type": "execute_result",
          "data": {
            "text/plain": [
              "{'nombre': 'Pedro',\n",
              " 'edad': 34,\n",
              " 'peso': 43.7,\n",
              " 'altura': 1.78,\n",
              " 'activo': True,\n",
              " 'permisos': ['lectura']}"
            ]
          },
          "metadata": {},
          "execution_count": 31
        }
      ]
    },
    {
      "cell_type": "code",
      "source": [
        "foo[\"nombre\"] = 56"
      ],
      "metadata": {
        "id": "gScmGsup8OVC"
      },
      "execution_count": null,
      "outputs": []
    },
    {
      "cell_type": "code",
      "source": [
        "foo"
      ],
      "metadata": {
        "colab": {
          "base_uri": "https://localhost:8080/"
        },
        "id": "5KurVXO48bbh",
        "outputId": "374592f9-54bf-49a4-a14e-56b8d1d0d789"
      },
      "execution_count": null,
      "outputs": [
        {
          "output_type": "execute_result",
          "data": {
            "text/plain": [
              "{'nombre': 56,\n",
              " 'edad': 34,\n",
              " 'peso': 43.7,\n",
              " 'altura': 1.78,\n",
              " 'activo': True,\n",
              " 'permisos': ['lectura']}"
            ]
          },
          "metadata": {},
          "execution_count": 12
        }
      ]
    },
    {
      "cell_type": "code",
      "source": [
        "# Agregamos valores al diccionario\n",
        "\n",
        "foo = {}\n",
        "foo"
      ],
      "metadata": {
        "colab": {
          "base_uri": "https://localhost:8080/"
        },
        "id": "vYNtDF2d8cCS",
        "outputId": "ee233cf1-8c9a-4512-bff7-46adc217f90f"
      },
      "execution_count": null,
      "outputs": [
        {
          "output_type": "execute_result",
          "data": {
            "text/plain": [
              "{}"
            ]
          },
          "metadata": {},
          "execution_count": 32
        }
      ]
    },
    {
      "cell_type": "code",
      "source": [
        "foo[\"nombre\"] = \"Pedro\""
      ],
      "metadata": {
        "id": "lAvj7upu8nER"
      },
      "execution_count": null,
      "outputs": []
    },
    {
      "cell_type": "code",
      "source": [
        "foo[\"apellido\"] = \"Casas\""
      ],
      "metadata": {
        "id": "pWHTXEII8rBh"
      },
      "execution_count": null,
      "outputs": []
    },
    {
      "cell_type": "code",
      "source": [
        "foo[\"dni\"] = 343546657"
      ],
      "metadata": {
        "id": "XUyxC5y08uPx"
      },
      "execution_count": null,
      "outputs": []
    },
    {
      "cell_type": "code",
      "source": [
        "foo"
      ],
      "metadata": {
        "colab": {
          "base_uri": "https://localhost:8080/"
        },
        "id": "uw2296UX8w5T",
        "outputId": "8032f0af-983f-4085-f9dc-3a3ad407f960"
      },
      "execution_count": null,
      "outputs": [
        {
          "output_type": "execute_result",
          "data": {
            "text/plain": [
              "{'nombre': 'Pedro', 'apellido': 'Casas', 'dni': 343546657}"
            ]
          },
          "metadata": {},
          "execution_count": 36
        }
      ]
    },
    {
      "cell_type": "code",
      "source": [
        "foo[\"activo\"] = True"
      ],
      "metadata": {
        "id": "Y0sfNjDo8xrx"
      },
      "execution_count": null,
      "outputs": []
    },
    {
      "cell_type": "code",
      "source": [
        "foo"
      ],
      "metadata": {
        "colab": {
          "base_uri": "https://localhost:8080/"
        },
        "id": "xNWeIGFm81J1",
        "outputId": "c06d8c57-169d-4036-a2e2-68f2d058db57"
      },
      "execution_count": null,
      "outputs": [
        {
          "output_type": "execute_result",
          "data": {
            "text/plain": [
              "{'nombre': 'Pedro', 'apellido': 'Casas', 'dni': 343546657, 'activo': True}"
            ]
          },
          "metadata": {},
          "execution_count": 19
        }
      ]
    },
    {
      "cell_type": "code",
      "source": [
        "# elimino un par-clave valor de mi diccionario\n",
        "\n",
        "foo"
      ],
      "metadata": {
        "colab": {
          "base_uri": "https://localhost:8080/"
        },
        "id": "CLvCmlCU81t1",
        "outputId": "10bc4c98-293f-4b9f-9285-0b344e5327ee"
      },
      "execution_count": null,
      "outputs": [
        {
          "output_type": "execute_result",
          "data": {
            "text/plain": [
              "{'nombre': 'Pedro', 'apellido': 'Casas', 'dni': 343546657, 'activo': True}"
            ]
          },
          "metadata": {},
          "execution_count": 20
        }
      ]
    },
    {
      "cell_type": "code",
      "source": [
        "del foo[\"activo\"]"
      ],
      "metadata": {
        "colab": {
          "base_uri": "https://localhost:8080/",
          "height": 141
        },
        "id": "kiKW6nDu89rB",
        "outputId": "220c4345-6cb3-47e2-eac4-184fa9b50d92"
      },
      "execution_count": null,
      "outputs": [
        {
          "output_type": "error",
          "ename": "KeyError",
          "evalue": "'activo'",
          "traceback": [
            "\u001b[0;31m---------------------------------------------------------------------------\u001b[0m",
            "\u001b[0;31mKeyError\u001b[0m                                  Traceback (most recent call last)",
            "\u001b[0;32m<ipython-input-39-d537eedbaffe>\u001b[0m in \u001b[0;36m<cell line: 0>\u001b[0;34m()\u001b[0m\n\u001b[0;32m----> 1\u001b[0;31m \u001b[0;32mdel\u001b[0m \u001b[0mfoo\u001b[0m\u001b[0;34m[\u001b[0m\u001b[0;34m\"activo\"\u001b[0m\u001b[0;34m]\u001b[0m\u001b[0;34m\u001b[0m\u001b[0;34m\u001b[0m\u001b[0m\n\u001b[0m",
            "\u001b[0;31mKeyError\u001b[0m: 'activo'"
          ]
        }
      ]
    },
    {
      "cell_type": "code",
      "source": [
        "foo"
      ],
      "metadata": {
        "colab": {
          "base_uri": "https://localhost:8080/"
        },
        "id": "yMNqa4ve9BRB",
        "outputId": "cbff7b1a-33fb-466b-b292-7daf46eb69d8"
      },
      "execution_count": null,
      "outputs": [
        {
          "output_type": "execute_result",
          "data": {
            "text/plain": [
              "{'nombre': 'Pedro', 'apellido': 'Casas', 'dni': 343546657}"
            ]
          },
          "metadata": {},
          "execution_count": 22
        }
      ]
    },
    {
      "cell_type": "code",
      "source": [
        "foo"
      ],
      "metadata": {
        "colab": {
          "base_uri": "https://localhost:8080/"
        },
        "id": "RxYMGx6G9CBR",
        "outputId": "d3d9d05e-2510-4cee-d171-c9a7c2d0d32d"
      },
      "execution_count": null,
      "outputs": [
        {
          "output_type": "execute_result",
          "data": {
            "text/plain": [
              "{'nombre': 'Pedro', 'apellido': 'Casas', 'dni': 343546657}"
            ]
          },
          "metadata": {},
          "execution_count": 40
        }
      ]
    },
    {
      "cell_type": "code",
      "source": [
        "foo[\"nombre\"]"
      ],
      "metadata": {
        "colab": {
          "base_uri": "https://localhost:8080/",
          "height": 36
        },
        "id": "l31vFtFN9qmw",
        "outputId": "8984cc64-1342-45d0-c10e-307744a73982"
      },
      "execution_count": null,
      "outputs": [
        {
          "output_type": "execute_result",
          "data": {
            "text/plain": [
              "'Pedro'"
            ],
            "application/vnd.google.colaboratory.intrinsic+json": {
              "type": "string"
            }
          },
          "metadata": {},
          "execution_count": 41
        }
      ]
    },
    {
      "cell_type": "code",
      "source": [
        "foo[\"nombre\"][0]"
      ],
      "metadata": {
        "colab": {
          "base_uri": "https://localhost:8080/",
          "height": 36
        },
        "id": "wYXsSdp_9uEQ",
        "outputId": "47bf2ca6-54e5-4fc3-bc5d-5d8e70ea368b"
      },
      "execution_count": null,
      "outputs": [
        {
          "output_type": "execute_result",
          "data": {
            "text/plain": [
              "'P'"
            ],
            "application/vnd.google.colaboratory.intrinsic+json": {
              "type": "string"
            }
          },
          "metadata": {},
          "execution_count": 42
        }
      ]
    },
    {
      "cell_type": "markdown",
      "source": [
        "Métodos de diccionarios"
      ],
      "metadata": {
        "id": "31EOcQIf926v"
      }
    },
    {
      "cell_type": "code",
      "source": [
        "foo"
      ],
      "metadata": {
        "colab": {
          "base_uri": "https://localhost:8080/"
        },
        "id": "Ydc7mGbl9yqQ",
        "outputId": "a4f54621-9cf6-406c-ddd9-8950cbcddbb5"
      },
      "execution_count": null,
      "outputs": [
        {
          "output_type": "execute_result",
          "data": {
            "text/plain": [
              "{'nombre': 'Pedro', 'apellido': 'Casas', 'dni': 343546657}"
            ]
          },
          "metadata": {},
          "execution_count": 43
        }
      ]
    },
    {
      "cell_type": "code",
      "source": [
        "foo[\"estado\"] = True"
      ],
      "metadata": {
        "id": "a1j7-m__97jQ"
      },
      "execution_count": null,
      "outputs": []
    },
    {
      "cell_type": "code",
      "source": [
        "foo"
      ],
      "metadata": {
        "colab": {
          "base_uri": "https://localhost:8080/"
        },
        "id": "9GofYJUZ9_ez",
        "outputId": "ddf7b624-fdbd-4581-bf0c-fac14e9af2c3"
      },
      "execution_count": null,
      "outputs": [
        {
          "output_type": "execute_result",
          "data": {
            "text/plain": [
              "{'nombre': 'Pedro', 'apellido': 'Casas', 'dni': 343546657, 'estado': True}"
            ]
          },
          "metadata": {},
          "execution_count": 45
        }
      ]
    },
    {
      "cell_type": "code",
      "source": [
        "# ver todas las claves (keys)\n",
        "foo.keys()"
      ],
      "metadata": {
        "colab": {
          "base_uri": "https://localhost:8080/"
        },
        "id": "5OPc7tZw-APA",
        "outputId": "ea366c2f-aaa1-4add-b2bb-4f6ef27ff05c"
      },
      "execution_count": null,
      "outputs": [
        {
          "output_type": "execute_result",
          "data": {
            "text/plain": [
              "dict_keys(['nombre', 'apellido', 'dni', 'estado'])"
            ]
          },
          "metadata": {},
          "execution_count": 46
        }
      ]
    },
    {
      "cell_type": "code",
      "source": [
        "# ver todos los valores de mi diccionario\n",
        "foo.values()"
      ],
      "metadata": {
        "colab": {
          "base_uri": "https://localhost:8080/"
        },
        "id": "onujjrD4-GYg",
        "outputId": "6efc68fb-0d6f-4deb-f9b9-6aaccb523f32"
      },
      "execution_count": null,
      "outputs": [
        {
          "output_type": "execute_result",
          "data": {
            "text/plain": [
              "dict_values(['Pedro', 'Casas', 343546657, True])"
            ]
          },
          "metadata": {},
          "execution_count": 47
        }
      ]
    },
    {
      "cell_type": "code",
      "source": [
        "type(foo.keys())"
      ],
      "metadata": {
        "colab": {
          "base_uri": "https://localhost:8080/"
        },
        "id": "KsoQk7vd-OYB",
        "outputId": "adc4f4f3-b187-40fe-b69b-53ad3e8df499"
      },
      "execution_count": null,
      "outputs": [
        {
          "output_type": "execute_result",
          "data": {
            "text/plain": [
              "dict_keys"
            ]
          },
          "metadata": {},
          "execution_count": 48
        }
      ]
    },
    {
      "cell_type": "code",
      "source": [
        "# Ver todos los pares clave-valor\n",
        "foo.items()"
      ],
      "metadata": {
        "colab": {
          "base_uri": "https://localhost:8080/"
        },
        "id": "1ThbCyik-W_f",
        "outputId": "08183d4f-b019-4b7e-a1bb-b1660c0b86af"
      },
      "execution_count": null,
      "outputs": [
        {
          "output_type": "execute_result",
          "data": {
            "text/plain": [
              "dict_items([('nombre', 'Pedro'), ('apellido', 'Casas'), ('dni', 343546657), ('estado', True)])"
            ]
          },
          "metadata": {},
          "execution_count": 50
        }
      ]
    },
    {
      "cell_type": "code",
      "source": [
        "# como leer una clave\n",
        "foo"
      ],
      "metadata": {
        "colab": {
          "base_uri": "https://localhost:8080/"
        },
        "id": "zwcNKswQ_Qx_",
        "outputId": "56820567-6950-4ac2-f0de-7c39e128b857"
      },
      "execution_count": null,
      "outputs": [
        {
          "output_type": "execute_result",
          "data": {
            "text/plain": [
              "{'nombre': 'Pedro', 'apellido': 'Casas', 'dni': 343546657, 'estado': True}"
            ]
          },
          "metadata": {},
          "execution_count": 51
        }
      ]
    },
    {
      "cell_type": "code",
      "source": [
        "foo[\"nombre\"]"
      ],
      "metadata": {
        "colab": {
          "base_uri": "https://localhost:8080/",
          "height": 36
        },
        "id": "46dUp3nL_fCf",
        "outputId": "6fba142e-e3d4-4af1-c43d-43c0c6302d06"
      },
      "execution_count": null,
      "outputs": [
        {
          "output_type": "execute_result",
          "data": {
            "text/plain": [
              "'Pedro'"
            ],
            "application/vnd.google.colaboratory.intrinsic+json": {
              "type": "string"
            }
          },
          "metadata": {},
          "execution_count": 52
        }
      ]
    },
    {
      "cell_type": "code",
      "source": [
        "foo[\"cursos\"]"
      ],
      "metadata": {
        "colab": {
          "base_uri": "https://localhost:8080/",
          "height": 141
        },
        "id": "paa7JA_N_hli",
        "outputId": "d381bd68-d680-4a83-b832-e4ef33a2871e"
      },
      "execution_count": null,
      "outputs": [
        {
          "output_type": "error",
          "ename": "KeyError",
          "evalue": "'cursos'",
          "traceback": [
            "\u001b[0;31m---------------------------------------------------------------------------\u001b[0m",
            "\u001b[0;31mKeyError\u001b[0m                                  Traceback (most recent call last)",
            "\u001b[0;32m<ipython-input-58-4e596781800f>\u001b[0m in \u001b[0;36m<cell line: 0>\u001b[0;34m()\u001b[0m\n\u001b[0;32m----> 1\u001b[0;31m \u001b[0mfoo\u001b[0m\u001b[0;34m[\u001b[0m\u001b[0;34m\"cursos\"\u001b[0m\u001b[0;34m]\u001b[0m\u001b[0;34m\u001b[0m\u001b[0;34m\u001b[0m\u001b[0m\n\u001b[0m",
            "\u001b[0;31mKeyError\u001b[0m: 'cursos'"
          ]
        }
      ]
    },
    {
      "cell_type": "code",
      "source": [
        "foo.get(\"nombre\")"
      ],
      "metadata": {
        "colab": {
          "base_uri": "https://localhost:8080/",
          "height": 36
        },
        "id": "9_0uibKQ_nku",
        "outputId": "8ad3afff-d397-438b-d2a7-f7c85bcc230d"
      },
      "execution_count": null,
      "outputs": [
        {
          "output_type": "execute_result",
          "data": {
            "text/plain": [
              "'Pedro'"
            ],
            "application/vnd.google.colaboratory.intrinsic+json": {
              "type": "string"
            }
          },
          "metadata": {},
          "execution_count": 54
        }
      ]
    },
    {
      "cell_type": "code",
      "source": [
        "foo.get(\"estado\")"
      ],
      "metadata": {
        "colab": {
          "base_uri": "https://localhost:8080/"
        },
        "id": "PLHmsGdm_r0O",
        "outputId": "e900ab24-8423-40bf-b3be-ef8147fb9184"
      },
      "execution_count": null,
      "outputs": [
        {
          "output_type": "execute_result",
          "data": {
            "text/plain": [
              "True"
            ]
          },
          "metadata": {},
          "execution_count": 55
        }
      ]
    },
    {
      "cell_type": "code",
      "source": [
        "print(foo.get(\"cursos\"))"
      ],
      "metadata": {
        "colab": {
          "base_uri": "https://localhost:8080/"
        },
        "id": "KlHp7ZnH_twe",
        "outputId": "4774ae1a-cbfd-4496-e865-15cbfad414f0"
      },
      "execution_count": null,
      "outputs": [
        {
          "output_type": "stream",
          "name": "stdout",
          "text": [
            "None\n"
          ]
        }
      ]
    },
    {
      "cell_type": "code",
      "source": [
        "foo.get(\"cursos\", [])"
      ],
      "metadata": {
        "colab": {
          "base_uri": "https://localhost:8080/"
        },
        "id": "DHnSCD6M_yTn",
        "outputId": "882f30b7-d342-44ee-e32b-d3813ca79fe0"
      },
      "execution_count": null,
      "outputs": [
        {
          "output_type": "execute_result",
          "data": {
            "text/plain": [
              "[]"
            ]
          },
          "metadata": {},
          "execution_count": 61
        }
      ]
    },
    {
      "cell_type": "code",
      "source": [
        "foo.get(\"precio\", 0)"
      ],
      "metadata": {
        "colab": {
          "base_uri": "https://localhost:8080/"
        },
        "id": "QFZ00wvsAVRQ",
        "outputId": "cd4de4cb-9dec-4245-e795-ad499bcbfe2e"
      },
      "execution_count": null,
      "outputs": [
        {
          "output_type": "execute_result",
          "data": {
            "text/plain": [
              "0"
            ]
          },
          "metadata": {},
          "execution_count": 62
        }
      ]
    },
    {
      "cell_type": "code",
      "source": [
        "foo.get(\"mensaje\", \"No existe el mensaje\")"
      ],
      "metadata": {
        "colab": {
          "base_uri": "https://localhost:8080/",
          "height": 36
        },
        "id": "Our5-KPCAgQA",
        "outputId": "b62ab727-fa60-4e55-a462-cd7a6456ff51"
      },
      "execution_count": null,
      "outputs": [
        {
          "output_type": "execute_result",
          "data": {
            "text/plain": [
              "'No existe el mensaje'"
            ],
            "application/vnd.google.colaboratory.intrinsic+json": {
              "type": "string"
            }
          },
          "metadata": {},
          "execution_count": 63
        }
      ]
    },
    {
      "cell_type": "code",
      "source": [
        "foo.get(\"perfil\", {})"
      ],
      "metadata": {
        "colab": {
          "base_uri": "https://localhost:8080/"
        },
        "id": "CwjlmfVgAozg",
        "outputId": "f4711e8a-2c65-413d-ee38-04a1f9355d6c"
      },
      "execution_count": null,
      "outputs": [
        {
          "output_type": "execute_result",
          "data": {
            "text/plain": [
              "{}"
            ]
          },
          "metadata": {},
          "execution_count": 64
        }
      ]
    },
    {
      "cell_type": "code",
      "source": [
        "foo.get(\"cursos\", [\"python\"])"
      ],
      "metadata": {
        "colab": {
          "base_uri": "https://localhost:8080/"
        },
        "id": "ikKF80tNA1dR",
        "outputId": "3d151d8f-6335-4514-8d7c-0410857453c0"
      },
      "execution_count": null,
      "outputs": [
        {
          "output_type": "execute_result",
          "data": {
            "text/plain": [
              "['python']"
            ]
          },
          "metadata": {},
          "execution_count": 65
        }
      ]
    },
    {
      "cell_type": "code",
      "source": [
        "# update: actualizacion\n",
        "\n",
        "foo"
      ],
      "metadata": {
        "colab": {
          "base_uri": "https://localhost:8080/"
        },
        "id": "cB5rbxDlA9Ow",
        "outputId": "5e4d26bc-87b4-478f-cadb-47b661cb603a"
      },
      "execution_count": null,
      "outputs": [
        {
          "output_type": "execute_result",
          "data": {
            "text/plain": [
              "{'nombre': 'Pedro', 'apellido': 'Casas', 'dni': 343546657, 'estado': True}"
            ]
          },
          "metadata": {},
          "execution_count": 66
        }
      ]
    },
    {
      "cell_type": "code",
      "source": [
        "foo.update({\"cursos\": [\"python\", \"java\"]})"
      ],
      "metadata": {
        "id": "AON6vZv1BJty"
      },
      "execution_count": null,
      "outputs": []
    },
    {
      "cell_type": "code",
      "source": [
        "foo"
      ],
      "metadata": {
        "colab": {
          "base_uri": "https://localhost:8080/"
        },
        "id": "xQyc259BCOvh",
        "outputId": "a6123574-a381-49d9-ecef-add60df519de"
      },
      "execution_count": null,
      "outputs": [
        {
          "output_type": "execute_result",
          "data": {
            "text/plain": [
              "{'nombre': 'Pedro',\n",
              " 'apellido': 'Casas',\n",
              " 'dni': 343546657,\n",
              " 'estado': True,\n",
              " 'cursos': ['python', 'java']}"
            ]
          },
          "metadata": {},
          "execution_count": 68
        }
      ]
    },
    {
      "cell_type": "code",
      "source": [
        "foo[\"nombre\"] = None"
      ],
      "metadata": {
        "id": "1R50-OH2CPmj"
      },
      "execution_count": null,
      "outputs": []
    },
    {
      "cell_type": "code",
      "source": [
        "foo"
      ],
      "metadata": {
        "colab": {
          "base_uri": "https://localhost:8080/"
        },
        "id": "9XfKSSqXCgpx",
        "outputId": "ecccf428-0d63-4c0b-c0ef-6352239325bf"
      },
      "execution_count": null,
      "outputs": [
        {
          "output_type": "execute_result",
          "data": {
            "text/plain": [
              "{'nombre': None,\n",
              " 'apellido': 'Casas',\n",
              " 'dni': 343546657,\n",
              " 'estado': True,\n",
              " 'cursos': ['python', 'java']}"
            ]
          },
          "metadata": {},
          "execution_count": 70
        }
      ]
    },
    {
      "cell_type": "code",
      "source": [
        "foo[\"nombre\"] = \"Juan\""
      ],
      "metadata": {
        "id": "JgsbVoPlChLx"
      },
      "execution_count": null,
      "outputs": []
    },
    {
      "cell_type": "code",
      "source": [
        "foo"
      ],
      "metadata": {
        "colab": {
          "base_uri": "https://localhost:8080/"
        },
        "id": "HhNanZRhCm82",
        "outputId": "1e630f8d-dcc9-4f63-f89f-dc6423374ab2"
      },
      "execution_count": null,
      "outputs": [
        {
          "output_type": "execute_result",
          "data": {
            "text/plain": [
              "{'nombre': 'Juan',\n",
              " 'apellido': 'Casas',\n",
              " 'dni': 343546657,\n",
              " 'estado': True,\n",
              " 'cursos': ['python', 'java']}"
            ]
          },
          "metadata": {},
          "execution_count": 72
        }
      ]
    },
    {
      "cell_type": "code",
      "source": [
        "# eliminar / del\n",
        "\n",
        "del foo[\"cursos\"]"
      ],
      "metadata": {
        "colab": {
          "base_uri": "https://localhost:8080/",
          "height": 176
        },
        "id": "s4WyibVdCndU",
        "outputId": "7188a5f1-9f36-4a5b-98df-ce2a4d5a5385"
      },
      "execution_count": null,
      "outputs": [
        {
          "output_type": "error",
          "ename": "KeyError",
          "evalue": "'cursos'",
          "traceback": [
            "\u001b[0;31m---------------------------------------------------------------------------\u001b[0m",
            "\u001b[0;31mKeyError\u001b[0m                                  Traceback (most recent call last)",
            "\u001b[0;32m<ipython-input-74-3bc518e2973e>\u001b[0m in \u001b[0;36m<cell line: 0>\u001b[0;34m()\u001b[0m\n\u001b[1;32m      1\u001b[0m \u001b[0;31m# eliminar / del\u001b[0m\u001b[0;34m\u001b[0m\u001b[0;34m\u001b[0m\u001b[0m\n\u001b[1;32m      2\u001b[0m \u001b[0;34m\u001b[0m\u001b[0m\n\u001b[0;32m----> 3\u001b[0;31m \u001b[0;32mdel\u001b[0m \u001b[0mfoo\u001b[0m\u001b[0;34m[\u001b[0m\u001b[0;34m\"cursos\"\u001b[0m\u001b[0;34m]\u001b[0m\u001b[0;34m\u001b[0m\u001b[0;34m\u001b[0m\u001b[0m\n\u001b[0m",
            "\u001b[0;31mKeyError\u001b[0m: 'cursos'"
          ]
        }
      ]
    },
    {
      "cell_type": "code",
      "source": [
        "foo"
      ],
      "metadata": {
        "colab": {
          "base_uri": "https://localhost:8080/"
        },
        "id": "uYBX4MGuCr5D",
        "outputId": "8abcc345-43d3-4514-a458-d97d6efb5670"
      },
      "execution_count": null,
      "outputs": [
        {
          "output_type": "execute_result",
          "data": {
            "text/plain": [
              "{'nombre': 'Juan', 'apellido': 'Casas', 'dni': 343546657, 'estado': True}"
            ]
          },
          "metadata": {},
          "execution_count": 75
        }
      ]
    },
    {
      "cell_type": "code",
      "source": [
        "foo.pop(\"estado\")"
      ],
      "metadata": {
        "colab": {
          "base_uri": "https://localhost:8080/"
        },
        "id": "KxocRQtDCv_i",
        "outputId": "bd602260-2538-4cc4-f7da-0f8b69249072"
      },
      "execution_count": null,
      "outputs": [
        {
          "output_type": "execute_result",
          "data": {
            "text/plain": [
              "True"
            ]
          },
          "metadata": {},
          "execution_count": 76
        }
      ]
    },
    {
      "cell_type": "code",
      "source": [
        "foo"
      ],
      "metadata": {
        "colab": {
          "base_uri": "https://localhost:8080/"
        },
        "id": "Y3ONPxTPCzCx",
        "outputId": "3088007a-971f-4724-cdc2-00a98b2342c0"
      },
      "execution_count": null,
      "outputs": [
        {
          "output_type": "execute_result",
          "data": {
            "text/plain": [
              "{'nombre': 'Juan', 'apellido': 'Casas', 'dni': 343546657}"
            ]
          },
          "metadata": {},
          "execution_count": 77
        }
      ]
    },
    {
      "cell_type": "code",
      "source": [
        "foo.pop(\"estado\")"
      ],
      "metadata": {
        "colab": {
          "base_uri": "https://localhost:8080/",
          "height": 141
        },
        "id": "SQNqAojOCz6C",
        "outputId": "2851599a-75eb-4ee1-ab38-bf5566d3e929"
      },
      "execution_count": null,
      "outputs": [
        {
          "output_type": "error",
          "ename": "KeyError",
          "evalue": "'estado'",
          "traceback": [
            "\u001b[0;31m---------------------------------------------------------------------------\u001b[0m",
            "\u001b[0;31mKeyError\u001b[0m                                  Traceback (most recent call last)",
            "\u001b[0;32m<ipython-input-78-37f7d0920140>\u001b[0m in \u001b[0;36m<cell line: 0>\u001b[0;34m()\u001b[0m\n\u001b[0;32m----> 1\u001b[0;31m \u001b[0mfoo\u001b[0m\u001b[0;34m.\u001b[0m\u001b[0mpop\u001b[0m\u001b[0;34m(\u001b[0m\u001b[0;34m\"estado\"\u001b[0m\u001b[0;34m)\u001b[0m\u001b[0;34m\u001b[0m\u001b[0;34m\u001b[0m\u001b[0m\n\u001b[0m",
            "\u001b[0;31mKeyError\u001b[0m: 'estado'"
          ]
        }
      ]
    },
    {
      "cell_type": "code",
      "source": [
        "foo"
      ],
      "metadata": {
        "colab": {
          "base_uri": "https://localhost:8080/"
        },
        "id": "RfYPM37fC2-x",
        "outputId": "fe2dfaf5-7f40-4338-ef0f-2a21dde3113b"
      },
      "execution_count": null,
      "outputs": [
        {
          "output_type": "execute_result",
          "data": {
            "text/plain": [
              "{'nombre': 'Juan', 'apellido': 'Casas', 'dni': 343546657}"
            ]
          },
          "metadata": {},
          "execution_count": 79
        }
      ]
    },
    {
      "cell_type": "code",
      "source": [
        "foo[23] = \"Lunes\""
      ],
      "metadata": {
        "id": "OZvMCpkJC7Vh"
      },
      "execution_count": null,
      "outputs": []
    },
    {
      "cell_type": "code",
      "source": [
        "foo"
      ],
      "metadata": {
        "colab": {
          "base_uri": "https://localhost:8080/"
        },
        "id": "tdeEckgeDSUB",
        "outputId": "0ac8025a-4617-41f9-e85c-40adebc8f746"
      },
      "execution_count": null,
      "outputs": [
        {
          "output_type": "execute_result",
          "data": {
            "text/plain": [
              "{'nombre': 'Juan', 'apellido': 'Casas', 'dni': 343546657, 23: 'Lunes'}"
            ]
          },
          "metadata": {},
          "execution_count": 81
        }
      ]
    },
    {
      "cell_type": "code",
      "source": [
        "bar = True"
      ],
      "metadata": {
        "id": "dm62XVA9DS2i"
      },
      "execution_count": null,
      "outputs": []
    },
    {
      "cell_type": "code",
      "source": [
        "id(bar)"
      ],
      "metadata": {
        "colab": {
          "base_uri": "https://localhost:8080/"
        },
        "id": "88rrDNjFDnBR",
        "outputId": "d0a85479-17d6-4b05-c241-4fe127bb40ac"
      },
      "execution_count": null,
      "outputs": [
        {
          "output_type": "execute_result",
          "data": {
            "text/plain": [
              "9692800"
            ]
          },
          "metadata": {},
          "execution_count": 83
        }
      ]
    },
    {
      "cell_type": "code",
      "source": [
        "bar = False"
      ],
      "metadata": {
        "id": "ThFoICu4DoKB"
      },
      "execution_count": null,
      "outputs": []
    },
    {
      "cell_type": "code",
      "source": [
        "id(bar)"
      ],
      "metadata": {
        "colab": {
          "base_uri": "https://localhost:8080/"
        },
        "id": "p6Ys4qTGDq1R",
        "outputId": "264c1c06-9b6a-4b70-fead-fac7d2f4259a"
      },
      "execution_count": null,
      "outputs": [
        {
          "output_type": "execute_result",
          "data": {
            "text/plain": [
              "9619232"
            ]
          },
          "metadata": {},
          "execution_count": 85
        }
      ]
    },
    {
      "cell_type": "code",
      "source": [
        "foo[True] = 45"
      ],
      "metadata": {
        "id": "y35sp3zBDr6R"
      },
      "execution_count": null,
      "outputs": []
    },
    {
      "cell_type": "code",
      "source": [
        "foo"
      ],
      "metadata": {
        "colab": {
          "base_uri": "https://localhost:8080/"
        },
        "id": "9jqct9CQDxLB",
        "outputId": "81b06384-dce4-440e-8b19-6da78f5fd8dc"
      },
      "execution_count": null,
      "outputs": [
        {
          "output_type": "execute_result",
          "data": {
            "text/plain": [
              "{'nombre': 'Juan',\n",
              " 'apellido': 'Casas',\n",
              " 'dni': 343546657,\n",
              " 23: 'Lunes',\n",
              " True: 45}"
            ]
          },
          "metadata": {},
          "execution_count": 87
        }
      ]
    },
    {
      "cell_type": "code",
      "source": [
        "foo"
      ],
      "metadata": {
        "colab": {
          "base_uri": "https://localhost:8080/"
        },
        "id": "jqn9gN4BE8ia",
        "outputId": "b89a4ef0-0879-4e6b-e475-959d38c25820"
      },
      "execution_count": null,
      "outputs": [
        {
          "output_type": "execute_result",
          "data": {
            "text/plain": [
              "{'nombre': 'Juan',\n",
              " 'apellido': 'Casas',\n",
              " 'dni': 343546657,\n",
              " 23: 'Lunes',\n",
              " True: 45}"
            ]
          },
          "metadata": {},
          "execution_count": 89
        }
      ]
    },
    {
      "cell_type": "code",
      "source": [
        "\"nombre\" in foo"
      ],
      "metadata": {
        "colab": {
          "base_uri": "https://localhost:8080/"
        },
        "id": "BeJfwVlSE-PO",
        "outputId": "e20fad4d-5141-46c0-b4e3-5edf1dea8435"
      },
      "execution_count": null,
      "outputs": [
        {
          "output_type": "execute_result",
          "data": {
            "text/plain": [
              "True"
            ]
          },
          "metadata": {},
          "execution_count": 90
        }
      ]
    },
    {
      "cell_type": "code",
      "source": [
        "\"edad\" in foo"
      ],
      "metadata": {
        "colab": {
          "base_uri": "https://localhost:8080/"
        },
        "id": "XjMvBId6FCqZ",
        "outputId": "94f31cef-7dc6-45bb-9dea-d075e915c672"
      },
      "execution_count": null,
      "outputs": [
        {
          "output_type": "execute_result",
          "data": {
            "text/plain": [
              "False"
            ]
          },
          "metadata": {},
          "execution_count": 91
        }
      ]
    },
    {
      "cell_type": "code",
      "source": [
        "foo"
      ],
      "metadata": {
        "colab": {
          "base_uri": "https://localhost:8080/"
        },
        "id": "PBqytjTUFsgj",
        "outputId": "44b8ac40-7d89-45b2-ffac-294d2808d3f8"
      },
      "execution_count": null,
      "outputs": [
        {
          "output_type": "execute_result",
          "data": {
            "text/plain": [
              "{'nombre': 'Juan',\n",
              " 'apellido': 'Casas',\n",
              " 'dni': 343546657,\n",
              " 23: 'Lunes',\n",
              " True: 45}"
            ]
          },
          "metadata": {},
          "execution_count": 92
        }
      ]
    },
    {
      "cell_type": "code",
      "source": [
        "for clave in foo.keys():\n",
        "    print(clave)"
      ],
      "metadata": {
        "colab": {
          "base_uri": "https://localhost:8080/"
        },
        "id": "sq3E9h9_FubQ",
        "outputId": "1d47cc78-0e46-41e5-be41-5dbb70e63d80"
      },
      "execution_count": null,
      "outputs": [
        {
          "output_type": "stream",
          "name": "stdout",
          "text": [
            "nombre\n",
            "apellido\n",
            "dni\n",
            "23\n",
            "True\n"
          ]
        }
      ]
    },
    {
      "cell_type": "code",
      "source": [
        "for value in foo.values():\n",
        "    print(value)"
      ],
      "metadata": {
        "colab": {
          "base_uri": "https://localhost:8080/"
        },
        "id": "PezyS8uPF5ux",
        "outputId": "f33e8a91-bfc8-4312-ea3c-c8fdce99ffa1"
      },
      "execution_count": null,
      "outputs": [
        {
          "output_type": "stream",
          "name": "stdout",
          "text": [
            "Juan\n",
            "Casas\n",
            "343546657\n",
            "Lunes\n",
            "45\n"
          ]
        }
      ]
    },
    {
      "cell_type": "code",
      "source": [
        "foo.items()"
      ],
      "metadata": {
        "colab": {
          "base_uri": "https://localhost:8080/"
        },
        "id": "HhA9GNp6F9vs",
        "outputId": "6050aea2-1ed7-40bb-a6e1-7de388497910"
      },
      "execution_count": null,
      "outputs": [
        {
          "output_type": "execute_result",
          "data": {
            "text/plain": [
              "dict_items([('nombre', 'Juan'), ('apellido', 'Casas'), ('dni', 343546657), (23, 'Lunes'), (True, 45)])"
            ]
          },
          "metadata": {},
          "execution_count": 95
        }
      ]
    },
    {
      "cell_type": "code",
      "source": [
        "color_codigo = (\"rojo\", \"#ff0000\")"
      ],
      "metadata": {
        "id": "75w1-uLjGOXp"
      },
      "execution_count": null,
      "outputs": []
    },
    {
      "cell_type": "code",
      "source": [
        "# desempaquetar una tupla\n",
        "color, codigo = color_codigo"
      ],
      "metadata": {
        "id": "mfOx3fupGVv5"
      },
      "execution_count": null,
      "outputs": []
    },
    {
      "cell_type": "code",
      "source": [
        "color"
      ],
      "metadata": {
        "colab": {
          "base_uri": "https://localhost:8080/",
          "height": 36
        },
        "id": "J9LcfzWGGZlH",
        "outputId": "5483c495-ad52-4710-b827-8a465039f245"
      },
      "execution_count": null,
      "outputs": [
        {
          "output_type": "execute_result",
          "data": {
            "text/plain": [
              "'rojo'"
            ],
            "application/vnd.google.colaboratory.intrinsic+json": {
              "type": "string"
            }
          },
          "metadata": {},
          "execution_count": 98
        }
      ]
    },
    {
      "cell_type": "code",
      "source": [
        "codigo"
      ],
      "metadata": {
        "colab": {
          "base_uri": "https://localhost:8080/",
          "height": 36
        },
        "id": "aEEmO8ZGGa6M",
        "outputId": "964b7a65-c919-4a0e-ac4c-8572d6b2140d"
      },
      "execution_count": null,
      "outputs": [
        {
          "output_type": "execute_result",
          "data": {
            "text/plain": [
              "'#ff0000'"
            ],
            "application/vnd.google.colaboratory.intrinsic+json": {
              "type": "string"
            }
          },
          "metadata": {},
          "execution_count": 99
        }
      ]
    },
    {
      "cell_type": "markdown",
      "source": [
        "Dado un string, decir la letra que mas veces aparece usando diccionarios"
      ],
      "metadata": {
        "id": "XW4wgEvYEBZG"
      }
    },
    {
      "cell_type": "code",
      "source": [
        "# Resolucion\n",
        "\n",
        "frase = input(\"Ingrese una frase: \")\n",
        "\n",
        "letras = {}\n",
        "\n",
        "for letra in frase:\n",
        "    if letra in letras:\n",
        "      letras[letra] += 1\n",
        "    else:\n",
        "      letras[letra] = 1\n",
        "    print(letras)\n",
        "\n",
        "cant_max = 0\n",
        "letra_max = \"\"\n",
        "\n",
        "for letra, cantidad in letras.items():\n",
        "    if cantidad > cant_max:\n",
        "        cant_max = cantidad\n",
        "        letra_max = letra\n",
        "\n",
        "print(f\"La letra que mas se repite es: {letra_max}\")\n"
      ],
      "metadata": {
        "colab": {
          "base_uri": "https://localhost:8080/"
        },
        "id": "1wmdLOh8DxxT",
        "outputId": "128b9b8f-f6dc-410c-fbe4-5430859e209d"
      },
      "execution_count": null,
      "outputs": [
        {
          "output_type": "stream",
          "name": "stdout",
          "text": [
            "Ingrese una frase: holaaaaa\n",
            "{'h': 1}\n",
            "{'h': 1, 'o': 1}\n",
            "{'h': 1, 'o': 1, 'l': 1}\n",
            "{'h': 1, 'o': 1, 'l': 1, 'a': 1}\n",
            "{'h': 1, 'o': 1, 'l': 1, 'a': 2}\n",
            "{'h': 1, 'o': 1, 'l': 1, 'a': 3}\n",
            "{'h': 1, 'o': 1, 'l': 1, 'a': 4}\n",
            "{'h': 1, 'o': 1, 'l': 1, 'a': 5}\n",
            "La letra que mas se repite es: a\n"
          ]
        }
      ]
    },
    {
      "cell_type": "markdown",
      "source": [
        "Dada una frase cacular el porcentaje de positividad de la misma\n",
        "\n",
        "frase = \"hola si no\"\n",
        "\n",
        "positividad = {\n",
        "  \"si\" : 10,\n",
        "  \"no\": -10,\n",
        "  \"alegria\": 5}\n",
        "\n",
        "Si la palabra no esta en eñ diccionario el peso es 0\n",
        "\n",
        "suma = 10 + (-10) + 0\n",
        "\n",
        "promedio = 0 / 3 = 0\n"
      ],
      "metadata": {
        "id": "Dwqc2wCBJRZE"
      }
    },
    {
      "cell_type": "code",
      "source": [],
      "metadata": {
        "id": "Vry7mwU1EQPh"
      },
      "execution_count": null,
      "outputs": []
    },
    {
      "cell_type": "markdown",
      "source": [],
      "metadata": {
        "id": "H27O70VxIrpF"
      }
    }
  ]
}