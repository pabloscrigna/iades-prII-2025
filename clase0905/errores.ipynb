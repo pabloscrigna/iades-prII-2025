{
  "nbformat": 4,
  "nbformat_minor": 0,
  "metadata": {
    "colab": {
      "provenance": []
    },
    "kernelspec": {
      "name": "python3",
      "display_name": "Python 3"
    },
    "language_info": {
      "name": "python"
    }
  },
  "cells": [
    {
      "cell_type": "markdown",
      "source": [
        "Excepciones y Errores"
      ],
      "metadata": {
        "id": "n8TaAUoXIrE8"
      }
    },
    {
      "cell_type": "code",
      "source": [
        "numero = int(input(\"Ingrese un numero: \"))\n",
        "\n",
        "\n",
        "print(numero)\n",
        "\n",
        "lista = []\n",
        "\n"
      ],
      "metadata": {
        "colab": {
          "base_uri": "https://localhost:8080/",
          "height": 211
        },
        "id": "jlAc7RX_IokT",
        "outputId": "9ee4dba4-2534-4a9c-c112-18a046f96941"
      },
      "execution_count": null,
      "outputs": [
        {
          "name": "stdout",
          "output_type": "stream",
          "text": [
            "Ingrese un numero: t\n"
          ]
        },
        {
          "output_type": "error",
          "ename": "ValueError",
          "evalue": "invalid literal for int() with base 10: 't'",
          "traceback": [
            "\u001b[0;31m---------------------------------------------------------------------------\u001b[0m",
            "\u001b[0;31mValueError\u001b[0m                                Traceback (most recent call last)",
            "\u001b[0;32m<ipython-input-4-95170fb71d66>\u001b[0m in \u001b[0;36m<cell line: 0>\u001b[0;34m()\u001b[0m\n\u001b[0;32m----> 1\u001b[0;31m \u001b[0mnumero\u001b[0m \u001b[0;34m=\u001b[0m \u001b[0mint\u001b[0m\u001b[0;34m(\u001b[0m\u001b[0minput\u001b[0m\u001b[0;34m(\u001b[0m\u001b[0;34m\"Ingrese un numero: \"\u001b[0m\u001b[0;34m)\u001b[0m\u001b[0;34m)\u001b[0m\u001b[0;34m\u001b[0m\u001b[0;34m\u001b[0m\u001b[0m\n\u001b[0m\u001b[1;32m      2\u001b[0m \u001b[0;34m\u001b[0m\u001b[0m\n\u001b[1;32m      3\u001b[0m \u001b[0;34m\u001b[0m\u001b[0m\n\u001b[1;32m      4\u001b[0m \u001b[0mprint\u001b[0m\u001b[0;34m(\u001b[0m\u001b[0mnumero\u001b[0m\u001b[0;34m)\u001b[0m\u001b[0;34m\u001b[0m\u001b[0;34m\u001b[0m\u001b[0m\n",
            "\u001b[0;31mValueError\u001b[0m: invalid literal for int() with base 10: 't'"
          ]
        }
      ]
    },
    {
      "cell_type": "code",
      "source": [
        "nombre = input(\"Ingrese su nombre\")\n",
        "\n",
        "print(f\"Su nombre es {nombre}\")"
      ],
      "metadata": {
        "colab": {
          "base_uri": "https://localhost:8080/"
        },
        "id": "XD-Ez7B7Hnfy",
        "outputId": "2dad4660-405c-46df-b447-65253756545c"
      },
      "execution_count": null,
      "outputs": [
        {
          "output_type": "stream",
          "name": "stdout",
          "text": [
            "Ingrese su nombreyui\n",
            "Su nombre es yui\n"
          ]
        }
      ]
    },
    {
      "cell_type": "markdown",
      "source": [
        "try-except"
      ],
      "metadata": {
        "id": "yoRp6WMNWQiL"
      }
    },
    {
      "cell_type": "markdown",
      "source": [
        "```\n",
        "try:\n",
        "  Bloque de codigo\n",
        "except:\n",
        "  Bloque de codigo\n",
        "```"
      ],
      "metadata": {
        "id": "F5s9ubyCWTYD"
      }
    },
    {
      "cell_type": "code",
      "source": [
        "numero1 = 23\n",
        "numero2 = 0"
      ],
      "metadata": {
        "id": "AApxAD3vKL8A"
      },
      "execution_count": null,
      "outputs": []
    },
    {
      "cell_type": "code",
      "source": [
        "try:\n",
        "  print(\"Antes de dividir\")\n",
        "  print(\"resultado de la division: \", numero1 / numero2)\n",
        "  print(\"Despues de dividir\")\n",
        "except:\n",
        "  print(\"No se puede dividir por 0\")"
      ],
      "metadata": {
        "colab": {
          "base_uri": "https://localhost:8080/"
        },
        "id": "DgxnfJsqXRmd",
        "outputId": "8b6fecc9-9a88-42b3-9e66-96d21987a8ef"
      },
      "execution_count": null,
      "outputs": [
        {
          "output_type": "stream",
          "name": "stdout",
          "text": [
            "Antes de dividir\n",
            "No se puede dividir por 0\n"
          ]
        }
      ]
    },
    {
      "cell_type": "code",
      "source": [],
      "metadata": {
        "id": "h3OoWkH_X6DY"
      },
      "execution_count": null,
      "outputs": []
    }
  ]
}