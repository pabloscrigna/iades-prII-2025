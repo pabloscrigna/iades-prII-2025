{
  "nbformat": 4,
  "nbformat_minor": 0,
  "metadata": {
    "colab": {
      "provenance": []
    },
    "kernelspec": {
      "name": "python3",
      "display_name": "Python 3"
    },
    "language_info": {
      "name": "python"
    }
  },
  "cells": [
    {
      "cell_type": "markdown",
      "source": [
        "**Funciones**\n",
        "![green-divider](https://user-images.githubusercontent.com/7065401/52071924-c003ad80-2562-11e9-8297-1c6595f8a7ff.png)\n"
      ],
      "metadata": {
        "id": "GPF0BCcPyq9J"
      }
    },
    {
      "cell_type": "code",
      "execution_count": null,
      "metadata": {
        "id": "OYXljGuRyU9t"
      },
      "outputs": [],
      "source": [
        "# definir la funcion\n",
        "\n",
        "def suma(a, b):\n",
        "  resultado = a + b\n",
        "  return resultado"
      ]
    },
    {
      "cell_type": "code",
      "source": [
        "numero1 = 10\n",
        "numero2 = 20\n",
        "\n",
        "# aca como estamos en collab, va a imprimir 30 ---> que es el valor de resultado de devuleve la funcion suma\n",
        "suma(numero1, numero2)"
      ],
      "metadata": {
        "colab": {
          "base_uri": "https://localhost:8080/"
        },
        "id": "AAnxO8yRztnp",
        "outputId": "3b857613-abb7-4060-9763-50b9fd16773c"
      },
      "execution_count": null,
      "outputs": [
        {
          "output_type": "execute_result",
          "data": {
            "text/plain": [
              "30"
            ]
          },
          "metadata": {},
          "execution_count": 2
        }
      ]
    },
    {
      "cell_type": "code",
      "source": [
        "numero3 = 40\n",
        "numero4 = 50\n",
        "\n",
        "resultado = suma(numero3, numero4)\n",
        "print(f\"el resultado es {resultado}\")"
      ],
      "metadata": {
        "colab": {
          "base_uri": "https://localhost:8080/"
        },
        "id": "cU7lkv2m0VOd",
        "outputId": "b1d3b0c4-52f6-4e31-9dcd-93eaecc4f09e"
      },
      "execution_count": null,
      "outputs": [
        {
          "output_type": "stream",
          "name": "stdout",
          "text": [
            "el resultado es 90\n"
          ]
        }
      ]
    },
    {
      "cell_type": "code",
      "source": [
        "# funcion saludar\n",
        "\n",
        "def saludar(nombre):\n",
        "  print(f'Hola {nombre}')\n",
        "\n",
        "# pregunta: que retorna esta funcion saludar?\n",
        "# A: nada\n",
        "# B: un string\n",
        "# C: ninguna de las anteriores\n",
        "\n",
        "# la respuesta correcta es ninguna de las anteriores\n",
        "# las funciones en python por default retornan None"
      ],
      "metadata": {
        "id": "OGurTt-ZzSui"
      },
      "execution_count": null,
      "outputs": []
    },
    {
      "cell_type": "code",
      "source": [
        "resultado = saludar('Juan')\n",
        "print(f\"la funcion saludar retorna: {resultado}\")"
      ],
      "metadata": {
        "colab": {
          "base_uri": "https://localhost:8080/"
        },
        "id": "eDf-ML6n01S1",
        "outputId": "e3834c52-046f-4290-b2df-55cf37eb6277"
      },
      "execution_count": null,
      "outputs": [
        {
          "output_type": "stream",
          "name": "stdout",
          "text": [
            "Hola Juan\n",
            "la funcion saludar retorna: None\n"
          ]
        }
      ]
    },
    {
      "cell_type": "markdown",
      "source": [
        "Variables globales y locales"
      ],
      "metadata": {
        "id": "omYLhbTb1ary"
      }
    },
    {
      "cell_type": "code",
      "source": [
        "# global\n",
        "numero = 10\n",
        "\n",
        "def multiplicar(a, b):\n",
        "  resultado = a * b\n",
        "\n",
        "  resultado *= numero\n",
        "  print(\"numero: \", numero)\n",
        "  return resultado"
      ],
      "metadata": {
        "id": "vJ_ynnoI04B5"
      },
      "execution_count": null,
      "outputs": []
    },
    {
      "cell_type": "code",
      "source": [
        "numero"
      ],
      "metadata": {
        "colab": {
          "base_uri": "https://localhost:8080/"
        },
        "id": "lcal4gRo1mQt",
        "outputId": "1f60a2e6-ea1b-47d1-92ce-88d2d7c32381"
      },
      "execution_count": null,
      "outputs": [
        {
          "output_type": "execute_result",
          "data": {
            "text/plain": [
              "10"
            ]
          },
          "metadata": {},
          "execution_count": 12
        }
      ]
    },
    {
      "cell_type": "code",
      "source": [
        "result = multiplicar(5,2)\n",
        "result"
      ],
      "metadata": {
        "colab": {
          "base_uri": "https://localhost:8080/"
        },
        "id": "fGAuXcGj2Fp_",
        "outputId": "b0f6f636-ebda-4035-c55f-90c51b448c27"
      },
      "execution_count": null,
      "outputs": [
        {
          "output_type": "stream",
          "name": "stdout",
          "text": [
            "numero:  10\n"
          ]
        },
        {
          "output_type": "execute_result",
          "data": {
            "text/plain": [
              "100"
            ]
          },
          "metadata": {},
          "execution_count": 16
        }
      ]
    },
    {
      "cell_type": "code",
      "source": [
        "# global\n",
        "numero = 10\n",
        "\n",
        "def multiplicar(a, b):\n",
        "  # esta variable numero es local\n",
        "  numero = 5\n",
        "\n",
        "  resultado = a * b\n",
        "  resultado *= numero\n",
        "  print(\"numero: \", numero)\n",
        "  return resultado"
      ],
      "metadata": {
        "id": "tnLQKdF72IE_"
      },
      "execution_count": null,
      "outputs": []
    },
    {
      "cell_type": "code",
      "source": [
        "numero"
      ],
      "metadata": {
        "colab": {
          "base_uri": "https://localhost:8080/"
        },
        "id": "hSDdMDDh2paD",
        "outputId": "ec1bd39d-e778-40bf-da04-45aa56bd69d6"
      },
      "execution_count": null,
      "outputs": [
        {
          "output_type": "execute_result",
          "data": {
            "text/plain": [
              "10"
            ]
          },
          "metadata": {},
          "execution_count": 42
        }
      ]
    },
    {
      "cell_type": "code",
      "source": [
        "result = multiplicar(5,2)\n",
        "result"
      ],
      "metadata": {
        "colab": {
          "base_uri": "https://localhost:8080/"
        },
        "id": "-CDMtlrU2qPg",
        "outputId": "205be308-083b-4172-970f-a9c38bff15da"
      },
      "execution_count": null,
      "outputs": [
        {
          "output_type": "stream",
          "name": "stdout",
          "text": [
            "numero:  5\n"
          ]
        },
        {
          "output_type": "execute_result",
          "data": {
            "text/plain": [
              "50"
            ]
          },
          "metadata": {},
          "execution_count": 43
        }
      ]
    },
    {
      "cell_type": "code",
      "source": [
        "numero"
      ],
      "metadata": {
        "colab": {
          "base_uri": "https://localhost:8080/"
        },
        "id": "OSkoY8lA2vQy",
        "outputId": "fbc3828f-cced-4766-ec57-a5d3a66415d1"
      },
      "execution_count": null,
      "outputs": [
        {
          "output_type": "execute_result",
          "data": {
            "text/plain": [
              "10"
            ]
          },
          "metadata": {},
          "execution_count": 44
        }
      ]
    },
    {
      "cell_type": "code",
      "source": [
        "# global\n",
        "numero = 10\n",
        "\n",
        "def multiplicar(a, b):\n",
        "  global numero\n",
        "\n",
        "  resultado = a * b\n",
        "  resultado *= numero\n",
        "  print(\"numero: \", numero)\n",
        "  return resultado"
      ],
      "metadata": {
        "id": "l-Y_6gDd3CNk"
      },
      "execution_count": null,
      "outputs": []
    },
    {
      "cell_type": "code",
      "source": [
        "numero"
      ],
      "metadata": {
        "colab": {
          "base_uri": "https://localhost:8080/"
        },
        "id": "JCuTAc8f3IZE",
        "outputId": "1b4d7afb-1859-447d-9eb3-fd94c1bc8a01"
      },
      "execution_count": null,
      "outputs": [
        {
          "output_type": "execute_result",
          "data": {
            "text/plain": [
              "10"
            ]
          },
          "metadata": {},
          "execution_count": 32
        }
      ]
    },
    {
      "cell_type": "code",
      "source": [
        "result = multiplicar(5,2)\n",
        "result"
      ],
      "metadata": {
        "colab": {
          "base_uri": "https://localhost:8080/"
        },
        "id": "i61i3ftD3JES",
        "outputId": "fa58b37e-6689-4e9e-d17f-4c3477080c77"
      },
      "execution_count": null,
      "outputs": [
        {
          "output_type": "stream",
          "name": "stdout",
          "text": [
            "numero:  10\n"
          ]
        },
        {
          "output_type": "execute_result",
          "data": {
            "text/plain": [
              "100"
            ]
          },
          "metadata": {},
          "execution_count": 33
        }
      ]
    },
    {
      "cell_type": "code",
      "source": [
        "numero"
      ],
      "metadata": {
        "colab": {
          "base_uri": "https://localhost:8080/"
        },
        "id": "9FpW38Ji3Lfj",
        "outputId": "9c225c64-7a18-44cf-b938-ab6944e97ead"
      },
      "execution_count": null,
      "outputs": [
        {
          "output_type": "execute_result",
          "data": {
            "text/plain": [
              "10"
            ]
          },
          "metadata": {},
          "execution_count": 34
        }
      ]
    },
    {
      "cell_type": "code",
      "source": [
        "# global\n",
        "numero = 10\n",
        "\n",
        "def multiplicar(a, b):\n",
        "  global numero\n",
        "\n",
        "  numero = 5\n",
        "  resultado = a * b\n",
        "  resultado *= numero\n",
        "  print(\"numero: \", numero)\n",
        "  return resultado"
      ],
      "metadata": {
        "id": "ISEvo8we3NBy"
      },
      "execution_count": null,
      "outputs": []
    },
    {
      "cell_type": "code",
      "source": [
        "numero"
      ],
      "metadata": {
        "colab": {
          "base_uri": "https://localhost:8080/"
        },
        "id": "ra6KFU603SkI",
        "outputId": "a02caa63-f9b0-4c3d-9dd4-763f869f9309"
      },
      "execution_count": null,
      "outputs": [
        {
          "output_type": "execute_result",
          "data": {
            "text/plain": [
              "10"
            ]
          },
          "metadata": {},
          "execution_count": 46
        }
      ]
    },
    {
      "cell_type": "code",
      "source": [
        "result = multiplicar(5,2)\n",
        "result"
      ],
      "metadata": {
        "colab": {
          "base_uri": "https://localhost:8080/"
        },
        "id": "FR8Gjy373TQE",
        "outputId": "0a46a0d6-65a1-4f39-9003-f0baa0c41a6a"
      },
      "execution_count": null,
      "outputs": [
        {
          "output_type": "stream",
          "name": "stdout",
          "text": [
            "numero:  5\n"
          ]
        },
        {
          "output_type": "execute_result",
          "data": {
            "text/plain": [
              "50"
            ]
          },
          "metadata": {},
          "execution_count": 47
        }
      ]
    },
    {
      "cell_type": "code",
      "source": [
        "numero"
      ],
      "metadata": {
        "colab": {
          "base_uri": "https://localhost:8080/"
        },
        "id": "f8kAX7rh3Uqz",
        "outputId": "547fff20-f247-4531-d514-f9a094a0cefb"
      },
      "execution_count": null,
      "outputs": [
        {
          "output_type": "execute_result",
          "data": {
            "text/plain": [
              "5"
            ]
          },
          "metadata": {},
          "execution_count": 48
        }
      ]
    },
    {
      "cell_type": "markdown",
      "source": [
        "Argumentos y Parámetros"
      ],
      "metadata": {
        "id": "wUiDLSX_5BCO"
      }
    },
    {
      "cell_type": "markdown",
      "source": [
        "En la definicion de la funcion, las variables o valores se denominan parametros"
      ],
      "metadata": {
        "id": "AoOba-Ug5Jlp"
      }
    },
    {
      "cell_type": "code",
      "source": [
        "def suma(a,b):\n",
        "  return a+b"
      ],
      "metadata": {
        "id": "57naaF_g3Xtj"
      },
      "execution_count": null,
      "outputs": []
    },
    {
      "cell_type": "markdown",
      "source": [
        "en la llamada se denominan argumentos"
      ],
      "metadata": {
        "id": "8dDjVTKo5cuF"
      }
    },
    {
      "cell_type": "code",
      "source": [
        "suma(4,7)"
      ],
      "metadata": {
        "id": "TT_9YVCx5hBd"
      },
      "execution_count": null,
      "outputs": []
    },
    {
      "cell_type": "markdown",
      "source": [
        "Pasando valores"
      ],
      "metadata": {
        "id": "y2pZA1JY5rLq"
      }
    },
    {
      "cell_type": "markdown",
      "source": [
        "Por posición"
      ],
      "metadata": {
        "id": "-xfhNQdt5x10"
      }
    },
    {
      "cell_type": "code",
      "source": [
        "def suma(numero1, numero2):\n",
        "  resultado = numero1 + numero2\n",
        "  return resultado"
      ],
      "metadata": {
        "id": "jGRoXFdC58DB"
      },
      "execution_count": null,
      "outputs": []
    },
    {
      "cell_type": "code",
      "source": [
        "# 6 --> numero1   7 --> numero2\n",
        "suma(6,7)"
      ],
      "metadata": {
        "colab": {
          "base_uri": "https://localhost:8080/"
        },
        "id": "_h1StZiZ6ARH",
        "outputId": "89070e96-8f02-4f58-97ce-b0b0174754b1"
      },
      "execution_count": null,
      "outputs": [
        {
          "output_type": "execute_result",
          "data": {
            "text/plain": [
              "13"
            ]
          },
          "metadata": {},
          "execution_count": 50
        }
      ]
    },
    {
      "cell_type": "code",
      "source": [
        "num1 = 9\n",
        "num2 = 10\n",
        "\n",
        "# num1 ---> numero1   num2 ---> numero2\n",
        "suma(num1, num2)"
      ],
      "metadata": {
        "colab": {
          "base_uri": "https://localhost:8080/"
        },
        "id": "KYnR6j9Z6NfD",
        "outputId": "8c6ac69d-23a3-4e1c-ebf0-62f815b880d0"
      },
      "execution_count": null,
      "outputs": [
        {
          "output_type": "execute_result",
          "data": {
            "text/plain": [
              "19"
            ]
          },
          "metadata": {},
          "execution_count": 51
        }
      ]
    },
    {
      "cell_type": "code",
      "source": [
        "# aca faltan agregar los argumentos\n",
        "suma()"
      ],
      "metadata": {
        "colab": {
          "base_uri": "https://localhost:8080/",
          "height": 158
        },
        "id": "vb9Ce1qQ6ZmU",
        "outputId": "abacb3d5-118e-4d05-90ca-79425b453c4c"
      },
      "execution_count": null,
      "outputs": [
        {
          "output_type": "error",
          "ename": "TypeError",
          "evalue": "suma() missing 2 required positional arguments: 'numero1' and 'numero2'",
          "traceback": [
            "\u001b[0;31m---------------------------------------------------------------------------\u001b[0m",
            "\u001b[0;31mTypeError\u001b[0m                                 Traceback (most recent call last)",
            "\u001b[0;32m<ipython-input-65-a32edc86ac86>\u001b[0m in \u001b[0;36m<cell line: 0>\u001b[0;34m()\u001b[0m\n\u001b[1;32m      1\u001b[0m \u001b[0;31m# aca faltan agregar los argumentos\u001b[0m\u001b[0;34m\u001b[0m\u001b[0;34m\u001b[0m\u001b[0m\n\u001b[0;32m----> 2\u001b[0;31m \u001b[0msuma\u001b[0m\u001b[0;34m(\u001b[0m\u001b[0;34m)\u001b[0m\u001b[0;34m\u001b[0m\u001b[0;34m\u001b[0m\u001b[0m\n\u001b[0m",
            "\u001b[0;31mTypeError\u001b[0m: suma() missing 2 required positional arguments: 'numero1' and 'numero2'"
          ]
        }
      ]
    },
    {
      "cell_type": "markdown",
      "source": [
        "Argumentos por nombre"
      ],
      "metadata": {
        "id": "MeQXXIM26KXl"
      }
    },
    {
      "cell_type": "code",
      "source": [
        "def suma(numero1, numero2):\n",
        "  resultado = numero1 + numero2\n",
        "  return resultado"
      ],
      "metadata": {
        "id": "8j4CNW9Y6Hwn"
      },
      "execution_count": null,
      "outputs": []
    },
    {
      "cell_type": "code",
      "source": [
        "suma(numero2=6, numero1=7)"
      ],
      "metadata": {
        "colab": {
          "base_uri": "https://localhost:8080/"
        },
        "id": "2JfOYAyI7UiD",
        "outputId": "b9c19c5f-385d-4529-844c-9a4d1a5acabb"
      },
      "execution_count": null,
      "outputs": [
        {
          "output_type": "execute_result",
          "data": {
            "text/plain": [
              "13"
            ]
          },
          "metadata": {},
          "execution_count": 54
        }
      ]
    },
    {
      "cell_type": "code",
      "source": [
        "suma(numero1=6, numero2=7)"
      ],
      "metadata": {
        "colab": {
          "base_uri": "https://localhost:8080/"
        },
        "id": "J3lqa0mi7m0a",
        "outputId": "7d8649c4-4eeb-4388-9344-e32659c6c31f"
      },
      "execution_count": null,
      "outputs": [
        {
          "output_type": "execute_result",
          "data": {
            "text/plain": [
              "13"
            ]
          },
          "metadata": {},
          "execution_count": 55
        }
      ]
    },
    {
      "cell_type": "code",
      "source": [
        "num1 =10\n",
        "num2 = 11\n",
        "\n",
        "suma(numero1=num1, numero2=num2)"
      ],
      "metadata": {
        "colab": {
          "base_uri": "https://localhost:8080/"
        },
        "id": "mnvXqW1r74O9",
        "outputId": "c28227bf-ef81-4380-9016-92681a491aaf"
      },
      "execution_count": null,
      "outputs": [
        {
          "output_type": "execute_result",
          "data": {
            "text/plain": [
              "21"
            ]
          },
          "metadata": {},
          "execution_count": 57
        }
      ]
    },
    {
      "cell_type": "markdown",
      "source": [
        "Llamada sin argumentos"
      ],
      "metadata": {
        "id": "_9OZxvLe8DkW"
      }
    },
    {
      "cell_type": "code",
      "source": [
        "def suma(numero1=0, numero2=0):\n",
        "  resultado = numero1 + numero2\n",
        "  return resultado"
      ],
      "metadata": {
        "id": "fL3jHxbP787I"
      },
      "execution_count": null,
      "outputs": []
    },
    {
      "cell_type": "code",
      "source": [
        "suma()"
      ],
      "metadata": {
        "colab": {
          "base_uri": "https://localhost:8080/"
        },
        "id": "uTWV5eg88J6z",
        "outputId": "462d33e0-d024-407c-cade-b6cf80d8fa4e"
      },
      "execution_count": null,
      "outputs": [
        {
          "output_type": "execute_result",
          "data": {
            "text/plain": [
              "0"
            ]
          },
          "metadata": {},
          "execution_count": 68
        }
      ]
    },
    {
      "cell_type": "code",
      "source": [
        "suma(numero2=5)"
      ],
      "metadata": {
        "colab": {
          "base_uri": "https://localhost:8080/"
        },
        "id": "VDwPtz008c36",
        "outputId": "28773316-c7a6-4fc3-e944-e1c2b22c8d70"
      },
      "execution_count": null,
      "outputs": [
        {
          "output_type": "execute_result",
          "data": {
            "text/plain": [
              "5"
            ]
          },
          "metadata": {},
          "execution_count": 62
        }
      ]
    },
    {
      "cell_type": "code",
      "source": [
        "suma(10,5)"
      ],
      "metadata": {
        "colab": {
          "base_uri": "https://localhost:8080/"
        },
        "id": "QF80NCv08fqK",
        "outputId": "d212e652-3ff2-4bc8-fe99-6d75ef0fb9eb"
      },
      "execution_count": null,
      "outputs": [
        {
          "output_type": "execute_result",
          "data": {
            "text/plain": [
              "15"
            ]
          },
          "metadata": {},
          "execution_count": 63
        }
      ]
    },
    {
      "cell_type": "markdown",
      "source": [
        "Parametros opcionales y obligatorios"
      ],
      "metadata": {
        "id": "oHA2ymAW9HCq"
      }
    },
    {
      "cell_type": "code",
      "source": [
        "def operacion(numero1, numero2, operacion=\"+\"):\n",
        "\n",
        "  if operacion == \"+\":\n",
        "    resultado = numero1 + numero2\n",
        "  elif operacion == \"-\":\n",
        "    resultado = numero1 - numero2\n",
        "  elif operacion == \"*\":\n",
        "    resultado = numero1 * numero2\n",
        "\n",
        "  return resultado"
      ],
      "metadata": {
        "id": "i479Dhoj8jlo"
      },
      "execution_count": null,
      "outputs": []
    },
    {
      "cell_type": "code",
      "source": [
        "operacion(5,8)"
      ],
      "metadata": {
        "colab": {
          "base_uri": "https://localhost:8080/"
        },
        "id": "5UE3CZ1x9T07",
        "outputId": "1682c4a6-638e-4775-d055-064dab414542"
      },
      "execution_count": null,
      "outputs": [
        {
          "output_type": "execute_result",
          "data": {
            "text/plain": [
              "13"
            ]
          },
          "metadata": {},
          "execution_count": 74
        }
      ]
    },
    {
      "cell_type": "code",
      "source": [
        "operacion(10,5,\"-\")"
      ],
      "metadata": {
        "colab": {
          "base_uri": "https://localhost:8080/"
        },
        "id": "6l_E4COK9hZX",
        "outputId": "5ae9f45d-9776-4858-cf99-9ae0b8065522"
      },
      "execution_count": null,
      "outputs": [
        {
          "output_type": "execute_result",
          "data": {
            "text/plain": [
              "5"
            ]
          },
          "metadata": {},
          "execution_count": 75
        }
      ]
    },
    {
      "cell_type": "code",
      "source": [
        "operacion(5,8,\"+\")"
      ],
      "metadata": {
        "colab": {
          "base_uri": "https://localhost:8080/"
        },
        "id": "UjjYaoup-Od5",
        "outputId": "e7047d05-02b7-46c3-f204-0e524e5d0d97"
      },
      "execution_count": null,
      "outputs": [
        {
          "output_type": "execute_result",
          "data": {
            "text/plain": [
              "13"
            ]
          },
          "metadata": {},
          "execution_count": 76
        }
      ]
    },
    {
      "cell_type": "markdown",
      "source": [
        "Multiples return"
      ],
      "metadata": {
        "id": "pQtoe9zP--R7"
      }
    },
    {
      "cell_type": "code",
      "source": [
        "\n",
        "def calculadora(numero1, numero2, operacion):\n",
        "\n",
        "  if operacion == \"+\":\n",
        "    resultado = numero1 + numero2\n",
        "    return resultado\n",
        "\n",
        "  if operacion == \"-\":\n",
        "    resultado = numero1 - numero2\n",
        "    return resultado\n",
        "\n",
        "  if operacion == \"*\":\n",
        "    resultado = numero1 * numero2\n",
        "    return resultado\n",
        "\n",
        "  return None"
      ],
      "metadata": {
        "id": "dH4iIAL8-RDX"
      },
      "execution_count": null,
      "outputs": []
    },
    {
      "cell_type": "markdown",
      "source": [
        "Argumentos por valor y por referencia"
      ],
      "metadata": {
        "id": "txJqKgJ2_WYO"
      }
    },
    {
      "cell_type": "markdown",
      "source": [
        "Argumentos por valor (variables inmutables)\n",
        "\n",
        "* enteros\n",
        "* flotantes\n",
        "* string\n",
        "* tuplas"
      ],
      "metadata": {
        "id": "_e372k3dAPns"
      }
    },
    {
      "cell_type": "code",
      "source": [
        "def incrementador(numero):\n",
        "  numero += 1\n",
        "  print(\"numero dentro de la funcion: \", numero)\n",
        "  return"
      ],
      "metadata": {
        "id": "50JTj2Py_dZ5"
      },
      "execution_count": null,
      "outputs": []
    },
    {
      "cell_type": "code",
      "source": [
        "numero = 5\n",
        "print(\"numero antes de la funcion: \", numero)\n",
        "incrementador(numero)\n",
        "print(\"numero despues de la funcion: \", numero)"
      ],
      "metadata": {
        "colab": {
          "base_uri": "https://localhost:8080/"
        },
        "id": "wuFSb5fx_w-T",
        "outputId": "320dbcb8-d224-4b71-bf96-7f2681a4858f"
      },
      "execution_count": null,
      "outputs": [
        {
          "output_type": "stream",
          "name": "stdout",
          "text": [
            "numero antes de la funcion:  5\n",
            "numero dentro de la funcion:  6\n",
            "numero despues de la funcion:  5\n"
          ]
        }
      ]
    },
    {
      "cell_type": "code",
      "source": [
        "# si yo quisiera ver la modificacion afuera de la funcion, retorno la variable\n",
        "def incrementador(numero):\n",
        "  numero += 1\n",
        "  print(\"numero dentro de la funcion: \", numero)\n",
        "  return numero"
      ],
      "metadata": {
        "id": "VdhhzpgGBleB"
      },
      "execution_count": null,
      "outputs": []
    },
    {
      "cell_type": "code",
      "source": [
        "print(\"numero ante de la funcion: \", numero)\n",
        "numero = incrementador(numero)\n",
        "print(\"numero despues de la funcion: \", numero)"
      ],
      "metadata": {
        "colab": {
          "base_uri": "https://localhost:8080/"
        },
        "id": "nkVmUjfbBvef",
        "outputId": "9418558c-9b3d-4371-fbff-c514768235d1"
      },
      "execution_count": null,
      "outputs": [
        {
          "output_type": "stream",
          "name": "stdout",
          "text": [
            "numero ante de la funcion:  5\n",
            "numero dentro de la funcion:  6\n",
            "numero despues de la funcion:  6\n"
          ]
        }
      ]
    },
    {
      "cell_type": "markdown",
      "source": [
        "Referencia (variables mutables)\n",
        "\n",
        "* listas\n",
        "* diccionarios"
      ],
      "metadata": {
        "id": "u58EYCV6ASHS"
      }
    },
    {
      "cell_type": "code",
      "source": [
        "def agregar(lista, objeto):\n",
        "  lista.append(objeto)\n",
        "  print(\"lista dentro de la funcion: \", lista)\n",
        "  return"
      ],
      "metadata": {
        "id": "e8OS35IpATUY"
      },
      "execution_count": null,
      "outputs": []
    },
    {
      "cell_type": "code",
      "source": [
        "lista = [1, 2, 3]\n",
        "\n",
        "print(\"lista antes de la funcion: \", lista)\n",
        "agregar(lista, 4)\n",
        "print(\"lista despues de la funcion: \", lista)"
      ],
      "metadata": {
        "colab": {
          "base_uri": "https://localhost:8080/"
        },
        "id": "2BXOXSMEAgDS",
        "outputId": "ad622dc7-7cd5-4ce5-8e9c-df63174c4a97"
      },
      "execution_count": null,
      "outputs": [
        {
          "output_type": "stream",
          "name": "stdout",
          "text": [
            "lista antes de la funcion:  [1, 2, 3]\n",
            "lista dentro de la funcion:  [1, 2, 3, 4]\n",
            "lista despues de la funcion:  [1, 2, 3, 4]\n"
          ]
        }
      ]
    },
    {
      "cell_type": "code",
      "source": [
        "# si yo no quiero que se modifique la lista original o que le paso como argumento\n",
        "def agregar(lista, objeto):\n",
        "  new_lista = lista.copy()\n",
        "  new_lista.append(objeto)\n",
        "  print(\"lista dentro de la funcion: \", new_lista)\n",
        "  return"
      ],
      "metadata": {
        "id": "PUXw1kHmCV39"
      },
      "execution_count": null,
      "outputs": []
    },
    {
      "cell_type": "code",
      "source": [
        "lista = [1, 2, 3]\n",
        "\n",
        "print(\"lista antes de la funcion: \", lista)\n",
        "agregar(lista, 4)\n",
        "print(\"lista despues de la funcion: \", lista)"
      ],
      "metadata": {
        "colab": {
          "base_uri": "https://localhost:8080/"
        },
        "id": "u-tQGKxkCh19",
        "outputId": "364ad007-8d07-4998-8f58-e537cca4cb1d"
      },
      "execution_count": null,
      "outputs": [
        {
          "output_type": "stream",
          "name": "stdout",
          "text": [
            "lista antes de la funcion:  [1, 2, 3]\n",
            "lista dentro de la funcion:  [1, 2, 3, 4]\n",
            "lista despues de la funcion:  [1, 2, 3]\n"
          ]
        }
      ]
    },
    {
      "cell_type": "markdown",
      "source": [
        "Argumentos indeterminados"
      ],
      "metadata": {
        "id": "byj7_ukmHX3N"
      }
    },
    {
      "cell_type": "code",
      "source": [
        "# suma dos numeros\n",
        "def suma(num1, num2):\n",
        "  return num1 + num2"
      ],
      "metadata": {
        "id": "w0pTdIMpHNCB"
      },
      "execution_count": null,
      "outputs": []
    },
    {
      "cell_type": "code",
      "source": [
        "# suma tres numeros\n",
        "def suma(num1, num2, num3):\n",
        "  return num1 + num2 + num3"
      ],
      "metadata": {
        "id": "XZORr6HJHpHj"
      },
      "execution_count": null,
      "outputs": []
    },
    {
      "cell_type": "code",
      "source": [
        "# suma cuatro numeros\n",
        "def suma(num1, num2, num3, num4):\n",
        "  return num1 + num2 + num3 + num4"
      ],
      "metadata": {
        "id": "n1OAEVbwHxbY"
      },
      "execution_count": null,
      "outputs": []
    },
    {
      "cell_type": "markdown",
      "source": [
        "*args"
      ],
      "metadata": {
        "id": "m2gZziolH3PD"
      }
    },
    {
      "cell_type": "markdown",
      "source": [
        "Permite definir funciones cuyo numero de argumentos es variable. Es decir podemos definir funciones genericas que no aceptan un numero determinado de parametros."
      ],
      "metadata": {
        "id": "MXaRTbYHIhpQ"
      }
    },
    {
      "cell_type": "code",
      "source": [
        "def suma(*args):\n",
        "\n",
        "  resultado = 0\n",
        "\n",
        "  for arg in args:\n",
        "    resultado += arg\n",
        "\n",
        "  return resultado"
      ],
      "metadata": {
        "id": "_GjqMuuuH5EU"
      },
      "execution_count": null,
      "outputs": []
    },
    {
      "cell_type": "code",
      "source": [
        "suma(6,7,8,9)"
      ],
      "metadata": {
        "colab": {
          "base_uri": "https://localhost:8080/"
        },
        "id": "_2YQI2DkIGfR",
        "outputId": "d864f064-a350-4551-961a-1cdaca7fd671"
      },
      "execution_count": null,
      "outputs": [
        {
          "output_type": "execute_result",
          "data": {
            "text/plain": [
              "30"
            ]
          },
          "metadata": {},
          "execution_count": 93
        }
      ]
    },
    {
      "cell_type": "code",
      "source": [
        "suma(1)"
      ],
      "metadata": {
        "colab": {
          "base_uri": "https://localhost:8080/"
        },
        "id": "mobMckhSIaES",
        "outputId": "07373ca9-fbe7-426f-fa42-2f9f20a006f5"
      },
      "execution_count": null,
      "outputs": [
        {
          "output_type": "execute_result",
          "data": {
            "text/plain": [
              "1"
            ]
          },
          "metadata": {},
          "execution_count": 94
        }
      ]
    },
    {
      "cell_type": "code",
      "source": [
        "suma(7,8,9,34,67,12,56,78)"
      ],
      "metadata": {
        "colab": {
          "base_uri": "https://localhost:8080/"
        },
        "id": "_5xiDiclIbTx",
        "outputId": "4dc047ae-6589-4125-ddb4-e7cf682de7ed"
      },
      "execution_count": null,
      "outputs": [
        {
          "output_type": "execute_result",
          "data": {
            "text/plain": [
              "271"
            ]
          },
          "metadata": {},
          "execution_count": 95
        }
      ]
    },
    {
      "cell_type": "markdown",
      "source": [
        "**kwargs"
      ],
      "metadata": {
        "id": "Z3IAL1bMIze6"
      }
    },
    {
      "cell_type": "markdown",
      "source": [
        "Los *kwargs nos permiten dar un nombre a cada argumento de entrada, pudiendo acceder a ellos dentro de la funcion a traves de un diccionario"
      ],
      "metadata": {
        "id": "J4T0otK2I2IX"
      }
    },
    {
      "cell_type": "code",
      "source": [
        "def suma(**kwargs):\n",
        "\n",
        "  resultado = 0\n",
        "\n",
        "  for clave, valor in kwargs.items():\n",
        "    print(f\"clave: {clave}  --- valor: {valor}\")\n",
        "    resultado += valor\n",
        "\n",
        "  return resultado"
      ],
      "metadata": {
        "id": "VXHxOoD_IeSx"
      },
      "execution_count": null,
      "outputs": []
    },
    {
      "cell_type": "code",
      "source": [
        "suma(numero1=5, numero2=15)"
      ],
      "metadata": {
        "colab": {
          "base_uri": "https://localhost:8080/"
        },
        "id": "SwKSboYlJuyJ",
        "outputId": "9ee7b849-5786-42e0-b201-e1d7bb92a48e"
      },
      "execution_count": null,
      "outputs": [
        {
          "output_type": "stream",
          "name": "stdout",
          "text": [
            "clave: numero1  --- valor: 5\n",
            "clave: numero2  --- valor: 15\n"
          ]
        },
        {
          "output_type": "execute_result",
          "data": {
            "text/plain": [
              "20"
            ]
          },
          "metadata": {},
          "execution_count": 98
        }
      ]
    },
    {
      "cell_type": "code",
      "source": [
        "# hacer la funcion operacion(**kwargs)\n",
        "\n",
        "# operacion(numero1, numero2, operacion=)\n",
        "\n",
        "\n",
        "def operacion(**kwargs):\n",
        "  \"\"\"\n",
        "  numero1 numero2 operacion\n",
        "  \"\"\"\n",
        "  print(kwargs)\n",
        "  operacion = kwargs.get(\"operacion\", \"\")\n",
        "  numero1 = kwargs.get(\"numero1\", 0)\n",
        "  numero2 = kwargs.get(\"numero2\", 0)\n",
        "\n",
        "  if operacion == \"+\":\n",
        "    resultado = numero1 + numero2\n",
        "    return resultado\n",
        "\n",
        "  if operacion == \"-\":\n",
        "    resultado = numero1 - numero2\n",
        "    return resultado\n",
        "\n",
        "  if operacion == \"*\":\n",
        "    resultado = numero1 * numero2\n",
        "    return resultado\n",
        "\n",
        "  return None"
      ],
      "metadata": {
        "id": "Y37sUq-IJupJ"
      },
      "execution_count": null,
      "outputs": []
    },
    {
      "cell_type": "code",
      "source": [
        "operacion(numero1=7,numero2=8,operacion=\"-\", numero3 = 8)"
      ],
      "metadata": {
        "colab": {
          "base_uri": "https://localhost:8080/"
        },
        "id": "0HW3SzrPKzVC",
        "outputId": "433a8cab-0d3e-45e6-f390-984b20e7257d"
      },
      "execution_count": null,
      "outputs": [
        {
          "output_type": "stream",
          "name": "stdout",
          "text": [
            "{'numero1': 7, 'numero2': 8, 'operacion': '-', 'numero3': 8}\n"
          ]
        },
        {
          "output_type": "execute_result",
          "data": {
            "text/plain": [
              "-1"
            ]
          },
          "metadata": {},
          "execution_count": 106
        }
      ]
    },
    {
      "cell_type": "markdown",
      "source": [
        "Recursivas"
      ],
      "metadata": {
        "id": "5ruZntZ_M1rE"
      }
    },
    {
      "cell_type": "markdown",
      "source": [
        "** Agregar explicacion **"
      ],
      "metadata": {
        "id": "0JVVn0PYNEHP"
      }
    },
    {
      "cell_type": "code",
      "source": [
        "# Funcion recursiva\n",
        "\n",
        "# factorial(1)  (1!) = 1\n",
        "# factorial(2)  (2!) = 2 * 1\n",
        "# factorial(3)  (3!) = 3 * 2 * 1  ---> 3 * factorial(2)\n",
        "# factorial(4)  (4!) = 4 * 3 * 2 * 1   ---->   4 * factorial(3)\n",
        "# factorial(5)  (5!) = 5 * 4 * 3 * 2 * 1   --->  5 * factorial(4)\n",
        "\n",
        "# 5! = 5 * factorial(5-1)  = 5 * factorial(4) = 5 * 4 * 3 * 2 * 1\n",
        "# x! = x * factorial(x-1)\n",
        "# factorial(x-1) = (x-1)! = (x-1) factorial(x-1-1)\n",
        "\n",
        "\n",
        "def factorial(numero):\n",
        "      print(f\"numero en factorial: \", numero)\n",
        "      if numero == 1:\n",
        "        return 1\n",
        "\n",
        "      numero = numero * factorial(numero-1)\n",
        "\n",
        "      return numero"
      ],
      "metadata": {
        "id": "hDqmyzu_L3ui"
      },
      "execution_count": null,
      "outputs": []
    },
    {
      "cell_type": "code",
      "source": [
        "factorial(1)"
      ],
      "metadata": {
        "colab": {
          "base_uri": "https://localhost:8080/"
        },
        "id": "yM2NXNJdU-JN",
        "outputId": "969fc1c1-f3f2-4c63-b3f6-e10828dc0255"
      },
      "execution_count": null,
      "outputs": [
        {
          "output_type": "execute_result",
          "data": {
            "text/plain": [
              "1"
            ]
          },
          "metadata": {},
          "execution_count": 109
        }
      ]
    },
    {
      "cell_type": "code",
      "source": [
        "factorial(2)"
      ],
      "metadata": {
        "colab": {
          "base_uri": "https://localhost:8080/"
        },
        "id": "lR6XH8HHVAP2",
        "outputId": "ac86d270-0adc-40d0-e7e3-40d4cb898087"
      },
      "execution_count": null,
      "outputs": [
        {
          "output_type": "execute_result",
          "data": {
            "text/plain": [
              "2"
            ]
          },
          "metadata": {},
          "execution_count": 110
        }
      ]
    },
    {
      "cell_type": "code",
      "source": [
        "factorial(3)"
      ],
      "metadata": {
        "colab": {
          "base_uri": "https://localhost:8080/"
        },
        "id": "GQESdLssVEJm",
        "outputId": "2a93c84b-c199-4ee9-c79b-d3fbb149bf4e"
      },
      "execution_count": null,
      "outputs": [
        {
          "output_type": "execute_result",
          "data": {
            "text/plain": [
              "6"
            ]
          },
          "metadata": {},
          "execution_count": 111
        }
      ]
    },
    {
      "cell_type": "code",
      "source": [
        "factorial(4)"
      ],
      "metadata": {
        "colab": {
          "base_uri": "https://localhost:8080/"
        },
        "id": "ar0uLHjbVFu2",
        "outputId": "21446e29-bee8-4a12-824d-089d5e111490"
      },
      "execution_count": null,
      "outputs": [
        {
          "output_type": "execute_result",
          "data": {
            "text/plain": [
              "24"
            ]
          },
          "metadata": {},
          "execution_count": 112
        }
      ]
    },
    {
      "cell_type": "code",
      "source": [
        "factorial(5)"
      ],
      "metadata": {
        "colab": {
          "base_uri": "https://localhost:8080/"
        },
        "id": "6XDV_oMsVHoG",
        "outputId": "5641e597-5fa8-4ae6-814b-00b4981fd3b4"
      },
      "execution_count": null,
      "outputs": [
        {
          "output_type": "stream",
          "name": "stdout",
          "text": [
            "numero en factorial:  5\n",
            "numero en factorial:  4\n",
            "numero en factorial:  3\n",
            "numero en factorial:  2\n",
            "numero en factorial:  1\n"
          ]
        },
        {
          "output_type": "execute_result",
          "data": {
            "text/plain": [
              "120"
            ]
          },
          "metadata": {},
          "execution_count": 115
        }
      ]
    },
    {
      "cell_type": "markdown",
      "source": [
        "Otro ejemplo"
      ],
      "metadata": {
        "id": "uuPG1SckZJTx"
      }
    },
    {
      "cell_type": "code",
      "source": [
        "def invertir_cadena(cadena):\n",
        "    if len(cadena) == 0:  # Caso base\n",
        "        return cadena\n",
        "\n",
        "    return cadena[-1] + invertir_cadena(cadena[:-1])  # Llamada recursiva\n",
        "\n"
      ],
      "metadata": {
        "id": "S_4kENRpY04H"
      },
      "execution_count": null,
      "outputs": []
    },
    {
      "cell_type": "code",
      "source": [
        "invertir_cadena(\"hola\")"
      ],
      "metadata": {
        "colab": {
          "base_uri": "https://localhost:8080/",
          "height": 35
        },
        "id": "IoIeL8hgY_IN",
        "outputId": "d913e1d7-74be-46c6-de44-2e6265b0eff5"
      },
      "execution_count": null,
      "outputs": [
        {
          "output_type": "execute_result",
          "data": {
            "text/plain": [
              "'aloh'"
            ],
            "application/vnd.google.colaboratory.intrinsic+json": {
              "type": "string"
            }
          },
          "metadata": {},
          "execution_count": 127
        }
      ]
    },
    {
      "cell_type": "code",
      "source": [
        "\"hola\"[-1]"
      ],
      "metadata": {
        "colab": {
          "base_uri": "https://localhost:8080/",
          "height": 35
        },
        "id": "5cm7XomxZWXP",
        "outputId": "242d1372-27c5-46c2-9193-547372b384ce"
      },
      "execution_count": null,
      "outputs": [
        {
          "output_type": "execute_result",
          "data": {
            "text/plain": [
              "'a'"
            ],
            "application/vnd.google.colaboratory.intrinsic+json": {
              "type": "string"
            }
          },
          "metadata": {},
          "execution_count": 118
        }
      ]
    },
    {
      "cell_type": "code",
      "source": [
        "\"hola\"[:-1]"
      ],
      "metadata": {
        "colab": {
          "base_uri": "https://localhost:8080/",
          "height": 35
        },
        "id": "5eOJunVtZYVY",
        "outputId": "3c114b1c-23e1-4e11-d71c-a96832e2f003"
      },
      "execution_count": null,
      "outputs": [
        {
          "output_type": "execute_result",
          "data": {
            "text/plain": [
              "'hol'"
            ],
            "application/vnd.google.colaboratory.intrinsic+json": {
              "type": "string"
            }
          },
          "metadata": {},
          "execution_count": 119
        }
      ]
    },
    {
      "cell_type": "code",
      "source": [
        "\"hol\"[-1]"
      ],
      "metadata": {
        "colab": {
          "base_uri": "https://localhost:8080/",
          "height": 35
        },
        "id": "RwtTrHY1ZiKY",
        "outputId": "670713ef-32ea-4b3b-bdd2-a7613ce692ca"
      },
      "execution_count": null,
      "outputs": [
        {
          "output_type": "execute_result",
          "data": {
            "text/plain": [
              "'l'"
            ],
            "application/vnd.google.colaboratory.intrinsic+json": {
              "type": "string"
            }
          },
          "metadata": {},
          "execution_count": 120
        }
      ]
    },
    {
      "cell_type": "code",
      "source": [
        "\"hol\"[:-1]"
      ],
      "metadata": {
        "colab": {
          "base_uri": "https://localhost:8080/",
          "height": 35
        },
        "id": "NejyFkVFZuhW",
        "outputId": "4e8e3bf8-1ac6-4f4d-93f5-c44490edb42d"
      },
      "execution_count": null,
      "outputs": [
        {
          "output_type": "execute_result",
          "data": {
            "text/plain": [
              "'ho'"
            ],
            "application/vnd.google.colaboratory.intrinsic+json": {
              "type": "string"
            }
          },
          "metadata": {},
          "execution_count": 121
        }
      ]
    },
    {
      "cell_type": "code",
      "source": [
        "\"ho\"[-1]"
      ],
      "metadata": {
        "colab": {
          "base_uri": "https://localhost:8080/",
          "height": 35
        },
        "id": "Cgo9UgoMZxiW",
        "outputId": "32b8620f-6501-4452-f84e-57daadf08658"
      },
      "execution_count": null,
      "outputs": [
        {
          "output_type": "execute_result",
          "data": {
            "text/plain": [
              "'o'"
            ],
            "application/vnd.google.colaboratory.intrinsic+json": {
              "type": "string"
            }
          },
          "metadata": {},
          "execution_count": 122
        }
      ]
    },
    {
      "cell_type": "code",
      "source": [
        "\"ho\"[:-1]"
      ],
      "metadata": {
        "colab": {
          "base_uri": "https://localhost:8080/",
          "height": 35
        },
        "id": "syNJjQU2aChm",
        "outputId": "b17da24d-addd-4317-d969-b7c161011f6a"
      },
      "execution_count": null,
      "outputs": [
        {
          "output_type": "execute_result",
          "data": {
            "text/plain": [
              "'h'"
            ],
            "application/vnd.google.colaboratory.intrinsic+json": {
              "type": "string"
            }
          },
          "metadata": {},
          "execution_count": 123
        }
      ]
    },
    {
      "cell_type": "code",
      "source": [
        "\"h\"[-1]"
      ],
      "metadata": {
        "colab": {
          "base_uri": "https://localhost:8080/",
          "height": 35
        },
        "id": "wZoGUCCUaE74",
        "outputId": "da438279-c0fe-41bf-8722-ec54efe73280"
      },
      "execution_count": null,
      "outputs": [
        {
          "output_type": "execute_result",
          "data": {
            "text/plain": [
              "'h'"
            ],
            "application/vnd.google.colaboratory.intrinsic+json": {
              "type": "string"
            }
          },
          "metadata": {},
          "execution_count": 124
        }
      ]
    },
    {
      "cell_type": "code",
      "source": [
        "\"h\"[:-1]"
      ],
      "metadata": {
        "colab": {
          "base_uri": "https://localhost:8080/",
          "height": 35
        },
        "id": "iKB2YplqaHp2",
        "outputId": "bdcfc938-ce06-4dc5-a31d-11fe34647ad4"
      },
      "execution_count": null,
      "outputs": [
        {
          "output_type": "execute_result",
          "data": {
            "text/plain": [
              "''"
            ],
            "application/vnd.google.colaboratory.intrinsic+json": {
              "type": "string"
            }
          },
          "metadata": {},
          "execution_count": 125
        }
      ]
    },
    {
      "cell_type": "code",
      "source": [
        "def multiplicar(a, b):\n",
        "\n",
        "  return a * b\n",
        "\n",
        "\n",
        "def restar(a,b):\n",
        "\n",
        "  resultado = a + b - multiplicar(a,b)\n",
        "\n",
        "  return resultado"
      ],
      "metadata": {
        "id": "25htxixP87Dw"
      },
      "execution_count": 1,
      "outputs": []
    },
    {
      "cell_type": "code",
      "source": [
        "a = 5\n",
        "b = 5\n",
        "\n",
        "restar(a,b)"
      ],
      "metadata": {
        "colab": {
          "base_uri": "https://localhost:8080/"
        },
        "id": "fTTFpJ2d9nXO",
        "outputId": "4a3ad0cd-6c53-4f2c-f03f-80c36a3ea840"
      },
      "execution_count": 2,
      "outputs": [
        {
          "output_type": "execute_result",
          "data": {
            "text/plain": [
              "-15"
            ]
          },
          "metadata": {},
          "execution_count": 2
        }
      ]
    },
    {
      "cell_type": "markdown",
      "source": [
        "Ejemplo con argumentos variables (**kwargs)"
      ],
      "metadata": {
        "id": "ZV_D9unw_bqG"
      }
    },
    {
      "cell_type": "code",
      "source": [
        "# datos de un alumno\n",
        "\n",
        "def actualizar_alumno(alumno, **kwargs):\n",
        "\n",
        "  print(\"alumno: \", alumno)\n",
        "  print(\"argumentos: \", kwargs)\n",
        "\n",
        "  for clave, valor in kwargs.items():\n",
        "    alumno[clave] = valor\n",
        "\n",
        "  return alumno"
      ],
      "metadata": {
        "id": "xG1-SN07_hO3"
      },
      "execution_count": 14,
      "outputs": []
    },
    {
      "cell_type": "code",
      "source": [
        "def update_alumno(alumno, **kwargs):\n",
        "\n",
        "  print(\"alumno: \", alumno)\n",
        "  print(\"argumentos: \", kwargs)\n",
        "\n",
        "  alumno.update(kwargs)\n",
        "\n",
        "  return alumno"
      ],
      "metadata": {
        "id": "JMSSQuwGEj3V"
      },
      "execution_count": 16,
      "outputs": []
    },
    {
      "cell_type": "code",
      "source": [
        "alumno = {\n",
        "    \"nombre\": \"Pablo\",\n",
        "    \"apellido\": \"Perez\"\n",
        "}\n",
        "\n",
        "actualizar_alumno(alumno, edad=25, curso=\"Python\", nombre=\"Juan\")\n",
        "update_alumno(alumno, altura=1.89, apellido=\"Lopez\")\n",
        "\n",
        "# alumno = {\n",
        "#   \"nombre\": \"Pablo\",\n",
        "#   \"apellido\": \"Perez\"\n",
        "#   \"edad\": 45,\n",
        "#    \"curso\" : \"python\"\n",
        "# }\n",
        "\n"
      ],
      "metadata": {
        "colab": {
          "base_uri": "https://localhost:8080/"
        },
        "id": "u6zGdDlYAdSI",
        "outputId": "1875a25c-ab7e-4f85-b5e7-4f9d08f3f38f"
      },
      "execution_count": 18,
      "outputs": [
        {
          "output_type": "stream",
          "name": "stdout",
          "text": [
            "alumno:  {'nombre': 'Pablo', 'apellido': 'Perez'}\n",
            "argumentos:  {'edad': 25, 'curso': 'Python', 'nombre': 'Juan'}\n",
            "alumno:  {'nombre': 'Juan', 'apellido': 'Perez', 'edad': 25, 'curso': 'Python'}\n",
            "argumentos:  {'altura': 1.89, 'apellido': 'Lopez'}\n"
          ]
        },
        {
          "output_type": "execute_result",
          "data": {
            "text/plain": [
              "{'nombre': 'Juan',\n",
              " 'apellido': 'Lopez',\n",
              " 'edad': 25,\n",
              " 'curso': 'Python',\n",
              " 'altura': 1.89}"
            ]
          },
          "metadata": {},
          "execution_count": 18
        }
      ]
    },
    {
      "cell_type": "markdown",
      "source": [
        "mesh"
      ],
      "metadata": {
        "id": "2AgvZRtWGAY3"
      }
    },
    {
      "cell_type": "code",
      "source": [
        "diccionario1 = {\"a\": 1, \"b\": 2}\n",
        "diccionario2 = {\"c\": 3, \"d\": 4}\n",
        "\n",
        "dic_new = {**diccionario1, **diccionario2}\n",
        "dic_new"
      ],
      "metadata": {
        "colab": {
          "base_uri": "https://localhost:8080/"
        },
        "id": "1BJj0VqiGCBV",
        "outputId": "22abf50a-a482-46f5-b1e6-44afdceb35e5"
      },
      "execution_count": 20,
      "outputs": [
        {
          "output_type": "execute_result",
          "data": {
            "text/plain": [
              "{'a': 1, 'b': 2, 'c': 3, 'd': 4}"
            ]
          },
          "metadata": {},
          "execution_count": 20
        }
      ]
    },
    {
      "cell_type": "code",
      "source": [
        "def mesh_alumno(alumno, **kwargs):\n",
        "  alumno = {**alumno, **kwargs}\n",
        "  return alumno"
      ],
      "metadata": {
        "id": "i08cWaXYHL3i"
      },
      "execution_count": 22,
      "outputs": []
    },
    {
      "cell_type": "code",
      "source": [
        "alumno"
      ],
      "metadata": {
        "colab": {
          "base_uri": "https://localhost:8080/"
        },
        "id": "GCiOZTE1H5ZV",
        "outputId": "29686e3f-f27e-4bf9-aaf6-ca1de16ae94e"
      },
      "execution_count": 23,
      "outputs": [
        {
          "output_type": "execute_result",
          "data": {
            "text/plain": [
              "{'nombre': 'Juan',\n",
              " 'apellido': 'Lopez',\n",
              " 'edad': 25,\n",
              " 'curso': 'Python',\n",
              " 'altura': 1.89}"
            ]
          },
          "metadata": {},
          "execution_count": 23
        }
      ]
    },
    {
      "cell_type": "code",
      "source": [
        "mesh_alumno(alumno, peso=56.9)\n"
      ],
      "metadata": {
        "colab": {
          "base_uri": "https://localhost:8080/"
        },
        "id": "IeziH9GkH7IX",
        "outputId": "34051d5d-5bbf-4f3d-e419-a3f12dcfc611"
      },
      "execution_count": 25,
      "outputs": [
        {
          "output_type": "execute_result",
          "data": {
            "text/plain": [
              "{'nombre': 'Juan',\n",
              " 'apellido': 'Lopez',\n",
              " 'edad': 25,\n",
              " 'curso': 'Python',\n",
              " 'altura': 1.89,\n",
              " 'peso': 56.9}"
            ]
          },
          "metadata": {},
          "execution_count": 25
        }
      ]
    },
    {
      "cell_type": "code",
      "source": [
        "# definicion de la funcion\n",
        "def listar(*args):\n",
        "  print(\"args: \", args)\n",
        "\n",
        "  for arg in args:\n",
        "    print(arg)\n",
        "\n",
        "  return\n",
        "\n",
        "# llamadas a la funcion\n",
        "listar(34,78,12,\"45\", 78.8)\n",
        "listar(34,78,12,45, 78.8)"
      ],
      "metadata": {
        "colab": {
          "base_uri": "https://localhost:8080/"
        },
        "id": "OWZPBjGPAxR8",
        "outputId": "ab2b55b7-5691-4c51-80f8-856608e3cbe4"
      },
      "execution_count": 21,
      "outputs": [
        {
          "output_type": "stream",
          "name": "stdout",
          "text": [
            "args:  (34, 78, 12, '45', 78.8)\n",
            "34\n",
            "78\n",
            "12\n",
            "45\n",
            "78.8\n",
            "args:  (34, 78, 12, 45, 78.8)\n",
            "34\n",
            "78\n",
            "12\n",
            "45\n",
            "78.8\n"
          ]
        }
      ]
    },
    {
      "cell_type": "code",
      "source": [
        "# puede cambiar el args, pero no es comun encontrarlo asi\n",
        "def listar(*pepe):\n",
        "  print(\"args: \", pepe)\n",
        "\n",
        "  for arg in pepe:\n",
        "    print(arg)\n",
        "\n",
        "  return\n",
        "\n",
        "\n",
        "listar(34,78,12,\"45\", 78.8)"
      ],
      "metadata": {
        "colab": {
          "base_uri": "https://localhost:8080/"
        },
        "id": "MY9FoDx4Bik8",
        "outputId": "20ab6d77-1ecc-4a67-833c-5b50bddafcda"
      },
      "execution_count": 10,
      "outputs": [
        {
          "output_type": "stream",
          "name": "stdout",
          "text": [
            "args:  (34, 78, 12, '45', 78.8)\n",
            "34\n",
            "78\n",
            "12\n",
            "45\n",
            "78.8\n"
          ]
        }
      ]
    },
    {
      "cell_type": "markdown",
      "source": [
        "Docstrings"
      ],
      "metadata": {
        "id": "D8FlWEEaIdb5"
      }
    },
    {
      "cell_type": "code",
      "source": [
        "len([0, 4, 6])"
      ],
      "metadata": {
        "colab": {
          "base_uri": "https://localhost:8080/"
        },
        "id": "l0SbgkiVIfD7",
        "outputId": "8f02c0e9-ede2-416f-cd9c-2ca94682d024"
      },
      "execution_count": 26,
      "outputs": [
        {
          "output_type": "execute_result",
          "data": {
            "text/plain": [
              "3"
            ]
          },
          "metadata": {},
          "execution_count": 26
        }
      ]
    },
    {
      "cell_type": "code",
      "source": [
        "help(len)"
      ],
      "metadata": {
        "colab": {
          "base_uri": "https://localhost:8080/"
        },
        "id": "mM7JX1UWIi7_",
        "outputId": "0129c00f-d8d1-4a83-ec74-7d6119397cc6"
      },
      "execution_count": 27,
      "outputs": [
        {
          "output_type": "stream",
          "name": "stdout",
          "text": [
            "Help on built-in function len in module builtins:\n",
            "\n",
            "len(obj, /)\n",
            "    Return the number of items in a container.\n",
            "\n"
          ]
        }
      ]
    },
    {
      "cell_type": "code",
      "source": [
        "def nueva_sumar(a, b):\n",
        "  \"\"\"\n",
        "  Esta funcion suma dos numeros enteros\n",
        "\n",
        "  a: entero\n",
        "  b: entero\n",
        "\n",
        "  Retorna la suma de a + b\n",
        "  \"\"\"\n",
        "\n",
        "  return a + b"
      ],
      "metadata": {
        "id": "cianYt_VIn8L"
      },
      "execution_count": 30,
      "outputs": []
    },
    {
      "cell_type": "code",
      "source": [
        "help(nueva_sumar)"
      ],
      "metadata": {
        "colab": {
          "base_uri": "https://localhost:8080/"
        },
        "id": "UYnLgtBYItSG",
        "outputId": "bc834d53-0358-413a-f59d-3bd61d80f8bf"
      },
      "execution_count": 31,
      "outputs": [
        {
          "output_type": "stream",
          "name": "stdout",
          "text": [
            "Help on function nueva_sumar in module __main__:\n",
            "\n",
            "nueva_sumar(a, b)\n",
            "    Esta funcion suma dos numeros enteros\n",
            "    \n",
            "    a: entero\n",
            "    b: entero\n",
            "    \n",
            "    Retorna la suma de a + b\n",
            "\n"
          ]
        }
      ]
    },
    {
      "cell_type": "code",
      "source": [
        "nueva_sumar(5,6)"
      ],
      "metadata": {
        "id": "eUBt4Qe5JYHn"
      },
      "execution_count": null,
      "outputs": []
    },
    {
      "cell_type": "markdown",
      "source": [
        "![green-divider](https://user-images.githubusercontent.com/7065401/52071924-c003ad80-2562-11e9-8297-1c6595f8a7ff.png)\n",
        "\n",
        "### Typehints"
      ],
      "metadata": {
        "id": "IG4TRS4Xa2Ke"
      }
    },
    {
      "cell_type": "markdown",
      "source": [
        "* disponible en python desde la version 3.5\n",
        "* no es obligatorio usarlo\n",
        "* especificar los tipos de datos de los argumentos de las funciones\n",
        "* especificar el tipo de dato que retorna una funcion\n",
        "* chequeo estatico -- no en runtime"
      ],
      "metadata": {
        "id": "WZ55iQu_bCkC"
      }
    },
    {
      "cell_type": "code",
      "source": [
        "def suma(numero1, numero2):\n",
        "  resultado = numero1 + numero2\n",
        "  return resultado"
      ],
      "metadata": {
        "id": "qV2ejhdUaKGX"
      },
      "execution_count": null,
      "outputs": []
    },
    {
      "cell_type": "code",
      "source": [
        "c = \"a\" + \"s\"\n",
        "c"
      ],
      "metadata": {
        "colab": {
          "base_uri": "https://localhost:8080/",
          "height": 35
        },
        "id": "VHYh-LvQb0oY",
        "outputId": "55efaef6-5a59-4df2-9958-b4511ce11452"
      },
      "execution_count": null,
      "outputs": [
        {
          "output_type": "execute_result",
          "data": {
            "text/plain": [
              "'as'"
            ],
            "application/vnd.google.colaboratory.intrinsic+json": {
              "type": "string"
            }
          },
          "metadata": {},
          "execution_count": 129
        }
      ]
    },
    {
      "cell_type": "code",
      "source": [
        "[1,2] + [3,5]"
      ],
      "metadata": {
        "colab": {
          "base_uri": "https://localhost:8080/"
        },
        "id": "Eo0OcK2Scj9R",
        "outputId": "56157207-0fed-4015-d0bf-e487cdd6386e"
      },
      "execution_count": null,
      "outputs": [
        {
          "output_type": "execute_result",
          "data": {
            "text/plain": [
              "[1, 2, 3, 5]"
            ]
          },
          "metadata": {},
          "execution_count": 131
        }
      ]
    },
    {
      "cell_type": "code",
      "source": [
        "def suma_enteros(numero1: int, numero2: int)-> int:\n",
        "  resultado = numero1 + numero2\n",
        "  return resultado"
      ],
      "metadata": {
        "id": "ZIs3djX_b5ml"
      },
      "execution_count": null,
      "outputs": []
    },
    {
      "cell_type": "code",
      "source": [
        "# error chequeo estatico\n",
        "lista1 = []\n",
        "lista2 = []\n",
        "\n",
        "suma_enteros(lista1, lista2)"
      ],
      "metadata": {
        "id": "GqjmqOxlcIDU"
      },
      "execution_count": null,
      "outputs": []
    },
    {
      "cell_type": "code",
      "source": [
        "suma_enteros(\"e\", \"r\")"
      ],
      "metadata": {
        "colab": {
          "base_uri": "https://localhost:8080/",
          "height": 35
        },
        "id": "TzfjyJ_cdZm7",
        "outputId": "644f56fa-c2ae-441c-b393-380f7aa7f92e"
      },
      "execution_count": null,
      "outputs": [
        {
          "output_type": "execute_result",
          "data": {
            "text/plain": [
              "'er'"
            ],
            "application/vnd.google.colaboratory.intrinsic+json": {
              "type": "string"
            }
          },
          "metadata": {},
          "execution_count": 133
        }
      ]
    },
    {
      "cell_type": "code",
      "source": [
        "suma_enteros(\"5\", 5)"
      ],
      "metadata": {
        "id": "ojWnmKb9d9n3"
      },
      "execution_count": null,
      "outputs": []
    },
    {
      "cell_type": "markdown",
      "source": [
        "Repaso y continuación de typehints"
      ],
      "metadata": {
        "id": "jtsZlr0FJ8sc"
      }
    },
    {
      "cell_type": "markdown",
      "source": [
        "* disponible en python desde la version 3.5\n",
        "* no es obligatorio usarlo    ----> a partir de ahora vamos a usarlo!!!\n",
        "* especificar los tipos de datos de los argumentos de las funciones\n",
        "* especificar el tipo de dato que retorna una funcion\n",
        "* chequeo estatico -- no en runtime"
      ],
      "metadata": {
        "id": "l8wIBuqIKAyD"
      }
    },
    {
      "cell_type": "code",
      "source": [
        "# sin typehints\n",
        "def restar(a, b):\n",
        "  return a -b"
      ],
      "metadata": {
        "id": "s7dPxDHAeVem"
      },
      "execution_count": null,
      "outputs": []
    },
    {
      "cell_type": "code",
      "source": [
        "# especificar los tipos de datos de los argumantos\n",
        "def restar(a: int, b: int):\n",
        "  return a -b"
      ],
      "metadata": {
        "id": "74sS7vGcKU2Z"
      },
      "execution_count": 33,
      "outputs": []
    },
    {
      "cell_type": "code",
      "source": [
        "# especificar los tipos de datos de los argumantos y lo que retorna\n",
        "def restar(a: int, b: int)-> int:\n",
        "  return a - b"
      ],
      "metadata": {
        "id": "SlmrIU0pKlbw"
      },
      "execution_count": 37,
      "outputs": []
    },
    {
      "cell_type": "code",
      "source": [
        "restar(10, 5)"
      ],
      "metadata": {
        "colab": {
          "base_uri": "https://localhost:8080/"
        },
        "id": "g1SKFrU2Kz8Q",
        "outputId": "bf744c60-43be-4eab-f36d-2b1157cd4a3b"
      },
      "execution_count": 35,
      "outputs": [
        {
          "output_type": "execute_result",
          "data": {
            "text/plain": [
              "5"
            ]
          },
          "metadata": {},
          "execution_count": 35
        }
      ]
    },
    {
      "cell_type": "code",
      "source": [
        "restar(45.78, 45.9)"
      ],
      "metadata": {
        "colab": {
          "base_uri": "https://localhost:8080/"
        },
        "id": "4itnbnGwK2VQ",
        "outputId": "feac2867-c7a9-44d5-8d7d-fa6e14b800fe"
      },
      "execution_count": 36,
      "outputs": [
        {
          "output_type": "execute_result",
          "data": {
            "text/plain": [
              "-0.11999999999999744"
            ]
          },
          "metadata": {},
          "execution_count": 36
        }
      ]
    },
    {
      "cell_type": "code",
      "source": [
        "def sumar(a: int, b: int)-> int:\n",
        "  return a + b"
      ],
      "metadata": {
        "id": "yPVI4P6UK-lw"
      },
      "execution_count": 38,
      "outputs": []
    },
    {
      "cell_type": "code",
      "source": [
        "[0,3] + [6,8]"
      ],
      "metadata": {
        "colab": {
          "base_uri": "https://localhost:8080/"
        },
        "id": "tlflWxySLRKQ",
        "outputId": "8e856614-69f1-4602-ecd9-cc5e3cb7d718"
      },
      "execution_count": 39,
      "outputs": [
        {
          "output_type": "execute_result",
          "data": {
            "text/plain": [
              "[0, 3, 6, 8]"
            ]
          },
          "metadata": {},
          "execution_count": 39
        }
      ]
    },
    {
      "cell_type": "code",
      "source": [
        "\"a\" + \"b\""
      ],
      "metadata": {
        "colab": {
          "base_uri": "https://localhost:8080/",
          "height": 36
        },
        "id": "2RBkf8H7LVgQ",
        "outputId": "3c16ba47-42f4-49b8-998b-d1ecb88ba8e4"
      },
      "execution_count": 40,
      "outputs": [
        {
          "output_type": "execute_result",
          "data": {
            "text/plain": [
              "'ab'"
            ],
            "application/vnd.google.colaboratory.intrinsic+json": {
              "type": "string"
            }
          },
          "metadata": {},
          "execution_count": 40
        }
      ]
    },
    {
      "cell_type": "code",
      "source": [
        "valor1 = 1\n",
        "valor2 = 6\n",
        "\n",
        "sumar(valor1, valor2)"
      ],
      "metadata": {
        "colab": {
          "base_uri": "https://localhost:8080/"
        },
        "id": "YOPiVwGXLXSh",
        "outputId": "c57c1eee-ff84-43c8-bdf3-af4c3bcd1892"
      },
      "execution_count": 42,
      "outputs": [
        {
          "output_type": "execute_result",
          "data": {
            "text/plain": [
              "7"
            ]
          },
          "metadata": {},
          "execution_count": 42
        }
      ]
    },
    {
      "cell_type": "code",
      "source": [
        "valor1 = [0, 6, 7]\n",
        "valor2 = [8, 9, 10]\n",
        "\n",
        "sumar(valor1, valor2)"
      ],
      "metadata": {
        "colab": {
          "base_uri": "https://localhost:8080/"
        },
        "id": "Ril4KmioLcJf",
        "outputId": "9d797599-76fd-47fc-a5b8-23d8c56dde01"
      },
      "execution_count": 43,
      "outputs": [
        {
          "output_type": "execute_result",
          "data": {
            "text/plain": [
              "[0, 6, 7, 8, 9, 10]"
            ]
          },
          "metadata": {},
          "execution_count": 43
        }
      ]
    },
    {
      "cell_type": "code",
      "source": [
        "valor1 = \"a\"\n",
        "valor2 = \"b\"\n",
        "\n",
        "sumar(valor1, valor2)"
      ],
      "metadata": {
        "colab": {
          "base_uri": "https://localhost:8080/",
          "height": 36
        },
        "id": "Ss1eyVftLsxy",
        "outputId": "ab9dac8d-03be-431a-f117-067f43d44811"
      },
      "execution_count": 44,
      "outputs": [
        {
          "output_type": "execute_result",
          "data": {
            "text/plain": [
              "'ab'"
            ],
            "application/vnd.google.colaboratory.intrinsic+json": {
              "type": "string"
            }
          },
          "metadata": {},
          "execution_count": 44
        }
      ]
    },
    {
      "cell_type": "markdown",
      "source": [
        "Ejemplo de typehints"
      ],
      "metadata": {
        "id": "5o07cVApNN6Z"
      }
    },
    {
      "cell_type": "code",
      "source": [
        "def factorial(numero: int)-> int:\n",
        "\n",
        "  if numero == 1:\n",
        "    return 1\n",
        "\n",
        "  resultado = numero * factorial(numero -1)\n",
        "\n",
        "  return resultado"
      ],
      "metadata": {
        "id": "kFZVHhc5Lxm_"
      },
      "execution_count": 46,
      "outputs": []
    },
    {
      "cell_type": "code",
      "source": [
        "def saludar(nombre):\n",
        "  return f\"Hola {nombre}\""
      ],
      "metadata": {
        "id": "EeQrtVjjNsCh"
      },
      "execution_count": 47,
      "outputs": []
    },
    {
      "cell_type": "code",
      "source": [
        "saludar(\"Juan\")"
      ],
      "metadata": {
        "colab": {
          "base_uri": "https://localhost:8080/",
          "height": 36
        },
        "id": "HycyJMsKOEW2",
        "outputId": "891defec-0af1-4a39-f3f3-a33c86954822"
      },
      "execution_count": 48,
      "outputs": [
        {
          "output_type": "execute_result",
          "data": {
            "text/plain": [
              "'Hola Juan'"
            ],
            "application/vnd.google.colaboratory.intrinsic+json": {
              "type": "string"
            }
          },
          "metadata": {},
          "execution_count": 48
        }
      ]
    },
    {
      "cell_type": "code",
      "source": [
        "def saludar(nombre: str)-> str:\n",
        "  return f\"Hola {nombre}\""
      ],
      "metadata": {
        "id": "Q9eTD2j2N6V9"
      },
      "execution_count": 50,
      "outputs": []
    },
    {
      "cell_type": "code",
      "source": [
        "def actualizar_alumno(alumno: dict, clave_valor: dict)-> dict:\n",
        "  alumno = {**alumno, **clave_valor}\n",
        "  return alumno"
      ],
      "metadata": {
        "id": "QZfhiOTWR0HA"
      },
      "execution_count": 49,
      "outputs": []
    },
    {
      "cell_type": "code",
      "source": [
        "def agregar(lista: list, objeto: int)-> None:\n",
        "  lista.append(objeto)\n",
        "  return"
      ],
      "metadata": {
        "id": "g8BqdkDlSa5A"
      },
      "execution_count": 52,
      "outputs": []
    },
    {
      "cell_type": "code",
      "source": [
        "lista = [0, 6, 7, 8]\n",
        "\n",
        "agregar(lista, 9)\n",
        "lista"
      ],
      "metadata": {
        "colab": {
          "base_uri": "https://localhost:8080/"
        },
        "id": "51j_DNsQTZyY",
        "outputId": "878afa43-d1b5-4c14-c625-723233738c4e"
      },
      "execution_count": 53,
      "outputs": [
        {
          "output_type": "execute_result",
          "data": {
            "text/plain": [
              "[0, 6, 7, 8, 9]"
            ]
          },
          "metadata": {},
          "execution_count": 53
        }
      ]
    },
    {
      "cell_type": "code",
      "source": [
        "# Hacer una funcion calc con suma o division\n",
        "# calc(numero1, numero2, op)\n",
        "# si op = 1 --> suma  op = 0 divide\n",
        "# retornar el resultado"
      ],
      "metadata": {
        "id": "taU0VfWsTdHb"
      },
      "execution_count": null,
      "outputs": []
    },
    {
      "cell_type": "code",
      "source": [
        "def calc(numero1, numero2, op):\n",
        "    resultado = None\n",
        "\n",
        "    if op == 1:\n",
        "      resultado = numero1 + numero2\n",
        "    elif op == 0:\n",
        "      resutado = numero2 / numero1\n",
        "\n",
        "    return resultado"
      ],
      "metadata": {
        "id": "8ke4I0-eU8-N"
      },
      "execution_count": 54,
      "outputs": []
    },
    {
      "cell_type": "code",
      "source": [
        "calc(8, 7, 1)"
      ],
      "metadata": {
        "colab": {
          "base_uri": "https://localhost:8080/"
        },
        "id": "bLnxpamxWSNu",
        "outputId": "0bff3fbe-3c17-4516-c8d6-c2df1becc7aa"
      },
      "execution_count": 55,
      "outputs": [
        {
          "output_type": "execute_result",
          "data": {
            "text/plain": [
              "15"
            ]
          },
          "metadata": {},
          "execution_count": 55
        }
      ]
    },
    {
      "cell_type": "code",
      "source": [
        "calc(4,8,0)"
      ],
      "metadata": {
        "colab": {
          "base_uri": "https://localhost:8080/"
        },
        "id": "9rXYSj8rXGlq",
        "outputId": "c7b6210b-fded-41c7-a681-c42af2bf7ed4"
      },
      "execution_count": 57,
      "outputs": [
        {
          "output_type": "execute_result",
          "data": {
            "text/plain": [
              "2.0"
            ]
          },
          "metadata": {},
          "execution_count": 57
        }
      ]
    },
    {
      "cell_type": "code",
      "source": [
        "from typing import Union\n",
        "\n",
        "def calc(numero1: int, numero2: int, op: int)-> Union[int, float, None]:\n",
        "    resultado = None\n",
        "\n",
        "    if op == 1:\n",
        "      resultado = numero1 + numero2\n",
        "    elif op == 0:\n",
        "      resultado = numero2 / numero1\n",
        "\n",
        "    return resultado"
      ],
      "metadata": {
        "id": "pcZX8u55XKcL"
      },
      "execution_count": 63,
      "outputs": []
    },
    {
      "cell_type": "code",
      "source": [
        "calc(4, 6, 0)"
      ],
      "metadata": {
        "colab": {
          "base_uri": "https://localhost:8080/"
        },
        "id": "iuXqec6HYAxY",
        "outputId": "00f73a01-70ac-4637-b026-f8bb360cec99"
      },
      "execution_count": 64,
      "outputs": [
        {
          "output_type": "execute_result",
          "data": {
            "text/plain": [
              "1.5"
            ]
          },
          "metadata": {},
          "execution_count": 64
        }
      ]
    },
    {
      "cell_type": "code",
      "source": [
        "calc(4, 6, 1)"
      ],
      "metadata": {
        "colab": {
          "base_uri": "https://localhost:8080/"
        },
        "id": "H2_ldLyZYWDI",
        "outputId": "dd3c45ce-7c27-43f0-c5ac-5f0ce1a0187b"
      },
      "execution_count": 65,
      "outputs": [
        {
          "output_type": "execute_result",
          "data": {
            "text/plain": [
              "10"
            ]
          },
          "metadata": {},
          "execution_count": 65
        }
      ]
    }
  ]
}