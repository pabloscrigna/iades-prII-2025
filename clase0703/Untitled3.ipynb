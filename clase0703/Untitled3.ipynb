{
  "nbformat": 4,
  "nbformat_minor": 0,
  "metadata": {
    "colab": {
      "provenance": []
    },
    "kernelspec": {
      "name": "python3",
      "display_name": "Python 3"
    },
    "language_info": {
      "name": "python"
    }
  },
  "cells": [
    {
      "cell_type": "markdown",
      "source": [
        "# int\n",
        "# bool\n",
        "# str\n",
        "# float\n",
        "# diccionario\n",
        "# lista\n",
        "# tupla\n",
        "# sets"
      ],
      "metadata": {
        "id": "qRzNNB_cYN_R"
      }
    },
    {
      "cell_type": "code",
      "execution_count": 1,
      "metadata": {
        "id": "DyCZzJXSW06A"
      },
      "outputs": [],
      "source": [
        "foo = []   # lista"
      ]
    },
    {
      "cell_type": "code",
      "source": [
        "foo = {}  # diccionario"
      ],
      "metadata": {
        "id": "ep47aENZX7f0"
      },
      "execution_count": 2,
      "outputs": []
    },
    {
      "cell_type": "code",
      "source": [
        "foo = {\"a\": 2, \"b\": 4} # diccionario"
      ],
      "metadata": {
        "id": "1odJguOhYl-x"
      },
      "execution_count": 4,
      "outputs": []
    },
    {
      "cell_type": "code",
      "source": [
        "foo = (5, 7, 8)  # tupla"
      ],
      "metadata": {
        "id": "P3TEcdqFYsiG"
      },
      "execution_count": 5,
      "outputs": []
    },
    {
      "cell_type": "code",
      "source": [
        "foo = {4, 6, 7, 8, 8 , 8}"
      ],
      "metadata": {
        "id": "PfZMtgI9X9sk"
      },
      "execution_count": 6,
      "outputs": []
    },
    {
      "cell_type": "code",
      "source": [
        "len(foo)"
      ],
      "metadata": {
        "colab": {
          "base_uri": "https://localhost:8080/"
        },
        "id": "P-jMqtwiYBsF",
        "outputId": "46cbc589-0c08-43da-9cdb-1f0b3af3ae54"
      },
      "execution_count": 7,
      "outputs": [
        {
          "output_type": "execute_result",
          "data": {
            "text/plain": [
              "4"
            ]
          },
          "metadata": {},
          "execution_count": 7
        }
      ]
    },
    {
      "cell_type": "code",
      "source": [
        "type(foo)"
      ],
      "metadata": {
        "colab": {
          "base_uri": "https://localhost:8080/"
        },
        "id": "c0-Mc9JlZClO",
        "outputId": "9b71fd62-a0a5-4b91-9d7e-fe6f1b9b5d90"
      },
      "execution_count": 8,
      "outputs": [
        {
          "output_type": "execute_result",
          "data": {
            "text/plain": [
              "set"
            ]
          },
          "metadata": {},
          "execution_count": 8
        }
      ]
    },
    {
      "cell_type": "code",
      "source": [
        "# importa la libreria time\n",
        "import time\n"
      ],
      "metadata": {
        "id": "Wmq7cggFZEdu"
      },
      "execution_count": 9,
      "outputs": []
    },
    {
      "cell_type": "code",
      "source": [
        "def cuadrado(cuadrado):\n",
        "  print(cuadrado)\n",
        "  time.sleep(cuadrado)\n",
        "  return cuadrado ** 2"
      ],
      "metadata": {
        "id": "hQdUR3WOZPxs"
      },
      "execution_count": 11,
      "outputs": []
    },
    {
      "cell_type": "code",
      "source": [
        "print(cuadrado(5))"
      ],
      "metadata": {
        "colab": {
          "base_uri": "https://localhost:8080/"
        },
        "id": "aKFhusBzZjcJ",
        "outputId": "f261b7f3-7f24-441e-edf4-38975e1ee249"
      },
      "execution_count": 13,
      "outputs": [
        {
          "output_type": "stream",
          "name": "stdout",
          "text": [
            "5\n",
            "25\n"
          ]
        }
      ]
    },
    {
      "cell_type": "code",
      "source": [
        "# importamos lru_cache\n",
        "from functools import lru_cache"
      ],
      "metadata": {
        "id": "-bDobAh3Zppp"
      },
      "execution_count": 14,
      "outputs": []
    },
    {
      "cell_type": "code",
      "source": [
        "@lru_cache\n",
        "def cuadrado(cuadrado):\n",
        "  print(cuadrado)\n",
        "  time.sleep(cuadrado)\n",
        "  return cuadrado ** 2"
      ],
      "metadata": {
        "id": "rBQbr9rBdow7"
      },
      "execution_count": 15,
      "outputs": []
    },
    {
      "cell_type": "code",
      "source": [
        "cuadrado(5)"
      ],
      "metadata": {
        "colab": {
          "base_uri": "https://localhost:8080/"
        },
        "id": "Tuw6eXmWd0jS",
        "outputId": "e5eca01c-55db-4b13-976b-96222c160895"
      },
      "execution_count": 16,
      "outputs": [
        {
          "output_type": "stream",
          "name": "stdout",
          "text": [
            "5\n"
          ]
        },
        {
          "output_type": "execute_result",
          "data": {
            "text/plain": [
              "25"
            ]
          },
          "metadata": {},
          "execution_count": 16
        }
      ]
    },
    {
      "cell_type": "code",
      "source": [
        "cuadrado(5)"
      ],
      "metadata": {
        "colab": {
          "base_uri": "https://localhost:8080/"
        },
        "id": "Ql542FTTd5nq",
        "outputId": "e084ed45-1fde-497f-e77a-b9c099699af2"
      },
      "execution_count": 17,
      "outputs": [
        {
          "output_type": "execute_result",
          "data": {
            "text/plain": [
              "25"
            ]
          },
          "metadata": {},
          "execution_count": 17
        }
      ]
    },
    {
      "cell_type": "code",
      "source": [
        "cuadrado(10)"
      ],
      "metadata": {
        "colab": {
          "base_uri": "https://localhost:8080/"
        },
        "id": "-MFzVXl9d9kL",
        "outputId": "82f9f841-b789-4c03-dbac-451e34458540"
      },
      "execution_count": 18,
      "outputs": [
        {
          "output_type": "stream",
          "name": "stdout",
          "text": [
            "10\n"
          ]
        },
        {
          "output_type": "execute_result",
          "data": {
            "text/plain": [
              "100"
            ]
          },
          "metadata": {},
          "execution_count": 18
        }
      ]
    },
    {
      "cell_type": "code",
      "source": [
        "cuadrado(10)"
      ],
      "metadata": {
        "colab": {
          "base_uri": "https://localhost:8080/"
        },
        "id": "JbYYavHieAoq",
        "outputId": "facd8727-6ff6-4630-c615-e7fedbb222ae"
      },
      "execution_count": 19,
      "outputs": [
        {
          "output_type": "execute_result",
          "data": {
            "text/plain": [
              "100"
            ]
          },
          "metadata": {},
          "execution_count": 19
        }
      ]
    },
    {
      "cell_type": "code",
      "source": [
        "cuadrado(5)"
      ],
      "metadata": {
        "colab": {
          "base_uri": "https://localhost:8080/"
        },
        "id": "qFzXfMdteGAo",
        "outputId": "ae2ebc24-f9df-41a8-9bdd-746d66308a1a"
      },
      "execution_count": 20,
      "outputs": [
        {
          "output_type": "execute_result",
          "data": {
            "text/plain": [
              "25"
            ]
          },
          "metadata": {},
          "execution_count": 20
        }
      ]
    },
    {
      "cell_type": "code",
      "source": [
        "cuadrado(4)"
      ],
      "metadata": {
        "colab": {
          "base_uri": "https://localhost:8080/"
        },
        "id": "GjkAGDW7eNbR",
        "outputId": "ae307d8b-6065-493c-c622-c3faf536c39d"
      },
      "execution_count": 21,
      "outputs": [
        {
          "output_type": "stream",
          "name": "stdout",
          "text": [
            "4\n"
          ]
        },
        {
          "output_type": "execute_result",
          "data": {
            "text/plain": [
              "16"
            ]
          },
          "metadata": {},
          "execution_count": 21
        }
      ]
    },
    {
      "cell_type": "code",
      "source": [
        "cuadrado()"
      ],
      "metadata": {
        "id": "M8HLJnhkeO43"
      },
      "execution_count": null,
      "outputs": []
    },
    {
      "cell_type": "code",
      "source": [
        "lru_cache"
      ],
      "metadata": {
        "colab": {
          "base_uri": "https://localhost:8080/",
          "height": 186
        },
        "id": "qM28yF-ffrCe",
        "outputId": "128b73f5-ae8e-4e61-8c8a-023331c8e8e8"
      },
      "execution_count": 22,
      "outputs": [
        {
          "output_type": "execute_result",
          "data": {
            "text/plain": [
              "<function functools.lru_cache(maxsize=128, typed=False)>"
            ],
            "text/html": [
              "<div style=\"max-width:800px; border: 1px solid var(--colab-border-color);\"><style>\n",
              "      pre.function-repr-contents {\n",
              "        overflow-x: auto;\n",
              "        padding: 8px 12px;\n",
              "        max-height: 500px;\n",
              "      }\n",
              "\n",
              "      pre.function-repr-contents.function-repr-contents-collapsed {\n",
              "        cursor: pointer;\n",
              "        max-height: 100px;\n",
              "      }\n",
              "    </style>\n",
              "    <pre style=\"white-space: initial; background:\n",
              "         var(--colab-secondary-surface-color); padding: 8px 12px;\n",
              "         border-bottom: 1px solid var(--colab-border-color);\"><b>functools.lru_cache</b><br/>def lru_cache(maxsize=128, typed=False)</pre><pre class=\"function-repr-contents function-repr-contents-collapsed\" style=\"\"><a class=\"filepath\" style=\"display:none\" href=\"#\">/usr/lib/python3.11/functools.py</a>Least-recently-used cache decorator.\n",
              "\n",
              "If *maxsize* is set to None, the LRU features are disabled and the cache\n",
              "can grow without bound.\n",
              "\n",
              "If *typed* is True, arguments of different types will be cached separately.\n",
              "For example, f(3.0) and f(3) will be treated as distinct calls with\n",
              "distinct results.\n",
              "\n",
              "Arguments to the cached function must be hashable.\n",
              "\n",
              "View the cache statistics named tuple (hits, misses, maxsize, currsize)\n",
              "with f.cache_info().  Clear the cache and statistics with f.cache_clear().\n",
              "Access the underlying function with f.__wrapped__.\n",
              "\n",
              "See:  https://en.wikipedia.org/wiki/Cache_replacement_policies#Least_recently_used_(LRU)</pre>\n",
              "      <script>\n",
              "      if (google.colab.kernel.accessAllowed && google.colab.files && google.colab.files.view) {\n",
              "        for (const element of document.querySelectorAll('.filepath')) {\n",
              "          element.style.display = 'block'\n",
              "          element.onclick = (event) => {\n",
              "            event.preventDefault();\n",
              "            event.stopPropagation();\n",
              "            google.colab.files.view(element.textContent, 479);\n",
              "          };\n",
              "        }\n",
              "      }\n",
              "      for (const element of document.querySelectorAll('.function-repr-contents')) {\n",
              "        element.onclick = (event) => {\n",
              "          event.preventDefault();\n",
              "          event.stopPropagation();\n",
              "          element.classList.toggle('function-repr-contents-collapsed');\n",
              "        };\n",
              "      }\n",
              "      </script>\n",
              "      </div>"
            ]
          },
          "metadata": {},
          "execution_count": 22
        }
      ]
    },
    {
      "cell_type": "code",
      "source": [
        "def saludar(nombre, logger):\n",
        "  logger(f\"Hola {nombre}\")"
      ],
      "metadata": {
        "id": "l5H0NmL8fslO"
      },
      "execution_count": 26,
      "outputs": []
    },
    {
      "cell_type": "code",
      "source": [
        "saludar(\"Raul\", print)"
      ],
      "metadata": {
        "colab": {
          "base_uri": "https://localhost:8080/"
        },
        "id": "ex10gafAgKQW",
        "outputId": "37addea8-eae5-4025-c075-4ab7484ad27a"
      },
      "execution_count": 27,
      "outputs": [
        {
          "output_type": "stream",
          "name": "stdout",
          "text": [
            "Hola Raul\n"
          ]
        }
      ]
    },
    {
      "cell_type": "code",
      "source": [
        "import logging"
      ],
      "metadata": {
        "id": "jJmi0LDdgtof"
      },
      "execution_count": 28,
      "outputs": []
    },
    {
      "cell_type": "code",
      "source": [
        "saludar(\"cuidado  \", logging.warning)"
      ],
      "metadata": {
        "colab": {
          "base_uri": "https://localhost:8080/"
        },
        "id": "nHTzkitfgxi-",
        "outputId": "66fc6bee-325c-4a6d-b98f-9affb4e923bd"
      },
      "execution_count": 30,
      "outputs": [
        {
          "output_type": "stream",
          "name": "stderr",
          "text": [
            "WARNING:root:Hola cuidado  \n"
          ]
        }
      ]
    },
    {
      "cell_type": "markdown",
      "source": [
        "funciones internas"
      ],
      "metadata": {
        "id": "GuKX5M93sjLT"
      }
    },
    {
      "cell_type": "code",
      "source": [
        "def exterior():\n",
        "\n",
        "  print(\"Soy la funcion exterior\")\n",
        "\n",
        "  def interior():\n",
        "    print(\"Soy la funcion interior\")\n",
        "    return\n",
        "\n",
        "  interior()\n",
        "\n",
        "  return"
      ],
      "metadata": {
        "id": "_HSf5rV1g2pd"
      },
      "execution_count": 31,
      "outputs": []
    },
    {
      "cell_type": "code",
      "source": [
        "exterior()"
      ],
      "metadata": {
        "colab": {
          "base_uri": "https://localhost:8080/"
        },
        "id": "BOKngHKqsy3s",
        "outputId": "b024f9f6-813f-407a-e40b-d02d38bb6c11"
      },
      "execution_count": 32,
      "outputs": [
        {
          "output_type": "stream",
          "name": "stdout",
          "text": [
            "Soy la funcion exterior\n",
            "Soy la funcion interior\n"
          ]
        }
      ]
    },
    {
      "cell_type": "code",
      "source": [
        "interior()"
      ],
      "metadata": {
        "colab": {
          "base_uri": "https://localhost:8080/",
          "height": 141
        },
        "id": "MJNNsgcRtJXS",
        "outputId": "f5034bdd-ca75-4b88-a444-3c00995a6587"
      },
      "execution_count": 33,
      "outputs": [
        {
          "output_type": "error",
          "ename": "NameError",
          "evalue": "name 'interior' is not defined",
          "traceback": [
            "\u001b[0;31m---------------------------------------------------------------------------\u001b[0m",
            "\u001b[0;31mNameError\u001b[0m                                 Traceback (most recent call last)",
            "\u001b[0;32m/tmp/ipython-input-33-3958266218.py\u001b[0m in \u001b[0;36m<cell line: 0>\u001b[0;34m()\u001b[0m\n\u001b[0;32m----> 1\u001b[0;31m \u001b[0minterior\u001b[0m\u001b[0;34m(\u001b[0m\u001b[0;34m)\u001b[0m\u001b[0;34m\u001b[0m\u001b[0;34m\u001b[0m\u001b[0m\n\u001b[0m",
            "\u001b[0;31mNameError\u001b[0m: name 'interior' is not defined"
          ]
        }
      ]
    },
    {
      "cell_type": "code",
      "source": [
        "def exterior():\n",
        "  print(\"Soy la funcion exterior\")\n",
        "  variable = \"hola\"\n",
        "\n",
        "  def interior():\n",
        "    print(\"Soy la funcion interior\")\n",
        "    return\n",
        "\n",
        "  interior()\n",
        "\n",
        "  return variable"
      ],
      "metadata": {
        "id": "WLqJE7R5tNAQ"
      },
      "execution_count": 45,
      "outputs": []
    },
    {
      "cell_type": "code",
      "source": [
        "foo = exterior()"
      ],
      "metadata": {
        "colab": {
          "base_uri": "https://localhost:8080/"
        },
        "id": "3jUnIZwgtvEP",
        "outputId": "c60bc486-24a9-4b63-9a97-2d20cbcf5b3e"
      },
      "execution_count": 46,
      "outputs": [
        {
          "output_type": "stream",
          "name": "stdout",
          "text": [
            "Soy la funcion exterior\n",
            "Soy la funcion interior\n"
          ]
        }
      ]
    },
    {
      "cell_type": "code",
      "source": [
        "def suma(a, b):\n",
        "  return a + b"
      ],
      "metadata": {
        "id": "FniDJRZhtwWW"
      },
      "execution_count": 37,
      "outputs": []
    },
    {
      "cell_type": "code",
      "source": [
        "suma(5, 5)"
      ],
      "metadata": {
        "colab": {
          "base_uri": "https://localhost:8080/"
        },
        "id": "C_eBG_J4ubd6",
        "outputId": "a63ec7cb-9e79-4ed9-ef16-3dec637d0e8c"
      },
      "execution_count": 38,
      "outputs": [
        {
          "output_type": "execute_result",
          "data": {
            "text/plain": [
              "10"
            ]
          },
          "metadata": {},
          "execution_count": 38
        }
      ]
    },
    {
      "cell_type": "code",
      "source": [
        "foo = suma"
      ],
      "metadata": {
        "id": "MgscmlFyudc-"
      },
      "execution_count": 39,
      "outputs": []
    },
    {
      "cell_type": "code",
      "source": [
        "foo(6,6)"
      ],
      "metadata": {
        "colab": {
          "base_uri": "https://localhost:8080/"
        },
        "id": "Jizx5PdGufH8",
        "outputId": "443c3e58-0bdb-48d1-b068-b9e6ccdb9407"
      },
      "execution_count": 40,
      "outputs": [
        {
          "output_type": "execute_result",
          "data": {
            "text/plain": [
              "12"
            ]
          },
          "metadata": {},
          "execution_count": 40
        }
      ]
    },
    {
      "cell_type": "code",
      "source": [
        "def exterior():\n",
        "  print(\"Soy la funcion exterior\")\n",
        "  variable = \"hola\"\n",
        "\n",
        "  def interior():\n",
        "    print(\"Soy la funcion interior\")\n",
        "    return\n",
        "\n",
        "  interior()\n",
        "\n",
        "  return interior"
      ],
      "metadata": {
        "id": "WDfN0-lHugvS"
      },
      "execution_count": 56,
      "outputs": []
    },
    {
      "cell_type": "code",
      "source": [
        "foo = exterior()"
      ],
      "metadata": {
        "colab": {
          "base_uri": "https://localhost:8080/"
        },
        "id": "WRpb4oKiuvB0",
        "outputId": "9a5ca0fa-e66e-4738-8716-5ab44b5f474f"
      },
      "execution_count": 57,
      "outputs": [
        {
          "output_type": "stream",
          "name": "stdout",
          "text": [
            "Soy la funcion exterior\n",
            "Soy la funcion interior\n"
          ]
        }
      ]
    },
    {
      "cell_type": "code",
      "source": [
        "foo()"
      ],
      "metadata": {
        "colab": {
          "base_uri": "https://localhost:8080/",
          "height": 53
        },
        "id": "aXlBhyxTuxRZ",
        "outputId": "79baba67-5c6b-4389-ec99-f86aed265cf5"
      },
      "execution_count": 58,
      "outputs": [
        {
          "output_type": "stream",
          "name": "stdout",
          "text": [
            "Soy la funcion interior\n"
          ]
        },
        {
          "output_type": "execute_result",
          "data": {
            "text/plain": [
              "'hola'"
            ],
            "application/vnd.google.colaboratory.intrinsic+json": {
              "type": "string"
            }
          },
          "metadata": {},
          "execution_count": 58
        }
      ]
    },
    {
      "cell_type": "code",
      "source": [],
      "metadata": {
        "id": "WZcSCbUtyVdp"
      },
      "execution_count": null,
      "outputs": []
    },
    {
      "cell_type": "code",
      "source": [
        "def wrapper(func):\n",
        "  print(f\"Ejecutar algo antes de llamar a {func.__name__}\")\n",
        "  func()\n",
        "  print(f\"Ejecutar algo despues de llamar a {func.__name__}\")\n",
        "  return"
      ],
      "metadata": {
        "id": "camimP1QvDyo"
      },
      "execution_count": 60,
      "outputs": []
    },
    {
      "cell_type": "code",
      "source": [
        "wrapper(exterior)"
      ],
      "metadata": {
        "colab": {
          "base_uri": "https://localhost:8080/"
        },
        "id": "3XJFJQsDxQtd",
        "outputId": "b00ec82b-4011-42aa-9250-8300dc3358a8"
      },
      "execution_count": 61,
      "outputs": [
        {
          "output_type": "stream",
          "name": "stdout",
          "text": [
            "Ejecutar algo antes de llamar a exterior\n",
            "Soy la funcion exterior\n",
            "Soy la funcion interior\n",
            "Ejecutar algo despues de llamar a exterior\n"
          ]
        }
      ]
    },
    {
      "cell_type": "code",
      "source": [
        "# Decorador\n",
        "\n",
        "def wrapper(func):\n",
        "\n",
        "  def _wrapper():\n",
        "    print(f\"Ejecutar algo antes de llamar a {func.__name__}\")\n",
        "    func()\n",
        "    print(f\"Ejecutar algo despues de llamar a {func.__name__}\")\n",
        "    return\n",
        "\n",
        "  return  _wrapper"
      ],
      "metadata": {
        "id": "6bjGc0tLyY8d"
      },
      "execution_count": 65,
      "outputs": []
    },
    {
      "cell_type": "code",
      "source": [
        "wrapper(exterior)"
      ],
      "metadata": {
        "colab": {
          "base_uri": "https://localhost:8080/",
          "height": 103
        },
        "id": "4rvKOY9J05KZ",
        "outputId": "e3d2e2bf-10e4-4324-cbcf-0b350bd64502"
      },
      "execution_count": 66,
      "outputs": [
        {
          "output_type": "execute_result",
          "data": {
            "text/plain": [
              "<function __main__.wrapper.<locals>._wrapper()>"
            ],
            "text/html": [
              "<div style=\"max-width:800px; border: 1px solid var(--colab-border-color);\"><style>\n",
              "      pre.function-repr-contents {\n",
              "        overflow-x: auto;\n",
              "        padding: 8px 12px;\n",
              "        max-height: 500px;\n",
              "      }\n",
              "\n",
              "      pre.function-repr-contents.function-repr-contents-collapsed {\n",
              "        cursor: pointer;\n",
              "        max-height: 100px;\n",
              "      }\n",
              "    </style>\n",
              "    <pre style=\"white-space: initial; background:\n",
              "         var(--colab-secondary-surface-color); padding: 8px 12px;\n",
              "         border-bottom: 1px solid var(--colab-border-color);\"><b>wrapper.&lt;locals&gt;._wrapper</b><br/>def _wrapper()</pre><pre class=\"function-repr-contents function-repr-contents-collapsed\" style=\"\"><a class=\"filepath\" style=\"display:none\" href=\"#\">/tmp/ipython-input-65-4176102878.py</a>&lt;no docstring&gt;</pre></div>"
            ]
          },
          "metadata": {},
          "execution_count": 66
        }
      ]
    },
    {
      "cell_type": "code",
      "source": [
        "nueva_exterior = wrapper(exterior)"
      ],
      "metadata": {
        "id": "s51p5MXo1eN9"
      },
      "execution_count": 67,
      "outputs": []
    },
    {
      "cell_type": "code",
      "source": [
        "nueva_exterior()"
      ],
      "metadata": {
        "colab": {
          "base_uri": "https://localhost:8080/"
        },
        "id": "7QRCEpS41ptR",
        "outputId": "11b355c5-4589-4cfc-95bf-e2fd392ed077"
      },
      "execution_count": 68,
      "outputs": [
        {
          "output_type": "stream",
          "name": "stdout",
          "text": [
            "Ejecutar algo antes de llamar a exterior\n",
            "Soy la funcion exterior\n",
            "Soy la funcion interior\n",
            "Ejecutar algo despues de llamar a exterior\n"
          ]
        }
      ]
    },
    {
      "cell_type": "code",
      "source": [
        "@wrapper\n",
        "def exterior():\n",
        "  print(\"Soy la funcion exterior\")\n",
        "  return"
      ],
      "metadata": {
        "id": "NFnf15y-2D7T"
      },
      "execution_count": 69,
      "outputs": []
    },
    {
      "cell_type": "code",
      "source": [
        "exterior()"
      ],
      "metadata": {
        "colab": {
          "base_uri": "https://localhost:8080/"
        },
        "id": "vd08sMHS2MUK",
        "outputId": "d8dcf1c7-6824-4d9d-9136-2afeaa4bd495"
      },
      "execution_count": 70,
      "outputs": [
        {
          "output_type": "stream",
          "name": "stdout",
          "text": [
            "Ejecutar algo antes de llamar a exterior\n",
            "Soy la funcion exterior\n",
            "Ejecutar algo despues de llamar a exterior\n"
          ]
        }
      ]
    },
    {
      "cell_type": "markdown",
      "source": [
        "Como enviar argumentos a una funcion decorada"
      ],
      "metadata": {
        "id": "c3P1eY9N50nA"
      }
    },
    {
      "cell_type": "code",
      "source": [
        "def wrapper(func):\n",
        "\n",
        "  def _wrapper():\n",
        "    print(f\"Ejecutar algo antes de llamar a {func.__name__}\")\n",
        "    func()\n",
        "    print(f\"Ejecutar algo despues de llamar a {func.__name__}\")\n",
        "    return\n",
        "\n",
        "  return  _wrapper"
      ],
      "metadata": {
        "id": "iE9SFjsR2ODC"
      },
      "execution_count": 72,
      "outputs": []
    },
    {
      "cell_type": "code",
      "source": [
        "@wrapper\n",
        "def saludar(nombre):\n",
        "  print(f\"Hola {nombre}\")"
      ],
      "metadata": {
        "id": "o76lcc454wnF"
      },
      "execution_count": 73,
      "outputs": []
    },
    {
      "cell_type": "code",
      "source": [
        "saludar(\"pepe\")"
      ],
      "metadata": {
        "colab": {
          "base_uri": "https://localhost:8080/",
          "height": 141
        },
        "id": "J9Ul-rql47RA",
        "outputId": "12d6f2b9-6b26-42e2-b2df-79113ac1b8d6"
      },
      "execution_count": 74,
      "outputs": [
        {
          "output_type": "error",
          "ename": "TypeError",
          "evalue": "wrapper.<locals>._wrapper() takes 0 positional arguments but 1 was given",
          "traceback": [
            "\u001b[0;31m---------------------------------------------------------------------------\u001b[0m",
            "\u001b[0;31mTypeError\u001b[0m                                 Traceback (most recent call last)",
            "\u001b[0;32m/tmp/ipython-input-74-3745361331.py\u001b[0m in \u001b[0;36m<cell line: 0>\u001b[0;34m()\u001b[0m\n\u001b[0;32m----> 1\u001b[0;31m \u001b[0msaludar\u001b[0m\u001b[0;34m(\u001b[0m\u001b[0;34m\"pepe\"\u001b[0m\u001b[0;34m)\u001b[0m\u001b[0;34m\u001b[0m\u001b[0;34m\u001b[0m\u001b[0m\n\u001b[0m",
            "\u001b[0;31mTypeError\u001b[0m: wrapper.<locals>._wrapper() takes 0 positional arguments but 1 was given"
          ]
        }
      ]
    },
    {
      "cell_type": "code",
      "source": [
        "def wrapper(func):\n",
        "  def _wrapper(name):\n",
        "    print(f\"Ejecutar algo antes de llamar a {func.__name__}\")\n",
        "    func(name)\n",
        "    print(f\"Ejecutar algo despues de llamar a {func.__name__}\")\n",
        "    return\n",
        "\n",
        "  return  _wrapper"
      ],
      "metadata": {
        "id": "Mm1tJhBD6oJq"
      },
      "execution_count": 99,
      "outputs": []
    },
    {
      "cell_type": "code",
      "source": [
        "@wrapper\n",
        "def saludar(nombre):\n",
        "  print(f\"Hola {nombre}\")"
      ],
      "metadata": {
        "id": "w0vb_ooo64Sr"
      },
      "execution_count": 100,
      "outputs": []
    },
    {
      "cell_type": "code",
      "source": [
        "saludar(\"pepe\")"
      ],
      "metadata": {
        "colab": {
          "base_uri": "https://localhost:8080/"
        },
        "id": "E74_q0Yj67Vu",
        "outputId": "589e1953-2c01-4c24-8941-dc3ae476ef80"
      },
      "execution_count": 101,
      "outputs": [
        {
          "output_type": "stream",
          "name": "stdout",
          "text": [
            "Ejecutar algo antes de llamar a saludar\n",
            "Hola pepe\n",
            "Ejecutar algo despues de llamar a saludar\n"
          ]
        }
      ]
    },
    {
      "cell_type": "markdown",
      "source": [
        "Como retornar argumentos de una funcion decorada"
      ],
      "metadata": {
        "id": "QVvU2A_i55Lv"
      }
    },
    {
      "cell_type": "code",
      "source": [
        "def wrapper(func):\n",
        "\n",
        "  def _wrapper():\n",
        "    print(f\"Ejecutar algo antes de llamar a {func.__name__}\")\n",
        "    func()\n",
        "    print(f\"Ejecutar algo despues de llamar a {func.__name__}\")\n",
        "    return\n",
        "\n",
        "  return  _wrapper"
      ],
      "metadata": {
        "id": "YlBXrpv958x8"
      },
      "execution_count": 75,
      "outputs": []
    },
    {
      "cell_type": "code",
      "source": [
        "import random\n",
        "\n",
        "@wrapper\n",
        "def aleatorio():\n",
        "  return random.randint(1, 10)"
      ],
      "metadata": {
        "id": "Yt163MFu6Eww"
      },
      "execution_count": 97,
      "outputs": []
    },
    {
      "cell_type": "code",
      "source": [
        "aleatorio()"
      ],
      "metadata": {
        "colab": {
          "base_uri": "https://localhost:8080/"
        },
        "id": "O0NdIrp96NC0",
        "outputId": "ba10299a-ef6f-4fd1-ccc0-d8a52814d398"
      },
      "execution_count": 98,
      "outputs": [
        {
          "output_type": "stream",
          "name": "stdout",
          "text": [
            "Ejecutar algo antes de llamar a aleatorio\n",
            "Ejecutar algo despues de llamar a aleatorio\n"
          ]
        }
      ]
    }
  ]
}