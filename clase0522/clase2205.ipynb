{
  "nbformat": 4,
  "nbformat_minor": 0,
  "metadata": {
    "colab": {
      "provenance": []
    },
    "kernelspec": {
      "name": "python3",
      "display_name": "Python 3"
    },
    "language_info": {
      "name": "python"
    }
  },
  "cells": [
    {
      "cell_type": "code",
      "source": [
        "# importamos el modulo json\n",
        "import json"
      ],
      "metadata": {
        "id": "3WzY_mRXhww7"
      },
      "execution_count": 5,
      "outputs": []
    },
    {
      "cell_type": "markdown",
      "source": [
        "Listas"
      ],
      "metadata": {
        "id": "kyVa8VHDiY94"
      }
    },
    {
      "cell_type": "code",
      "execution_count": 6,
      "metadata": {
        "id": "d09dWekfgvSp"
      },
      "outputs": [],
      "source": [
        "# creamos una lista en python\n",
        "lista = [\"a\", \"e\", \"i\"]\n",
        "\n",
        "# transformar la lista en python a un string json\n",
        "lista_json = json.dumps(lista)\n"
      ]
    },
    {
      "cell_type": "code",
      "source": [
        "lista_json"
      ],
      "metadata": {
        "colab": {
          "base_uri": "https://localhost:8080/",
          "height": 35
        },
        "id": "fZpxsX6Ag4pD",
        "outputId": "9eb84e63-c741-4c8d-94ca-6b2e2a5ddc56"
      },
      "execution_count": 7,
      "outputs": [
        {
          "output_type": "execute_result",
          "data": {
            "text/plain": [
              "'[\"a\", \"e\", \"i\"]'"
            ],
            "application/vnd.google.colaboratory.intrinsic+json": {
              "type": "string"
            }
          },
          "metadata": {},
          "execution_count": 7
        }
      ]
    },
    {
      "cell_type": "code",
      "source": [
        "type(lista_json)"
      ],
      "metadata": {
        "colab": {
          "base_uri": "https://localhost:8080/"
        },
        "id": "fg8bGV3Sg5W5",
        "outputId": "91af8fe9-5cf3-4dad-c44b-e9a09b954908"
      },
      "execution_count": 4,
      "outputs": [
        {
          "output_type": "execute_result",
          "data": {
            "text/plain": [
              "str"
            ]
          },
          "metadata": {},
          "execution_count": 4
        }
      ]
    },
    {
      "cell_type": "code",
      "source": [
        "# pasar la listra que esta en json a python\n",
        "lista_python = json.loads(lista_json)\n",
        "lista_python"
      ],
      "metadata": {
        "colab": {
          "base_uri": "https://localhost:8080/"
        },
        "id": "WTzvbvdZhIG3",
        "outputId": "f3bb7a71-6448-49d0-9773-421dde8e04ce"
      },
      "execution_count": 8,
      "outputs": [
        {
          "output_type": "execute_result",
          "data": {
            "text/plain": [
              "['a', 'e', 'i']"
            ]
          },
          "metadata": {},
          "execution_count": 8
        }
      ]
    },
    {
      "cell_type": "markdown",
      "source": [
        "Diccionarios"
      ],
      "metadata": {
        "id": "SsjEpWQViYAm"
      }
    },
    {
      "cell_type": "code",
      "source": [
        "data = {\n",
        "    \"nombre\": \"Juan\",\n",
        "    \"edad\": 25,\n",
        "    \"ciudad\": None\n",
        "}"
      ],
      "metadata": {
        "id": "vX3fQ_kQiQcW"
      },
      "execution_count": 13,
      "outputs": []
    },
    {
      "cell_type": "code",
      "source": [
        "data"
      ],
      "metadata": {
        "colab": {
          "base_uri": "https://localhost:8080/"
        },
        "id": "0jH5lqCoipC2",
        "outputId": "c607e189-f9e6-4e84-e16f-a0fc50d7383f"
      },
      "execution_count": 14,
      "outputs": [
        {
          "output_type": "execute_result",
          "data": {
            "text/plain": [
              "{'nombre': 'Juan', 'edad': 25, 'ciudad': None}"
            ]
          },
          "metadata": {},
          "execution_count": 14
        }
      ]
    },
    {
      "cell_type": "code",
      "source": [
        "data_json = json.dumps(data)\n",
        "data_json"
      ],
      "metadata": {
        "colab": {
          "base_uri": "https://localhost:8080/",
          "height": 35
        },
        "id": "XfgdSnqjisw1",
        "outputId": "136fa441-a684-4b52-c5a4-bc1fab01c602"
      },
      "execution_count": 15,
      "outputs": [
        {
          "output_type": "execute_result",
          "data": {
            "text/plain": [
              "'{\"nombre\": \"Juan\", \"edad\": 25, \"ciudad\": null}'"
            ],
            "application/vnd.google.colaboratory.intrinsic+json": {
              "type": "string"
            }
          },
          "metadata": {},
          "execution_count": 15
        }
      ]
    },
    {
      "cell_type": "code",
      "source": [
        "data_python = json.loads(data_json)\n",
        "data_python"
      ],
      "metadata": {
        "colab": {
          "base_uri": "https://localhost:8080/"
        },
        "id": "dQD3Gl4oi3qV",
        "outputId": "f68238fc-8bfb-4782-c517-530b7e58ad8a"
      },
      "execution_count": 16,
      "outputs": [
        {
          "output_type": "execute_result",
          "data": {
            "text/plain": [
              "{'nombre': 'Juan', 'edad': 25, 'ciudad': None}"
            ]
          },
          "metadata": {},
          "execution_count": 16
        }
      ]
    },
    {
      "cell_type": "markdown",
      "source": [
        "Lista de diccionarios"
      ],
      "metadata": {
        "id": "T-6FyJJkmYeW"
      }
    },
    {
      "cell_type": "code",
      "source": [
        "usuarios = [\"3\", 1, [7, 8], (4,7), {\"nombre\": \"Juan\", \"edad\": 25}]"
      ],
      "metadata": {
        "id": "mfnycCv0mcTK"
      },
      "execution_count": 39,
      "outputs": []
    },
    {
      "cell_type": "code",
      "source": [
        "usuarios"
      ],
      "metadata": {
        "colab": {
          "base_uri": "https://localhost:8080/"
        },
        "id": "uZIr0kmynF2T",
        "outputId": "ca53f267-5cc3-45ca-f32e-a318a798b2d2"
      },
      "execution_count": 18,
      "outputs": [
        {
          "output_type": "execute_result",
          "data": {
            "text/plain": [
              "['3', 1, [7, 8], (4, 7), {'nombre': 'Juan', 'edad': 25}]"
            ]
          },
          "metadata": {},
          "execution_count": 18
        }
      ]
    },
    {
      "cell_type": "code",
      "source": [
        "usuarios = [{\"id\": \"u505780\", \"status\": True}, {\"id\": \"u505781\", \"status\": False}]"
      ],
      "metadata": {
        "id": "dJTb8RvmnGpS"
      },
      "execution_count": 40,
      "outputs": []
    },
    {
      "cell_type": "code",
      "source": [
        "usuarios"
      ],
      "metadata": {
        "colab": {
          "base_uri": "https://localhost:8080/"
        },
        "id": "8IbwqxpWnT_T",
        "outputId": "33c1aa49-66a3-4bfb-c771-53bc763767e4"
      },
      "execution_count": 20,
      "outputs": [
        {
          "output_type": "execute_result",
          "data": {
            "text/plain": [
              "[{'id': 'u505780', 'status': True}, {'id': 'u505781', 'status': False}]"
            ]
          },
          "metadata": {},
          "execution_count": 20
        }
      ]
    },
    {
      "cell_type": "code",
      "source": [
        "usuarios[0]"
      ],
      "metadata": {
        "colab": {
          "base_uri": "https://localhost:8080/"
        },
        "id": "TYksByyanXFC",
        "outputId": "2ccaabca-2c4e-4f11-a381-41f825bd5b5d"
      },
      "execution_count": 21,
      "outputs": [
        {
          "output_type": "execute_result",
          "data": {
            "text/plain": [
              "{'id': 'u505780', 'status': True}"
            ]
          },
          "metadata": {},
          "execution_count": 21
        }
      ]
    },
    {
      "cell_type": "code",
      "source": [
        "usuarios[1]"
      ],
      "metadata": {
        "colab": {
          "base_uri": "https://localhost:8080/"
        },
        "id": "RwVcO3HTnYvi",
        "outputId": "4cb20040-9804-46ca-a69d-56137a53a976"
      },
      "execution_count": 22,
      "outputs": [
        {
          "output_type": "execute_result",
          "data": {
            "text/plain": [
              "{'id': 'u505781', 'status': False}"
            ]
          },
          "metadata": {},
          "execution_count": 22
        }
      ]
    },
    {
      "cell_type": "code",
      "source": [
        "for usuario in usuarios:\n",
        "    print(usuario)"
      ],
      "metadata": {
        "colab": {
          "base_uri": "https://localhost:8080/"
        },
        "id": "LHAsvuIDnaTy",
        "outputId": "f5e21b9b-dc0c-4d0e-943a-79554426157d"
      },
      "execution_count": 23,
      "outputs": [
        {
          "output_type": "stream",
          "name": "stdout",
          "text": [
            "{'id': 'u505780', 'status': True}\n",
            "{'id': 'u505781', 'status': False}\n"
          ]
        }
      ]
    },
    {
      "cell_type": "code",
      "source": [
        "nuevo_usuario = {\"id\": \"u505782\", \"status\": True}"
      ],
      "metadata": {
        "id": "AbhCOj-MneJk"
      },
      "execution_count": 35,
      "outputs": []
    },
    {
      "cell_type": "code",
      "source": [
        "nuevo_usuario"
      ],
      "metadata": {
        "colab": {
          "base_uri": "https://localhost:8080/"
        },
        "id": "-5vDG2Cgni8z",
        "outputId": "ff0105fd-f058-4999-a9c3-348abea159b1"
      },
      "execution_count": 36,
      "outputs": [
        {
          "output_type": "execute_result",
          "data": {
            "text/plain": [
              "{'id': 'u505782', 'status': True}"
            ]
          },
          "metadata": {},
          "execution_count": 36
        }
      ]
    },
    {
      "cell_type": "code",
      "source": [
        "lista = [0, 1]\n",
        "lista.append(3)\n",
        "lista"
      ],
      "metadata": {
        "colab": {
          "base_uri": "https://localhost:8080/"
        },
        "id": "aC7V_yY0nj5T",
        "outputId": "1173f976-748d-4e50-ec53-9f9e53c28fc6"
      },
      "execution_count": 27,
      "outputs": [
        {
          "output_type": "execute_result",
          "data": {
            "text/plain": [
              "[0, 1, 3]"
            ]
          },
          "metadata": {},
          "execution_count": 27
        }
      ]
    },
    {
      "cell_type": "code",
      "source": [
        "usuarios"
      ],
      "metadata": {
        "colab": {
          "base_uri": "https://localhost:8080/"
        },
        "id": "8g9RnTMFn5bi",
        "outputId": "9f355db7-97bd-4480-9dc5-115a5f4aa19a"
      },
      "execution_count": 37,
      "outputs": [
        {
          "output_type": "execute_result",
          "data": {
            "text/plain": [
              "[{'id': 'u505780', 'status': True},\n",
              " {'id': 'u505781', 'status': False},\n",
              " [{'id': 'u505782', 'status': True}],\n",
              " [{'id': 'u505782', 'status': True}]]"
            ]
          },
          "metadata": {},
          "execution_count": 37
        }
      ]
    },
    {
      "cell_type": "code",
      "source": [
        "usuarios.append(nuevo_usuario)"
      ],
      "metadata": {
        "id": "MeKeTSnxn61z"
      },
      "execution_count": 33,
      "outputs": []
    },
    {
      "cell_type": "code",
      "source": [
        "usuarios"
      ],
      "metadata": {
        "colab": {
          "base_uri": "https://localhost:8080/"
        },
        "id": "AerYd1-7n99y",
        "outputId": "31f44994-cc2b-432b-b3bb-6cc2ecac56b8"
      },
      "execution_count": 34,
      "outputs": [
        {
          "output_type": "execute_result",
          "data": {
            "text/plain": [
              "[{'id': 'u505780', 'status': True},\n",
              " {'id': 'u505781', 'status': False},\n",
              " [{'id': 'u505782', 'status': True}],\n",
              " [{'id': 'u505782', 'status': True}]]"
            ]
          },
          "metadata": {},
          "execution_count": 34
        }
      ]
    },
    {
      "cell_type": "markdown",
      "source": [
        "desactivar el usuario u505782"
      ],
      "metadata": {
        "id": "cy4GneNIptzx"
      }
    },
    {
      "cell_type": "code",
      "source": [
        "usuarios = [{\"id\": \"u505780\", \"status\": True}, {\"id\": \"u505781\", \"status\": False}]"
      ],
      "metadata": {
        "id": "REt3geqWp145"
      },
      "execution_count": 48,
      "outputs": []
    },
    {
      "cell_type": "code",
      "source": [
        "nuevo_usuario = {\"id\": \"u505782\", \"status\": True}"
      ],
      "metadata": {
        "id": "OuhEefMip5ES"
      },
      "execution_count": 49,
      "outputs": []
    },
    {
      "cell_type": "code",
      "source": [
        "usuarios.append(nuevo_usuario)"
      ],
      "metadata": {
        "id": "uhn-3uvfp5qX"
      },
      "execution_count": 50,
      "outputs": []
    },
    {
      "cell_type": "code",
      "source": [
        "usuarios"
      ],
      "metadata": {
        "colab": {
          "base_uri": "https://localhost:8080/"
        },
        "id": "4419U1Yvp8J9",
        "outputId": "526090dc-802a-463a-d7bd-c5a138b9d8a2"
      },
      "execution_count": 51,
      "outputs": [
        {
          "output_type": "execute_result",
          "data": {
            "text/plain": [
              "[{'id': 'u505780', 'status': True},\n",
              " {'id': 'u505781', 'status': False},\n",
              " {'id': 'u505782', 'status': True}]"
            ]
          },
          "metadata": {},
          "execution_count": 51
        }
      ]
    },
    {
      "cell_type": "code",
      "source": [
        "for usuario in usuarios:\n",
        "    if usuario[\"id\"] == \"u505782\":\n",
        "        usuario[\"status\"] = False"
      ],
      "metadata": {
        "id": "G8gArctun--i"
      },
      "execution_count": 44,
      "outputs": []
    },
    {
      "cell_type": "code",
      "source": [
        "usuarios"
      ],
      "metadata": {
        "colab": {
          "base_uri": "https://localhost:8080/"
        },
        "id": "L1gv1XEvpLIx",
        "outputId": "78b66cf7-9ba1-4a75-d0c5-2983e6ce67be"
      },
      "execution_count": 45,
      "outputs": [
        {
          "output_type": "execute_result",
          "data": {
            "text/plain": [
              "[{'id': 'u505780', 'status': True},\n",
              " {'id': 'u505781', 'status': False},\n",
              " {'id': 'u505782', 'status': False}]"
            ]
          },
          "metadata": {},
          "execution_count": 45
        }
      ]
    },
    {
      "cell_type": "code",
      "source": [],
      "metadata": {
        "id": "BhE385FgqIVi"
      },
      "execution_count": null,
      "outputs": []
    }
  ]
}