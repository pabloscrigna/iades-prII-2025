{
  "nbformat": 4,
  "nbformat_minor": 0,
  "metadata": {
    "colab": {
      "provenance": []
    },
    "kernelspec": {
      "name": "python3",
      "display_name": "Python 3"
    },
    "language_info": {
      "name": "python"
    }
  },
  "cells": [
    {
      "cell_type": "markdown",
      "source": [
        "Encapsulamiento"
      ],
      "metadata": {
        "id": "Ls9Xi-cOG2bI"
      }
    },
    {
      "cell_type": "code",
      "execution_count": null,
      "metadata": {
        "colab": {
          "base_uri": "https://localhost:8080/"
        },
        "id": "P1wGMFlFGPhL",
        "outputId": "e8e80439-50e3-400d-c5bf-b98a6d452865"
      },
      "outputs": [
        {
          "output_type": "stream",
          "name": "stdout",
          "text": [
            "Juan\n"
          ]
        }
      ],
      "source": [
        "# publico -\n",
        "# Por defecto en python todo es público.\n",
        "\n",
        "class Persona:\n",
        "    def __init__(self, nombre, edad):\n",
        "        self.nombre = nombre\n",
        "        self.edad = edad\n",
        "\n",
        "persona = Persona(\"Juan\", 25)\n",
        "print(persona.nombre)"
      ]
    },
    {
      "cell_type": "code",
      "source": [
        "# protegido (protected)\n",
        "# Se indica con un guion bajo adelante.\n",
        "# Es una convencion que sugiere que no deberia accederse directamente desde\n",
        "# fuera de la clase o sus subclases.\n",
        "\n",
        "class Persona:\n",
        "    def __init__(self, nombre, edad):\n",
        "        self._nombre = nombre\n",
        "        self._edad = edad\n",
        "\n",
        "persona = Persona(\"Juan\", 25)\n",
        "print(persona._nombre)\n",
        "persona._nombre = \"Pedro\"\n",
        "print(persona._nombre)"
      ],
      "metadata": {
        "colab": {
          "base_uri": "https://localhost:8080/"
        },
        "id": "n38GRKgAHTa8",
        "outputId": "4597d568-af7a-45c4-ce1d-862651e6794e"
      },
      "execution_count": null,
      "outputs": [
        {
          "output_type": "stream",
          "name": "stdout",
          "text": [
            "Juan\n",
            "Pedro\n"
          ]
        }
      ]
    },
    {
      "cell_type": "code",
      "source": [
        "# privado (privated)\n",
        "\n",
        "class Persona:\n",
        "    def __init__(self, nombre, edad):\n",
        "        self.__nombre = nombre\n",
        "        self.__edad = edad"
      ],
      "metadata": {
        "id": "H2rG6t4_HoNn"
      },
      "execution_count": null,
      "outputs": []
    },
    {
      "cell_type": "code",
      "source": [
        "persona = Persona(\"Juan\", 25)\n"
      ],
      "metadata": {
        "id": "2NSG761CIc3Z"
      },
      "execution_count": null,
      "outputs": []
    },
    {
      "cell_type": "code",
      "source": [
        "print(persona.__nombre)"
      ],
      "metadata": {
        "colab": {
          "base_uri": "https://localhost:8080/",
          "height": 141
        },
        "id": "sseiZhQFIwYS",
        "outputId": "d7a9f785-ec69-422c-cd4b-3b55072a345a"
      },
      "execution_count": null,
      "outputs": [
        {
          "output_type": "error",
          "ename": "AttributeError",
          "evalue": "'Persona' object has no attribute '__nombre'",
          "traceback": [
            "\u001b[0;31m---------------------------------------------------------------------------\u001b[0m",
            "\u001b[0;31mAttributeError\u001b[0m                            Traceback (most recent call last)",
            "\u001b[0;32m/tmp/ipython-input-34-2985212315.py\u001b[0m in \u001b[0;36m<cell line: 0>\u001b[0;34m()\u001b[0m\n\u001b[0;32m----> 1\u001b[0;31m \u001b[0mprint\u001b[0m\u001b[0;34m(\u001b[0m\u001b[0mpersona\u001b[0m\u001b[0;34m.\u001b[0m\u001b[0m__nombre\u001b[0m\u001b[0;34m)\u001b[0m\u001b[0;34m\u001b[0m\u001b[0;34m\u001b[0m\u001b[0m\n\u001b[0m",
            "\u001b[0;31mAttributeError\u001b[0m: 'Persona' object has no attribute '__nombre'"
          ]
        }
      ]
    },
    {
      "cell_type": "code",
      "source": [
        "# privado (privated)\n",
        "\n",
        "class Persona:\n",
        "    def __init__(self, nombre, edad):\n",
        "        self.__nombre = nombre\n",
        "        self.__edad = edad\n",
        "\n",
        "    def obtener_nombre(self):\n",
        "        return self.__nombre\n",
        "\n",
        "    def obtener_edad(self):\n",
        "        return self.__edad"
      ],
      "metadata": {
        "id": "tNyYE6RIIzVX"
      },
      "execution_count": null,
      "outputs": []
    },
    {
      "cell_type": "code",
      "source": [
        "persona = Persona(\"Juan\", 25)"
      ],
      "metadata": {
        "id": "87zSfbQkJGSd"
      },
      "execution_count": null,
      "outputs": []
    },
    {
      "cell_type": "code",
      "source": [
        "persona.__nombre"
      ],
      "metadata": {
        "colab": {
          "base_uri": "https://localhost:8080/",
          "height": 141
        },
        "id": "-dVa0hNyKk-m",
        "outputId": "d83c425d-d373-440c-ec77-0e902a56b5a7"
      },
      "execution_count": null,
      "outputs": [
        {
          "output_type": "error",
          "ename": "AttributeError",
          "evalue": "'Persona' object has no attribute '__nombre'",
          "traceback": [
            "\u001b[0;31m---------------------------------------------------------------------------\u001b[0m",
            "\u001b[0;31mAttributeError\u001b[0m                            Traceback (most recent call last)",
            "\u001b[0;32m/tmp/ipython-input-27-2102053353.py\u001b[0m in \u001b[0;36m<cell line: 0>\u001b[0;34m()\u001b[0m\n\u001b[0;32m----> 1\u001b[0;31m \u001b[0mpersona\u001b[0m\u001b[0;34m.\u001b[0m\u001b[0m__nombre\u001b[0m\u001b[0;34m\u001b[0m\u001b[0;34m\u001b[0m\u001b[0m\n\u001b[0m",
            "\u001b[0;31mAttributeError\u001b[0m: 'Persona' object has no attribute '__nombre'"
          ]
        }
      ]
    },
    {
      "cell_type": "code",
      "source": [
        "persona.obtener_nombre()"
      ],
      "metadata": {
        "colab": {
          "base_uri": "https://localhost:8080/",
          "height": 36
        },
        "id": "9qrX1zvYJ03Y",
        "outputId": "1060944e-5e4b-4ca3-ab22-1e021bfb1641"
      },
      "execution_count": null,
      "outputs": [
        {
          "output_type": "execute_result",
          "data": {
            "text/plain": [
              "'Juan'"
            ],
            "application/vnd.google.colaboratory.intrinsic+json": {
              "type": "string"
            }
          },
          "metadata": {},
          "execution_count": 37
        }
      ]
    },
    {
      "cell_type": "code",
      "source": [
        "persona.obtener_edad()"
      ],
      "metadata": {
        "colab": {
          "base_uri": "https://localhost:8080/"
        },
        "id": "mIW0vlxGJ-Tw",
        "outputId": "955e9cd8-0453-478a-d240-0367fdd5ce82"
      },
      "execution_count": null,
      "outputs": [
        {
          "output_type": "execute_result",
          "data": {
            "text/plain": [
              "25"
            ]
          },
          "metadata": {},
          "execution_count": 38
        }
      ]
    },
    {
      "cell_type": "code",
      "source": [
        "persona._Persona__nombre"
      ],
      "metadata": {
        "colab": {
          "base_uri": "https://localhost:8080/",
          "height": 36
        },
        "id": "kfIzUIV3KEcW",
        "outputId": "0c76948e-c198-41d1-9b47-5b9454a5e515"
      },
      "execution_count": null,
      "outputs": [
        {
          "output_type": "execute_result",
          "data": {
            "text/plain": [
              "'Juan'"
            ],
            "application/vnd.google.colaboratory.intrinsic+json": {
              "type": "string"
            }
          },
          "metadata": {},
          "execution_count": 26
        }
      ]
    },
    {
      "cell_type": "code",
      "source": [
        "persona._Persona__edad"
      ],
      "metadata": {
        "colab": {
          "base_uri": "https://localhost:8080/"
        },
        "id": "vBqGnkhQKfFT",
        "outputId": "b07fba50-d57e-4c60-e6a0-b551b68a0515"
      },
      "execution_count": null,
      "outputs": [
        {
          "output_type": "execute_result",
          "data": {
            "text/plain": [
              "25"
            ]
          },
          "metadata": {},
          "execution_count": 28
        }
      ]
    },
    {
      "cell_type": "code",
      "source": [
        "# privado (privated)\n",
        "# cambiar nombre y edad\n",
        "\n",
        "class Persona:\n",
        "    def __init__(self, nombre, edad):\n",
        "        self.__nombre = nombre\n",
        "        self.__edad = edad\n",
        "\n",
        "    def obtener_nombre(self):\n",
        "        return self.__nombre\n",
        "\n",
        "    def obtener_edad(self):\n",
        "        return self.__edad\n",
        "\n",
        "    def cambiar_nombre(self, nuevo_nombre):\n",
        "        self.__nombre = nuevo_nombre\n",
        "\n",
        "    def cambiar_edad(self, nueva_edad):\n",
        "        self.__edad = nueva_edad\n"
      ],
      "metadata": {
        "id": "eSd_h2u3KwXP"
      },
      "execution_count": null,
      "outputs": []
    },
    {
      "cell_type": "code",
      "source": [
        "persona = Persona(\"Juan\", 25)"
      ],
      "metadata": {
        "id": "tcawmQc0LZA0"
      },
      "execution_count": null,
      "outputs": []
    },
    {
      "cell_type": "code",
      "source": [
        "persona.obtener_nombre()"
      ],
      "metadata": {
        "colab": {
          "base_uri": "https://localhost:8080/",
          "height": 36
        },
        "id": "KpeiJzyeLaui",
        "outputId": "6da3341b-4383-4856-8ef2-3a394ec47f16"
      },
      "execution_count": null,
      "outputs": [
        {
          "output_type": "execute_result",
          "data": {
            "text/plain": [
              "'Juan'"
            ],
            "application/vnd.google.colaboratory.intrinsic+json": {
              "type": "string"
            }
          },
          "metadata": {},
          "execution_count": 46
        }
      ]
    },
    {
      "cell_type": "code",
      "source": [
        "persona.__nombre = \"Pepe\""
      ],
      "metadata": {
        "id": "oRpT-Gt_MBQj"
      },
      "execution_count": null,
      "outputs": []
    },
    {
      "cell_type": "code",
      "source": [
        "persona.obtener_nombre()"
      ],
      "metadata": {
        "colab": {
          "base_uri": "https://localhost:8080/",
          "height": 36
        },
        "id": "TbyXRTVHMPzR",
        "outputId": "d374fe2b-0a08-4644-8b6e-4712cbd404b7"
      },
      "execution_count": null,
      "outputs": [
        {
          "output_type": "execute_result",
          "data": {
            "text/plain": [
              "'Juan'"
            ],
            "application/vnd.google.colaboratory.intrinsic+json": {
              "type": "string"
            }
          },
          "metadata": {},
          "execution_count": 48
        }
      ]
    },
    {
      "cell_type": "code",
      "source": [
        "persona.cambiar_nombre(\"Raul\")"
      ],
      "metadata": {
        "id": "CRogzaQoMTil"
      },
      "execution_count": null,
      "outputs": []
    },
    {
      "cell_type": "code",
      "source": [
        "persona.obtener_nombre()"
      ],
      "metadata": {
        "colab": {
          "base_uri": "https://localhost:8080/",
          "height": 36
        },
        "id": "UTP5K3CwMmzj",
        "outputId": "186ac54f-e369-4655-85f5-60930472e174"
      },
      "execution_count": null,
      "outputs": [
        {
          "output_type": "execute_result",
          "data": {
            "text/plain": [
              "'Raul'"
            ],
            "application/vnd.google.colaboratory.intrinsic+json": {
              "type": "string"
            }
          },
          "metadata": {},
          "execution_count": 55
        }
      ]
    },
    {
      "cell_type": "markdown",
      "source": [
        "Metodo __call__"
      ],
      "metadata": {
        "id": "OPCON3e6O-Jm"
      }
    },
    {
      "cell_type": "markdown",
      "source": [
        "\n",
        "En Python, el método especial __call__ permite que una instancia de una clase se comporte como una función. Es decir, permite \"llamar\" a un objeto como si fuera una función."
      ],
      "metadata": {
        "id": "teTfvZ2NPCUN"
      }
    },
    {
      "cell_type": "markdown",
      "source": [
        "🧠 ¿Cuándo se usa __call__?\n",
        "Cuando querés que una clase sea \"funcional\", es decir, que sus objetos se puedan usar como funciones."
      ],
      "metadata": {
        "id": "oXQiQBRHQhr8"
      }
    },
    {
      "cell_type": "code",
      "source": [
        "class Exponenciacion:\n",
        "    def __init__(self, exponente):\n",
        "        self.exponente = exponente\n",
        "\n",
        "    def __call__(self, base):\n",
        "        print(\"Ejecutandose metodo call\")\n",
        "        return base ** self.exponente\n",
        "\n",
        "    def operacion(self, base):\n",
        "        return base ** self.exponente"
      ],
      "metadata": {
        "id": "rljgquB_O3u5"
      },
      "execution_count": null,
      "outputs": []
    },
    {
      "cell_type": "code",
      "source": [
        "expo = Exponenciacion(2)"
      ],
      "metadata": {
        "id": "DbqLpH56PXcL"
      },
      "execution_count": null,
      "outputs": []
    },
    {
      "cell_type": "code",
      "source": [
        "expo.exponente"
      ],
      "metadata": {
        "colab": {
          "base_uri": "https://localhost:8080/"
        },
        "id": "aRBdZPzkPbtw",
        "outputId": "fdc5d464-67c9-4f44-c743-ab3d088545d3"
      },
      "execution_count": null,
      "outputs": [
        {
          "output_type": "execute_result",
          "data": {
            "text/plain": [
              "3"
            ]
          },
          "metadata": {},
          "execution_count": 74
        }
      ]
    },
    {
      "cell_type": "code",
      "source": [
        "expo(3)"
      ],
      "metadata": {
        "colab": {
          "base_uri": "https://localhost:8080/"
        },
        "id": "ptYUEbtXPl1b",
        "outputId": "4c6e728a-3596-431d-847a-70189fe7bb7a"
      },
      "execution_count": null,
      "outputs": [
        {
          "output_type": "stream",
          "name": "stdout",
          "text": [
            "Ejecutandose metodo call\n"
          ]
        },
        {
          "output_type": "execute_result",
          "data": {
            "text/plain": [
              "9"
            ]
          },
          "metadata": {},
          "execution_count": 79
        }
      ]
    },
    {
      "cell_type": "code",
      "source": [
        "expo.operacion(3)"
      ],
      "metadata": {
        "colab": {
          "base_uri": "https://localhost:8080/"
        },
        "id": "liGxdbgYQWWh",
        "outputId": "5e6c782f-0dba-4873-f8c4-7e8e69eef933"
      },
      "execution_count": null,
      "outputs": [
        {
          "output_type": "execute_result",
          "data": {
            "text/plain": [
              "27"
            ]
          },
          "metadata": {},
          "execution_count": 76
        }
      ]
    },
    {
      "cell_type": "code",
      "source": [
        "# hacer una clase que multiplique un valor por un deterimando valor, siendo este segundo valor siempre el mismos\n",
        "\n",
        "class Multiplicar:\n",
        "    def __init__(self, multiplicador):\n",
        "        print(\"Ejecutandose el constructor\")\n",
        "        self.multiplicador = multiplicador\n",
        "\n",
        "    def __call__(self, valor):\n",
        "        return valor * self.multiplicador"
      ],
      "metadata": {
        "id": "3IEzEjC6QYN0"
      },
      "execution_count": null,
      "outputs": []
    },
    {
      "cell_type": "code",
      "source": [
        "doble = Multiplicar(2)"
      ],
      "metadata": {
        "colab": {
          "base_uri": "https://localhost:8080/"
        },
        "id": "Xpy3o98xSEfS",
        "outputId": "c4886b04-dbc1-4e0e-d197-5d05074b7c83"
      },
      "execution_count": null,
      "outputs": [
        {
          "output_type": "stream",
          "name": "stdout",
          "text": [
            "Ejecutandose el constructor\n"
          ]
        }
      ]
    },
    {
      "cell_type": "code",
      "source": [
        "doble(3)"
      ],
      "metadata": {
        "colab": {
          "base_uri": "https://localhost:8080/"
        },
        "id": "BZjodH05SN2H",
        "outputId": "6d29d87e-7588-4d4a-9668-5bd227ea973e"
      },
      "execution_count": null,
      "outputs": [
        {
          "output_type": "execute_result",
          "data": {
            "text/plain": [
              "6"
            ]
          },
          "metadata": {},
          "execution_count": 86
        }
      ]
    },
    {
      "cell_type": "code",
      "source": [
        "triple = Multiplicar(3)"
      ],
      "metadata": {
        "colab": {
          "base_uri": "https://localhost:8080/"
        },
        "id": "29VWUI7ySye2",
        "outputId": "4ed01687-afe2-4497-b2a5-591f35007800"
      },
      "execution_count": null,
      "outputs": [
        {
          "output_type": "stream",
          "name": "stdout",
          "text": [
            "Ejecutandose el constructor\n"
          ]
        }
      ]
    },
    {
      "cell_type": "code",
      "source": [
        "triple(2)"
      ],
      "metadata": {
        "colab": {
          "base_uri": "https://localhost:8080/"
        },
        "id": "nnTLi026S3wI",
        "outputId": "a82c2809-fb2f-4f83-e0f4-0aa9ab4b791c"
      },
      "execution_count": null,
      "outputs": [
        {
          "output_type": "execute_result",
          "data": {
            "text/plain": [
              "6"
            ]
          },
          "metadata": {},
          "execution_count": 88
        }
      ]
    },
    {
      "cell_type": "markdown",
      "source": [
        "Decorador: property"
      ],
      "metadata": {
        "id": "GbgCV0bWVMg6"
      }
    },
    {
      "cell_type": "code",
      "source": [
        "class Cuadrado:\n",
        "\n",
        "  def __init__(self, lado):\n",
        "    self.lado = lado\n",
        "    self.perimetro_valor = lado * 4\n",
        "\n",
        "  def perimetro(self):\n",
        "    return self.lado * 4"
      ],
      "metadata": {
        "id": "bHayOZoKTzev"
      },
      "execution_count": null,
      "outputs": []
    },
    {
      "cell_type": "code",
      "source": [
        "cuadrado = Cuadrado(5)"
      ],
      "metadata": {
        "id": "OiZOUKA6UQal"
      },
      "execution_count": null,
      "outputs": []
    },
    {
      "cell_type": "code",
      "source": [
        "cuadrado.perimetro()"
      ],
      "metadata": {
        "colab": {
          "base_uri": "https://localhost:8080/"
        },
        "id": "ni948J-QUSz4",
        "outputId": "dac894d5-f2fd-465b-a6c9-2a630df01dbd"
      },
      "execution_count": null,
      "outputs": [
        {
          "output_type": "execute_result",
          "data": {
            "text/plain": [
              "20"
            ]
          },
          "metadata": {},
          "execution_count": 106
        }
      ]
    },
    {
      "cell_type": "code",
      "source": [
        "cuadrado.perimetro_valor"
      ],
      "metadata": {
        "colab": {
          "base_uri": "https://localhost:8080/"
        },
        "id": "uIWd4uwSVCXq",
        "outputId": "27505e42-0252-4ab3-a327-70e5297f8b6a"
      },
      "execution_count": null,
      "outputs": [
        {
          "output_type": "execute_result",
          "data": {
            "text/plain": [
              "20"
            ]
          },
          "metadata": {},
          "execution_count": 107
        }
      ]
    },
    {
      "cell_type": "code",
      "source": [
        "class Cuadrado:\n",
        "\n",
        "  def __init__(self, lado):\n",
        "    self.lado = lado\n",
        "\n",
        "  @property\n",
        "  def perimetro(self):\n",
        "    return self.lado * 4\n",
        "\n",
        "  @property\n",
        "  def superficie(self):\n",
        "    return self.lado ** 2"
      ],
      "metadata": {
        "id": "L5QgzoPyVE7_"
      },
      "execution_count": null,
      "outputs": []
    },
    {
      "cell_type": "code",
      "source": [
        "cuadrado = Cuadrado(5)"
      ],
      "metadata": {
        "id": "2vovt7gwVZFL"
      },
      "execution_count": null,
      "outputs": []
    },
    {
      "cell_type": "code",
      "source": [
        "cuadrado.lado"
      ],
      "metadata": {
        "colab": {
          "base_uri": "https://localhost:8080/"
        },
        "id": "1SGoi48gVdFu",
        "outputId": "b7dec735-7c53-4f50-8a54-bb325318f903"
      },
      "execution_count": null,
      "outputs": [
        {
          "output_type": "execute_result",
          "data": {
            "text/plain": [
              "5"
            ]
          },
          "metadata": {},
          "execution_count": 123
        }
      ]
    },
    {
      "cell_type": "code",
      "source": [
        "cuadrado.perimetro"
      ],
      "metadata": {
        "colab": {
          "base_uri": "https://localhost:8080/"
        },
        "id": "iyz8Pxo7Vet-",
        "outputId": "eeda0e6f-1497-4bc9-cea6-f91afe93b25e"
      },
      "execution_count": null,
      "outputs": [
        {
          "output_type": "execute_result",
          "data": {
            "text/plain": [
              "20"
            ]
          },
          "metadata": {},
          "execution_count": 124
        }
      ]
    },
    {
      "cell_type": "code",
      "source": [
        "cuadrado.superficie"
      ],
      "metadata": {
        "colab": {
          "base_uri": "https://localhost:8080/"
        },
        "id": "4CWfPKuiVjQZ",
        "outputId": "687d0fdb-7098-489e-95eb-912291dbf8ca"
      },
      "execution_count": null,
      "outputs": [
        {
          "output_type": "execute_result",
          "data": {
            "text/plain": [
              "25"
            ]
          },
          "metadata": {},
          "execution_count": 125
        }
      ]
    },
    {
      "cell_type": "markdown",
      "source": [
        "**Dataclases**"
      ],
      "metadata": {
        "id": "luREzOTGa5DV"
      }
    },
    {
      "cell_type": "markdown",
      "source": [
        "Una **dataclass** en Python es una clase pensada principalmente para almacenar datos. Con el decorador @dataclass, Python genera automáticamente métodos útiles como:\n",
        "\n",
        "* __init__()\n",
        "\n",
        "* __repr__()\n",
        "\n",
        "* __eq__()\n",
        "\n",
        "entre otros..."
      ],
      "metadata": {
        "id": "VC7nEuLjbu_T"
      }
    },
    {
      "cell_type": "code",
      "source": [
        "class Persona:\n",
        "    def __init__(self, nombre, edad):\n",
        "        self.nombre = nombre\n",
        "        self.edad = edad"
      ],
      "metadata": {
        "id": "SPX4bWZjWPyp"
      },
      "execution_count": null,
      "outputs": []
    },
    {
      "cell_type": "code",
      "source": [
        "persona = Persona(\"Juan\", 25)"
      ],
      "metadata": {
        "id": "6N5HMiqrcVE9"
      },
      "execution_count": null,
      "outputs": []
    },
    {
      "cell_type": "code",
      "source": [
        "persona.nombre"
      ],
      "metadata": {
        "colab": {
          "base_uri": "https://localhost:8080/",
          "height": 36
        },
        "id": "TuLKNOsocX0m",
        "outputId": "f3418af7-d9c6-4394-b9e6-d52f5c594fc8"
      },
      "execution_count": null,
      "outputs": [
        {
          "output_type": "execute_result",
          "data": {
            "text/plain": [
              "'Juan'"
            ],
            "application/vnd.google.colaboratory.intrinsic+json": {
              "type": "string"
            }
          },
          "metadata": {},
          "execution_count": 139
        }
      ]
    },
    {
      "cell_type": "code",
      "source": [
        "persona.edad"
      ],
      "metadata": {
        "colab": {
          "base_uri": "https://localhost:8080/"
        },
        "id": "3kETwPeeccej",
        "outputId": "303963e5-c14a-4c2e-c6a4-183b39ad8592"
      },
      "execution_count": null,
      "outputs": [
        {
          "output_type": "execute_result",
          "data": {
            "text/plain": [
              "25"
            ]
          },
          "metadata": {},
          "execution_count": 140
        }
      ]
    },
    {
      "cell_type": "code",
      "source": [
        "from dataclasses import dataclass\n",
        "\n",
        "@dataclass\n",
        "class Empleado:\n",
        "    nombre: str\n",
        "    edad: int"
      ],
      "metadata": {
        "id": "AbTlGhrXceA4"
      },
      "execution_count": null,
      "outputs": []
    },
    {
      "cell_type": "code",
      "source": [
        "empleado = Empleado(\"Juan\", 56)"
      ],
      "metadata": {
        "id": "dWbneMkqc8M7"
      },
      "execution_count": null,
      "outputs": []
    },
    {
      "cell_type": "code",
      "source": [
        "empleado.nombre"
      ],
      "metadata": {
        "colab": {
          "base_uri": "https://localhost:8080/",
          "height": 36
        },
        "id": "OW1nSoCqdIoX",
        "outputId": "96f93cf6-58f6-4a7c-90ba-ed185a8e51ab"
      },
      "execution_count": null,
      "outputs": [
        {
          "output_type": "execute_result",
          "data": {
            "text/plain": [
              "'Juan'"
            ],
            "application/vnd.google.colaboratory.intrinsic+json": {
              "type": "string"
            }
          },
          "metadata": {},
          "execution_count": 151
        }
      ]
    },
    {
      "cell_type": "code",
      "source": [
        "empleado.edad"
      ],
      "metadata": {
        "colab": {
          "base_uri": "https://localhost:8080/"
        },
        "id": "AU3fY85hdK09",
        "outputId": "313ddc16-cafe-4342-e93e-4233ef4d515b"
      },
      "execution_count": null,
      "outputs": [
        {
          "output_type": "execute_result",
          "data": {
            "text/plain": [
              "56"
            ]
          },
          "metadata": {},
          "execution_count": 152
        }
      ]
    },
    {
      "cell_type": "code",
      "source": [
        "persona"
      ],
      "metadata": {
        "colab": {
          "base_uri": "https://localhost:8080/"
        },
        "id": "VHETsgsqdMN6",
        "outputId": "2804e09c-e713-4b9f-ff6a-c6fd677ec564"
      },
      "execution_count": null,
      "outputs": [
        {
          "output_type": "execute_result",
          "data": {
            "text/plain": [
              "<__main__.Persona at 0x7ef184922fd0>"
            ]
          },
          "metadata": {},
          "execution_count": 141
        }
      ]
    },
    {
      "cell_type": "code",
      "source": [
        "empleado"
      ],
      "metadata": {
        "colab": {
          "base_uri": "https://localhost:8080/"
        },
        "id": "h2KPtjTXdRWC",
        "outputId": "f6802185-a545-4a71-ca33-662ff811d039"
      },
      "execution_count": null,
      "outputs": [
        {
          "output_type": "execute_result",
          "data": {
            "text/plain": [
              "Empleado(nombre='Juan', edad=56)"
            ]
          },
          "metadata": {},
          "execution_count": 142
        }
      ]
    },
    {
      "cell_type": "markdown",
      "source": [
        "Valores por defecto (default)"
      ],
      "metadata": {
        "id": "grE12eNTfzb0"
      }
    },
    {
      "cell_type": "code",
      "source": [
        "@dataclass\n",
        "class Producto:\n",
        "  nombre: str\n",
        "  precio: float = 0.0\n",
        "  descripcion: str = \"\"\n",
        "  disponible: bool = True"
      ],
      "metadata": {
        "id": "Cqw3dJ_PdS9M"
      },
      "execution_count": null,
      "outputs": []
    },
    {
      "cell_type": "code",
      "source": [
        "esponja = Producto(\"Esponja\", 2.5)"
      ],
      "metadata": {
        "id": "VoZHMfTVgKZN"
      },
      "execution_count": null,
      "outputs": []
    },
    {
      "cell_type": "code",
      "source": [
        "esponja.nombre"
      ],
      "metadata": {
        "colab": {
          "base_uri": "https://localhost:8080/",
          "height": 36
        },
        "id": "y6vg9IDkgXTu",
        "outputId": "9ef84691-2007-4466-8b96-da2c728be30f"
      },
      "execution_count": null,
      "outputs": [
        {
          "output_type": "execute_result",
          "data": {
            "text/plain": [
              "'Esponja'"
            ],
            "application/vnd.google.colaboratory.intrinsic+json": {
              "type": "string"
            }
          },
          "metadata": {},
          "execution_count": 155
        }
      ]
    },
    {
      "cell_type": "code",
      "source": [
        "esponja.precio"
      ],
      "metadata": {
        "colab": {
          "base_uri": "https://localhost:8080/"
        },
        "id": "DKR63FVhgZP0",
        "outputId": "863529b5-73e8-4053-dc85-dbd60770f0c6"
      },
      "execution_count": null,
      "outputs": [
        {
          "output_type": "execute_result",
          "data": {
            "text/plain": [
              "2.5"
            ]
          },
          "metadata": {},
          "execution_count": 156
        }
      ]
    },
    {
      "cell_type": "code",
      "source": [
        "esponja.descripcion"
      ],
      "metadata": {
        "id": "yu9ffIZ6gbuc"
      },
      "execution_count": null,
      "outputs": []
    },
    {
      "cell_type": "code",
      "source": [
        "esponja.disponible"
      ],
      "metadata": {
        "colab": {
          "base_uri": "https://localhost:8080/"
        },
        "id": "5bM7pE1_geav",
        "outputId": "13aed285-7965-44fe-9ba8-d029ef395e42"
      },
      "execution_count": null,
      "outputs": [
        {
          "output_type": "execute_result",
          "data": {
            "text/plain": [
              "True"
            ]
          },
          "metadata": {},
          "execution_count": 158
        }
      ]
    },
    {
      "cell_type": "code",
      "source": [
        "cuchara = Producto(\"Cuchara\", 6.8, \"cuchara de cocina\", True)"
      ],
      "metadata": {
        "id": "GWKlt-3DgglH"
      },
      "execution_count": null,
      "outputs": []
    },
    {
      "cell_type": "code",
      "source": [
        "cuchara.descripcion"
      ],
      "metadata": {
        "colab": {
          "base_uri": "https://localhost:8080/",
          "height": 36
        },
        "id": "nAOff6Ligs9L",
        "outputId": "0d2b7188-1a42-4df1-d7d3-fa75db1eaa78"
      },
      "execution_count": null,
      "outputs": [
        {
          "output_type": "execute_result",
          "data": {
            "text/plain": [
              "'cuchara de cocina'"
            ],
            "application/vnd.google.colaboratory.intrinsic+json": {
              "type": "string"
            }
          },
          "metadata": {},
          "execution_count": 160
        }
      ]
    },
    {
      "cell_type": "code",
      "source": [
        "foo = Producto()"
      ],
      "metadata": {
        "colab": {
          "base_uri": "https://localhost:8080/",
          "height": 141
        },
        "id": "Bza0EClPgvA8",
        "outputId": "c9af3262-b4f0-4f03-e6f5-5a29f766eb61"
      },
      "execution_count": null,
      "outputs": [
        {
          "output_type": "error",
          "ename": "TypeError",
          "evalue": "Producto.__init__() missing 1 required positional argument: 'nombre'",
          "traceback": [
            "\u001b[0;31m---------------------------------------------------------------------------\u001b[0m",
            "\u001b[0;31mTypeError\u001b[0m                                 Traceback (most recent call last)",
            "\u001b[0;32m/tmp/ipython-input-161-2187756415.py\u001b[0m in \u001b[0;36m<cell line: 0>\u001b[0;34m()\u001b[0m\n\u001b[0;32m----> 1\u001b[0;31m \u001b[0mfoo\u001b[0m \u001b[0;34m=\u001b[0m \u001b[0mProducto\u001b[0m\u001b[0;34m(\u001b[0m\u001b[0;34m)\u001b[0m\u001b[0;34m\u001b[0m\u001b[0;34m\u001b[0m\u001b[0m\n\u001b[0m",
            "\u001b[0;31mTypeError\u001b[0m: Producto.__init__() missing 1 required positional argument: 'nombre'"
          ]
        }
      ]
    },
    {
      "cell_type": "markdown",
      "source": [
        "Campos calculados (post_init)"
      ],
      "metadata": {
        "id": "B56SJ3frhanS"
      }
    },
    {
      "cell_type": "code",
      "source": [
        "@dataclass\n",
        "class Rectangulo:\n",
        "  ancho: float\n",
        "  alto: float\n",
        "  area: float = 0.0\n",
        "\n",
        "  def __post_init__(self):\n",
        "    self.area = self.ancho * self.alto\n",
        "\n"
      ],
      "metadata": {
        "id": "r7Bqz270g8DX"
      },
      "execution_count": null,
      "outputs": []
    },
    {
      "cell_type": "code",
      "source": [
        "figura = Rectangulo(5, 10)"
      ],
      "metadata": {
        "id": "ZHVVUU_Xhx6J"
      },
      "execution_count": null,
      "outputs": []
    },
    {
      "cell_type": "code",
      "source": [
        "figura.area"
      ],
      "metadata": {
        "colab": {
          "base_uri": "https://localhost:8080/"
        },
        "id": "cE7t6XYKiOn8",
        "outputId": "f902ba9a-f879-4705-ea7d-68ff68e8c486"
      },
      "execution_count": null,
      "outputs": [
        {
          "output_type": "execute_result",
          "data": {
            "text/plain": [
              "50"
            ]
          },
          "metadata": {},
          "execution_count": 166
        }
      ]
    },
    {
      "cell_type": "markdown",
      "source": [
        "Campos con field"
      ],
      "metadata": {
        "id": "2L4TAs4-jPl-"
      }
    },
    {
      "cell_type": "code",
      "source": [
        "from dataclasses import dataclass, field\n",
        "\n",
        "@dataclass\n",
        "class Usuario:\n",
        "  user: str\n",
        "  password: str = field(repr=False)"
      ],
      "metadata": {
        "id": "q8_4WG-EiVz9"
      },
      "execution_count": null,
      "outputs": []
    },
    {
      "cell_type": "code",
      "source": [
        "usuario = Usuario(\"juan\", \"12345\")"
      ],
      "metadata": {
        "id": "M1ANI4btjauS"
      },
      "execution_count": null,
      "outputs": []
    },
    {
      "cell_type": "code",
      "source": [
        "usuario"
      ],
      "metadata": {
        "colab": {
          "base_uri": "https://localhost:8080/"
        },
        "id": "U0uAKdFmjefw",
        "outputId": "a70f931f-9111-4020-e822-dfa5086f5006"
      },
      "execution_count": null,
      "outputs": [
        {
          "output_type": "execute_result",
          "data": {
            "text/plain": [
              "Usuario(user='juan')"
            ]
          },
          "metadata": {},
          "execution_count": 173
        }
      ]
    },
    {
      "cell_type": "markdown",
      "source": [
        "otro ejemplo"
      ],
      "metadata": {
        "id": "GekmuaMnj65K"
      }
    },
    {
      "cell_type": "code",
      "source": [
        "@dataclass\n",
        "class Compras:\n",
        "  productos: list[str] = []"
      ],
      "metadata": {
        "id": "u9iSIv2-jhf_"
      },
      "execution_count": null,
      "outputs": []
    },
    {
      "cell_type": "code",
      "source": [
        "mica_compras = Compras()"
      ],
      "metadata": {
        "id": "ObpXo3GJkFrs"
      },
      "execution_count": null,
      "outputs": []
    },
    {
      "cell_type": "code",
      "source": [
        "alan_compras = Compras()"
      ],
      "metadata": {
        "id": "q0pzmUvakO10"
      },
      "execution_count": null,
      "outputs": []
    },
    {
      "cell_type": "code",
      "source": [
        "mica_compras.productos.append(\"Perfumes\")"
      ],
      "metadata": {
        "id": "99funJUWkRoU"
      },
      "execution_count": null,
      "outputs": []
    },
    {
      "cell_type": "code",
      "source": [
        "mica_compras.productos"
      ],
      "metadata": {
        "colab": {
          "base_uri": "https://localhost:8080/"
        },
        "id": "aPezOw4KkXpd",
        "outputId": "4d2f92ea-763f-4b93-e6c5-718a36f26e05"
      },
      "execution_count": null,
      "outputs": [
        {
          "output_type": "execute_result",
          "data": {
            "text/plain": [
              "['Perfumes']"
            ]
          },
          "metadata": {},
          "execution_count": 178
        }
      ]
    },
    {
      "cell_type": "code",
      "source": [
        "alan_compras.productos"
      ],
      "metadata": {
        "colab": {
          "base_uri": "https://localhost:8080/"
        },
        "id": "YTsc7yWAkfuM",
        "outputId": "6c03ca61-e721-4e08-bc31-28875a913bbe"
      },
      "execution_count": null,
      "outputs": [
        {
          "output_type": "execute_result",
          "data": {
            "text/plain": [
              "['Perfumes']"
            ]
          },
          "metadata": {},
          "execution_count": 179
        }
      ]
    },
    {
      "cell_type": "code",
      "source": [
        "alan_compras.productos.append(\"Pantalones\")"
      ],
      "metadata": {
        "id": "Ru01Yor8kiWe"
      },
      "execution_count": null,
      "outputs": []
    },
    {
      "cell_type": "code",
      "source": [
        "mica_compras.productos"
      ],
      "metadata": {
        "colab": {
          "base_uri": "https://localhost:8080/"
        },
        "id": "DJN5ZIEIko8-",
        "outputId": "dbde389c-e6c0-467c-b811-7b254627d47d"
      },
      "execution_count": null,
      "outputs": [
        {
          "output_type": "execute_result",
          "data": {
            "text/plain": [
              "['Perfumes', 'Pantalones']"
            ]
          },
          "metadata": {},
          "execution_count": 181
        }
      ]
    },
    {
      "cell_type": "code",
      "source": [
        "from dataclasses import dataclass, field\n",
        "\n",
        "@dataclass\n",
        "class Compras:\n",
        "  productos: list[str] = field(default_factory=list)"
      ],
      "metadata": {
        "id": "RsDycBI4kqzi"
      },
      "execution_count": null,
      "outputs": []
    },
    {
      "cell_type": "code",
      "source": [
        "mica_compras = Compras()"
      ],
      "metadata": {
        "id": "NJmVGrynlGV7"
      },
      "execution_count": null,
      "outputs": []
    },
    {
      "cell_type": "code",
      "source": [
        "mica_compras.productos.append(\"Perfumes\")"
      ],
      "metadata": {
        "id": "-QDMXRIslIo0"
      },
      "execution_count": null,
      "outputs": []
    },
    {
      "cell_type": "code",
      "source": [
        "mica_compras.productos"
      ],
      "metadata": {
        "colab": {
          "base_uri": "https://localhost:8080/"
        },
        "id": "2O2hCRO_lLme",
        "outputId": "7d0e6228-5606-40fc-d401-057b45bb9edc"
      },
      "execution_count": null,
      "outputs": [
        {
          "output_type": "execute_result",
          "data": {
            "text/plain": [
              "['Perfumes']"
            ]
          },
          "metadata": {},
          "execution_count": 188
        }
      ]
    },
    {
      "cell_type": "code",
      "source": [
        "alan_compras = Compras()"
      ],
      "metadata": {
        "id": "Jd0iDpPvlsAm"
      },
      "execution_count": null,
      "outputs": []
    },
    {
      "cell_type": "code",
      "source": [
        "alan_compras.productos"
      ],
      "metadata": {
        "colab": {
          "base_uri": "https://localhost:8080/"
        },
        "id": "gwaWaMV5lvC0",
        "outputId": "ce723d18-bea2-4b54-a29b-c6d0a256949d"
      },
      "execution_count": null,
      "outputs": [
        {
          "output_type": "execute_result",
          "data": {
            "text/plain": [
              "[]"
            ]
          },
          "metadata": {},
          "execution_count": 190
        }
      ]
    },
    {
      "cell_type": "markdown",
      "source": [
        "Convertir a diccionario"
      ],
      "metadata": {
        "id": "gWllrKmvmAeD"
      }
    },
    {
      "cell_type": "code",
      "source": [
        "@dataclass\n",
        "class Rectangulo:\n",
        "  ancho: float\n",
        "  alto: float\n",
        "  area: float = 0.0\n",
        "\n",
        "  def __post_init__(self):\n",
        "    self.area = self.ancho * self.alto"
      ],
      "metadata": {
        "id": "gw6T9lXVlw9v"
      },
      "execution_count": null,
      "outputs": []
    },
    {
      "cell_type": "code",
      "source": [
        "figura = Rectangulo(5, 10)"
      ],
      "metadata": {
        "id": "mcp3t7kKmHIk"
      },
      "execution_count": null,
      "outputs": []
    },
    {
      "cell_type": "code",
      "source": [
        "figura"
      ],
      "metadata": {
        "colab": {
          "base_uri": "https://localhost:8080/"
        },
        "id": "Wh9f5-m9mIbq",
        "outputId": "eb3341ae-1b48-49cd-c12e-3d94f8714baf"
      },
      "execution_count": null,
      "outputs": [
        {
          "output_type": "execute_result",
          "data": {
            "text/plain": [
              "Rectangulo(ancho=5, alto=10, area=50)"
            ]
          },
          "metadata": {},
          "execution_count": 198
        }
      ]
    },
    {
      "cell_type": "code",
      "source": [
        "figura.alto"
      ],
      "metadata": {
        "colab": {
          "base_uri": "https://localhost:8080/"
        },
        "id": "Q3A-_bddmSva",
        "outputId": "941f1987-fcfc-42b4-bc8f-d0093e322eaa"
      },
      "execution_count": null,
      "outputs": [
        {
          "output_type": "execute_result",
          "data": {
            "text/plain": [
              "10"
            ]
          },
          "metadata": {},
          "execution_count": 200
        }
      ]
    },
    {
      "cell_type": "code",
      "source": [
        "type(figura)"
      ],
      "metadata": {
        "colab": {
          "base_uri": "https://localhost:8080/"
        },
        "id": "83bKjLYhmJg9",
        "outputId": "11e9e45e-5b55-464b-a79b-aacb09bfb1b4"
      },
      "execution_count": null,
      "outputs": [
        {
          "output_type": "execute_result",
          "data": {
            "text/plain": [
              "__main__.Rectangulo"
            ]
          },
          "metadata": {},
          "execution_count": 199
        }
      ]
    },
    {
      "cell_type": "code",
      "source": [
        "from dataclasses import asdict"
      ],
      "metadata": {
        "id": "_4QI99-PmNgg"
      },
      "execution_count": null,
      "outputs": []
    },
    {
      "cell_type": "code",
      "source": [
        "fig_dict = asdict(figura)"
      ],
      "metadata": {
        "id": "RmrhtypNmjOI"
      },
      "execution_count": null,
      "outputs": []
    },
    {
      "cell_type": "code",
      "source": [
        "type(fig_dict)"
      ],
      "metadata": {
        "colab": {
          "base_uri": "https://localhost:8080/"
        },
        "id": "vBLqkzCfmqGz",
        "outputId": "b3182da1-611e-4158-f93d-7364dbbfe300"
      },
      "execution_count": null,
      "outputs": [
        {
          "output_type": "execute_result",
          "data": {
            "text/plain": [
              "dict"
            ]
          },
          "metadata": {},
          "execution_count": 202
        }
      ]
    },
    {
      "cell_type": "code",
      "source": [
        "fig_dict.keys()"
      ],
      "metadata": {
        "colab": {
          "base_uri": "https://localhost:8080/"
        },
        "id": "T8Ygi_Lkms_Q",
        "outputId": "4717bc3c-6dd2-4704-f531-1527d1778d76"
      },
      "execution_count": null,
      "outputs": [
        {
          "output_type": "execute_result",
          "data": {
            "text/plain": [
              "dict_keys(['ancho', 'alto', 'area'])"
            ]
          },
          "metadata": {},
          "execution_count": 203
        }
      ]
    },
    {
      "cell_type": "code",
      "source": [
        "fig_dict.values()"
      ],
      "metadata": {
        "colab": {
          "base_uri": "https://localhost:8080/"
        },
        "id": "Vft3sKfpm1oZ",
        "outputId": "1049fb1d-79b4-4e1f-f01c-df95cc352913"
      },
      "execution_count": null,
      "outputs": [
        {
          "output_type": "execute_result",
          "data": {
            "text/plain": [
              "dict_values([5, 10, 50])"
            ]
          },
          "metadata": {},
          "execution_count": 204
        }
      ]
    },
    {
      "cell_type": "code",
      "source": [
        "fig_dict.items()"
      ],
      "metadata": {
        "colab": {
          "base_uri": "https://localhost:8080/"
        },
        "id": "3QfoUjIfm38A",
        "outputId": "b9f0aee5-a1c9-421c-a152-d3ea8e2c120e"
      },
      "execution_count": null,
      "outputs": [
        {
          "output_type": "execute_result",
          "data": {
            "text/plain": [
              "dict_items([('ancho', 5), ('alto', 10), ('area', 50)])"
            ]
          },
          "metadata": {},
          "execution_count": 205
        }
      ]
    },
    {
      "cell_type": "code",
      "source": [
        "fig_dict.get(\"alto\")"
      ],
      "metadata": {
        "colab": {
          "base_uri": "https://localhost:8080/"
        },
        "id": "2UbXPFjEm7Rs",
        "outputId": "3d32ff78-204c-4bf3-a89c-f2aa46609b39"
      },
      "execution_count": null,
      "outputs": [
        {
          "output_type": "execute_result",
          "data": {
            "text/plain": [
              "10"
            ]
          },
          "metadata": {},
          "execution_count": 206
        }
      ]
    },
    {
      "cell_type": "code",
      "source": [
        "fig_dict[\"area\"]"
      ],
      "metadata": {
        "colab": {
          "base_uri": "https://localhost:8080/"
        },
        "id": "YgzkdrPDm99u",
        "outputId": "fd8cacf1-adb8-420d-86f3-ec7ef4b05d45"
      },
      "execution_count": null,
      "outputs": [
        {
          "output_type": "execute_result",
          "data": {
            "text/plain": [
              "50"
            ]
          },
          "metadata": {},
          "execution_count": 207
        }
      ]
    },
    {
      "cell_type": "code",
      "source": [],
      "metadata": {
        "id": "uAYXixSknAmQ"
      },
      "execution_count": null,
      "outputs": []
    }
  ]
}