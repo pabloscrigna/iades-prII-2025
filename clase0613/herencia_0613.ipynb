{
  "nbformat": 4,
  "nbformat_minor": 0,
  "metadata": {
    "colab": {
      "provenance": []
    },
    "kernelspec": {
      "name": "python3",
      "display_name": "Python 3"
    },
    "language_info": {
      "name": "python"
    }
  },
  "cells": [
    {
      "cell_type": "code",
      "execution_count": 4,
      "metadata": {
        "id": "TddiWtlvWJXr"
      },
      "outputs": [],
      "source": [
        "class ClaseA:\n",
        "  pass"
      ]
    },
    {
      "cell_type": "code",
      "source": [
        "class claseB(ClaseA):\n",
        "  pass"
      ],
      "metadata": {
        "id": "AGhjquSaWlVO"
      },
      "execution_count": 5,
      "outputs": []
    },
    {
      "cell_type": "code",
      "source": [
        "ClaseA.__bases__"
      ],
      "metadata": {
        "colab": {
          "base_uri": "https://localhost:8080/"
        },
        "id": "GASk-bm_Wzpo",
        "outputId": "1f8e4473-8034-4cfb-f19d-e170fb721448"
      },
      "execution_count": 6,
      "outputs": [
        {
          "output_type": "execute_result",
          "data": {
            "text/plain": [
              "(object,)"
            ]
          },
          "metadata": {},
          "execution_count": 6
        }
      ]
    },
    {
      "cell_type": "code",
      "source": [
        "claseB.__bases__"
      ],
      "metadata": {
        "colab": {
          "base_uri": "https://localhost:8080/"
        },
        "id": "m5r6o7HdW3YT",
        "outputId": "7aa2e38f-86bb-49ce-897d-e14202601122"
      },
      "execution_count": 7,
      "outputs": [
        {
          "output_type": "execute_result",
          "data": {
            "text/plain": [
              "(__main__.ClaseA,)"
            ]
          },
          "metadata": {},
          "execution_count": 7
        }
      ]
    },
    {
      "cell_type": "code",
      "source": [
        "class Persona:\n",
        "\n",
        "  def __init__(self, nombre, apellido):\n",
        "    self.nombre = nombre\n",
        "    self.apellido = apellido\n",
        "\n",
        "  def mostrar_nombre_completo(self):\n",
        "      return f'{self.nombre} {self.apellido}'"
      ],
      "metadata": {
        "id": "unXXuFe-W7Au"
      },
      "execution_count": 92,
      "outputs": []
    },
    {
      "cell_type": "code",
      "source": [
        "persona = Persona('Juan', 'Perez')"
      ],
      "metadata": {
        "id": "5mK4QS9JjeCN"
      },
      "execution_count": 93,
      "outputs": []
    },
    {
      "cell_type": "code",
      "source": [
        "persona.nombre"
      ],
      "metadata": {
        "colab": {
          "base_uri": "https://localhost:8080/",
          "height": 35
        },
        "id": "t2r87xyKjiXf",
        "outputId": "05f22aee-9066-41e1-f37f-34d68403274f"
      },
      "execution_count": 94,
      "outputs": [
        {
          "output_type": "execute_result",
          "data": {
            "text/plain": [
              "'Juan'"
            ],
            "application/vnd.google.colaboratory.intrinsic+json": {
              "type": "string"
            }
          },
          "metadata": {},
          "execution_count": 94
        }
      ]
    },
    {
      "cell_type": "code",
      "source": [
        "persona1 = Persona('John', 'Doe')"
      ],
      "metadata": {
        "id": "acmoC04_jo00"
      },
      "execution_count": 95,
      "outputs": []
    },
    {
      "cell_type": "code",
      "source": [
        "persona1.nombre"
      ],
      "metadata": {
        "colab": {
          "base_uri": "https://localhost:8080/",
          "height": 35
        },
        "id": "4sd-EdPnjwKx",
        "outputId": "39c2d0c0-6570-4c85-ed98-e31c340fd128"
      },
      "execution_count": 96,
      "outputs": [
        {
          "output_type": "execute_result",
          "data": {
            "text/plain": [
              "'John'"
            ],
            "application/vnd.google.colaboratory.intrinsic+json": {
              "type": "string"
            }
          },
          "metadata": {},
          "execution_count": 96
        }
      ]
    },
    {
      "cell_type": "code",
      "source": [
        "class Empleado(Persona):\n",
        "  pass"
      ],
      "metadata": {
        "id": "JMP54QDbXav4"
      },
      "execution_count": 31,
      "outputs": []
    },
    {
      "cell_type": "code",
      "source": [
        "empleado = Empleado('Juan', 'Perez')"
      ],
      "metadata": {
        "id": "kZ8PUjwQXlX2"
      },
      "execution_count": 32,
      "outputs": []
    },
    {
      "cell_type": "code",
      "source": [
        "empleado.nombre"
      ],
      "metadata": {
        "colab": {
          "base_uri": "https://localhost:8080/",
          "height": 35
        },
        "id": "aHfCWuhKXt-m",
        "outputId": "7e0db016-d54a-4156-ff99-4006824a2502"
      },
      "execution_count": 21,
      "outputs": [
        {
          "output_type": "execute_result",
          "data": {
            "text/plain": [
              "'Juan'"
            ],
            "application/vnd.google.colaboratory.intrinsic+json": {
              "type": "string"
            }
          },
          "metadata": {},
          "execution_count": 21
        }
      ]
    },
    {
      "cell_type": "code",
      "source": [
        "empleado.apellido"
      ],
      "metadata": {
        "colab": {
          "base_uri": "https://localhost:8080/",
          "height": 35
        },
        "id": "m0jfFNwgXwQ-",
        "outputId": "e20d87ff-40fe-4804-b091-aac2cd118962"
      },
      "execution_count": 22,
      "outputs": [
        {
          "output_type": "execute_result",
          "data": {
            "text/plain": [
              "'Perez'"
            ],
            "application/vnd.google.colaboratory.intrinsic+json": {
              "type": "string"
            }
          },
          "metadata": {},
          "execution_count": 22
        }
      ]
    },
    {
      "cell_type": "code",
      "source": [
        "empleado.mostrar_nombre_completo()"
      ],
      "metadata": {
        "colab": {
          "base_uri": "https://localhost:8080/",
          "height": 35
        },
        "id": "BhByvN0qXydQ",
        "outputId": "31c1b3a2-b9d8-4100-9928-49e036a8d8ee"
      },
      "execution_count": 33,
      "outputs": [
        {
          "output_type": "execute_result",
          "data": {
            "text/plain": [
              "'Juan Perez'"
            ],
            "application/vnd.google.colaboratory.intrinsic+json": {
              "type": "string"
            }
          },
          "metadata": {},
          "execution_count": 33
        }
      ]
    },
    {
      "cell_type": "code",
      "source": [
        "class Empleado(Persona):\n",
        "\n",
        "  def __init__(self, nombre, apellido, empresa):\n",
        "    self.nombre = nombre\n",
        "    self.apellido = apellido\n",
        "    self.empresa = empresa"
      ],
      "metadata": {
        "id": "hUd12Oy7Y1Sg"
      },
      "execution_count": 34,
      "outputs": []
    },
    {
      "cell_type": "code",
      "source": [
        "empleado = Empleado('Juan', 'Perez', 'Google')"
      ],
      "metadata": {
        "id": "piNnOiCAY8ng"
      },
      "execution_count": 35,
      "outputs": []
    },
    {
      "cell_type": "code",
      "source": [
        "empleado.nombre"
      ],
      "metadata": {
        "colab": {
          "base_uri": "https://localhost:8080/",
          "height": 35
        },
        "id": "-amlmczLZCgn",
        "outputId": "0c19809e-a8cb-476e-d885-aabc4c94b685"
      },
      "execution_count": 36,
      "outputs": [
        {
          "output_type": "execute_result",
          "data": {
            "text/plain": [
              "'Juan'"
            ],
            "application/vnd.google.colaboratory.intrinsic+json": {
              "type": "string"
            }
          },
          "metadata": {},
          "execution_count": 36
        }
      ]
    },
    {
      "cell_type": "code",
      "source": [
        "empleado.empresa"
      ],
      "metadata": {
        "colab": {
          "base_uri": "https://localhost:8080/",
          "height": 35
        },
        "id": "EaPzQ2LEZEr2",
        "outputId": "bec46309-8a92-4f70-82a6-383b88073d13"
      },
      "execution_count": 37,
      "outputs": [
        {
          "output_type": "execute_result",
          "data": {
            "text/plain": [
              "'Google'"
            ],
            "application/vnd.google.colaboratory.intrinsic+json": {
              "type": "string"
            }
          },
          "metadata": {},
          "execution_count": 37
        }
      ]
    },
    {
      "cell_type": "code",
      "source": [
        "empleado.mostrar_nombre_completo()"
      ],
      "metadata": {
        "colab": {
          "base_uri": "https://localhost:8080/",
          "height": 35
        },
        "id": "so2dnuOzZG2y",
        "outputId": "b6f2ea48-6464-4f42-b0d3-2a1f2aee380f"
      },
      "execution_count": 38,
      "outputs": [
        {
          "output_type": "execute_result",
          "data": {
            "text/plain": [
              "'Juan Perez'"
            ],
            "application/vnd.google.colaboratory.intrinsic+json": {
              "type": "string"
            }
          },
          "metadata": {},
          "execution_count": 38
        }
      ]
    },
    {
      "cell_type": "code",
      "source": [
        "class Persona:\n",
        "\n",
        "  def __init__(self, nombre, apellido):\n",
        "    print(\"Ejecutando init persona\")\n",
        "    self.nombre = nombre\n",
        "    self.apellido = apellido\n",
        "    self.nombre_completo = f\"{nombre} --- {apellido}\"\n",
        "\n",
        "  def mostrar_nombre_completo(self):\n",
        "      return f'{self.nombre} {self.apellido}'"
      ],
      "metadata": {
        "id": "Irq1PjF1ZOHT"
      },
      "execution_count": 47,
      "outputs": []
    },
    {
      "cell_type": "code",
      "source": [
        "persona =Persona('Juan', 'Perez')\n",
        "persona.nombre_completo"
      ],
      "metadata": {
        "colab": {
          "base_uri": "https://localhost:8080/",
          "height": 35
        },
        "id": "3z6yuoygZfaj",
        "outputId": "fc73618f-e0f0-4f4e-ddf0-9bb8786862a5"
      },
      "execution_count": 40,
      "outputs": [
        {
          "output_type": "execute_result",
          "data": {
            "text/plain": [
              "'Juan --- Perez'"
            ],
            "application/vnd.google.colaboratory.intrinsic+json": {
              "type": "string"
            }
          },
          "metadata": {},
          "execution_count": 40
        }
      ]
    },
    {
      "cell_type": "code",
      "source": [
        "class Empleado(Persona):\n",
        "\n",
        "  def __init__(self, nombre, apellido, empresa):\n",
        "    print(\"Ejecutando init empleado\")\n",
        "    self.empresa = empresa\n",
        "    super().__init__(nombre, apellido)"
      ],
      "metadata": {
        "id": "3su_dqhbZRvp"
      },
      "execution_count": 58,
      "outputs": []
    },
    {
      "cell_type": "code",
      "source": [
        "empleado = Empleado('Juan', 'Perez', 'Google')\n"
      ],
      "metadata": {
        "colab": {
          "base_uri": "https://localhost:8080/"
        },
        "id": "y4PdE6BOZnrv",
        "outputId": "9551acfe-5247-4b5d-83d2-cfb021fd2abf"
      },
      "execution_count": 59,
      "outputs": [
        {
          "output_type": "stream",
          "name": "stdout",
          "text": [
            "Ejecutando init empleado\n",
            "Ejecutando init persona\n"
          ]
        }
      ]
    },
    {
      "cell_type": "code",
      "source": [
        "empleado.nombre"
      ],
      "metadata": {
        "colab": {
          "base_uri": "https://localhost:8080/",
          "height": 35
        },
        "id": "Qi7wnid5Zrht",
        "outputId": "f586cc75-e359-4ac6-bea9-874ccdc2c0fa"
      },
      "execution_count": 43,
      "outputs": [
        {
          "output_type": "execute_result",
          "data": {
            "text/plain": [
              "'Juan'"
            ],
            "application/vnd.google.colaboratory.intrinsic+json": {
              "type": "string"
            }
          },
          "metadata": {},
          "execution_count": 43
        }
      ]
    },
    {
      "cell_type": "code",
      "source": [
        "empleado.empresa"
      ],
      "metadata": {
        "colab": {
          "base_uri": "https://localhost:8080/",
          "height": 35
        },
        "id": "QG5oJFx5ZthP",
        "outputId": "f745f750-7850-4175-b1bf-58f5b20cc29e"
      },
      "execution_count": 44,
      "outputs": [
        {
          "output_type": "execute_result",
          "data": {
            "text/plain": [
              "'Google'"
            ],
            "application/vnd.google.colaboratory.intrinsic+json": {
              "type": "string"
            }
          },
          "metadata": {},
          "execution_count": 44
        }
      ]
    },
    {
      "cell_type": "code",
      "source": [
        "empleado.mostrar_nombre_completo()"
      ],
      "metadata": {
        "colab": {
          "base_uri": "https://localhost:8080/",
          "height": 35
        },
        "id": "rha1f02pZwp_",
        "outputId": "cc005c50-31f2-4715-83d2-3f743b4ce158"
      },
      "execution_count": 60,
      "outputs": [
        {
          "output_type": "execute_result",
          "data": {
            "text/plain": [
              "'Juan Perez'"
            ],
            "application/vnd.google.colaboratory.intrinsic+json": {
              "type": "string"
            }
          },
          "metadata": {},
          "execution_count": 60
        }
      ]
    },
    {
      "cell_type": "code",
      "source": [
        "empleado.nombre_completo"
      ],
      "metadata": {
        "colab": {
          "base_uri": "https://localhost:8080/",
          "height": 35
        },
        "id": "VP10LXGfZ19G",
        "outputId": "947ef41e-c42a-4645-d90a-ecd614593cc0"
      },
      "execution_count": 62,
      "outputs": [
        {
          "output_type": "execute_result",
          "data": {
            "text/plain": [
              "'Juan --- Perez'"
            ],
            "application/vnd.google.colaboratory.intrinsic+json": {
              "type": "string"
            }
          },
          "metadata": {},
          "execution_count": 62
        }
      ]
    },
    {
      "cell_type": "code",
      "source": [
        "class Persona:\n",
        "\n",
        "  def __init__(self, nombre, apellido):\n",
        "    print(\"Ejecutando init persona\")\n",
        "    self.nombre = nombre\n",
        "    self.apellido = apellido\n",
        "    self.nombre_completo = f\"{nombre} --- {apellido}\"\n",
        "\n",
        "  def mostrar_nombre_completo(self):\n",
        "      return f'{self.nombre} {self.apellido}'"
      ],
      "metadata": {
        "id": "F68cfkpCcgld"
      },
      "execution_count": 65,
      "outputs": []
    },
    {
      "cell_type": "code",
      "source": [
        "class Empleado(Persona):\n",
        "\n",
        "  def __init__(self, nombre, apellido, empresa):\n",
        "    print(\"Ejecutando init empleado\")\n",
        "    self.empresa = empresa\n",
        "    super().__init__(nombre, apellido)\n",
        "\n",
        "  def mostrar_nombre_completo(self):\n",
        "    print(super().mostrar_nombre_completo())\n",
        "    return f'Empresa: {self.empresa}'"
      ],
      "metadata": {
        "id": "CjXaFDSmcps6"
      },
      "execution_count": 69,
      "outputs": []
    },
    {
      "cell_type": "code",
      "source": [
        "empleado = Empleado('Juan', 'Perez', 'Google')"
      ],
      "metadata": {
        "colab": {
          "base_uri": "https://localhost:8080/"
        },
        "id": "fnUspke_c3l_",
        "outputId": "7215a883-5bcf-4973-ab55-b46901c3ab3d"
      },
      "execution_count": 70,
      "outputs": [
        {
          "output_type": "stream",
          "name": "stdout",
          "text": [
            "Ejecutando init empleado\n",
            "Ejecutando init persona\n"
          ]
        }
      ]
    },
    {
      "cell_type": "code",
      "source": [
        "empleado.mostrar_nombre_completo()"
      ],
      "metadata": {
        "colab": {
          "base_uri": "https://localhost:8080/",
          "height": 53
        },
        "id": "98ddrjr-c5Sm",
        "outputId": "37915fd7-ef2c-4230-a7ba-a055b153e5fa"
      },
      "execution_count": 71,
      "outputs": [
        {
          "output_type": "stream",
          "name": "stdout",
          "text": [
            "Juan Perez\n"
          ]
        },
        {
          "output_type": "execute_result",
          "data": {
            "text/plain": [
              "'Empresa: Google'"
            ],
            "application/vnd.google.colaboratory.intrinsic+json": {
              "type": "string"
            }
          },
          "metadata": {},
          "execution_count": 71
        }
      ]
    },
    {
      "cell_type": "markdown",
      "source": [
        "Herencia Multiple"
      ],
      "metadata": {
        "id": "_fcz937leSia"
      }
    },
    {
      "cell_type": "code",
      "source": [
        "class Clase1:\n",
        "  pass"
      ],
      "metadata": {
        "id": "fOmwXVTlc7xF"
      },
      "execution_count": 72,
      "outputs": []
    },
    {
      "cell_type": "code",
      "source": [
        "class Clase2(Clase1):\n",
        "  pass"
      ],
      "metadata": {
        "id": "eQ2A_T4Fe-MO"
      },
      "execution_count": 73,
      "outputs": []
    },
    {
      "cell_type": "code",
      "source": [
        "class Clase3(Clase2):\n",
        "  pass"
      ],
      "metadata": {
        "id": "wo6v1sXTfCdp"
      },
      "execution_count": 74,
      "outputs": []
    },
    {
      "cell_type": "code",
      "source": [
        "Clase3.__bases__"
      ],
      "metadata": {
        "colab": {
          "base_uri": "https://localhost:8080/"
        },
        "id": "NLTpS3wzfF9J",
        "outputId": "72e85510-a58a-42f1-a6b4-deb16906e1bb"
      },
      "execution_count": 75,
      "outputs": [
        {
          "output_type": "execute_result",
          "data": {
            "text/plain": [
              "(__main__.Clase2,)"
            ]
          },
          "metadata": {},
          "execution_count": 75
        }
      ]
    },
    {
      "cell_type": "code",
      "source": [
        "Clase2.__bases__"
      ],
      "metadata": {
        "colab": {
          "base_uri": "https://localhost:8080/"
        },
        "id": "SZl1SKT9fSqf",
        "outputId": "6327db2e-14ed-480f-961d-f0544188b08a"
      },
      "execution_count": 76,
      "outputs": [
        {
          "output_type": "execute_result",
          "data": {
            "text/plain": [
              "(__main__.Clase1,)"
            ]
          },
          "metadata": {},
          "execution_count": 76
        }
      ]
    },
    {
      "cell_type": "code",
      "source": [
        "Clase1.__bases__"
      ],
      "metadata": {
        "colab": {
          "base_uri": "https://localhost:8080/"
        },
        "id": "KNnp8LSxfX9t",
        "outputId": "b1ec7ad7-16de-4ada-f0a2-09702f506924"
      },
      "execution_count": 77,
      "outputs": [
        {
          "output_type": "execute_result",
          "data": {
            "text/plain": [
              "(object,)"
            ]
          },
          "metadata": {},
          "execution_count": 77
        }
      ]
    },
    {
      "cell_type": "code",
      "source": [
        "str.__bases__"
      ],
      "metadata": {
        "colab": {
          "base_uri": "https://localhost:8080/"
        },
        "id": "xQ-lFQ9sfbiL",
        "outputId": "397364b7-ee72-43e8-f664-af30a06be3e9"
      },
      "execution_count": 78,
      "outputs": [
        {
          "output_type": "execute_result",
          "data": {
            "text/plain": [
              "(object,)"
            ]
          },
          "metadata": {},
          "execution_count": 78
        }
      ]
    },
    {
      "cell_type": "code",
      "source": [
        "object.__bases__"
      ],
      "metadata": {
        "colab": {
          "base_uri": "https://localhost:8080/"
        },
        "id": "gxuh2ZZTfeg7",
        "outputId": "47cc26c3-06f2-4bb5-ba3b-e4175f50bf43"
      },
      "execution_count": 79,
      "outputs": [
        {
          "output_type": "execute_result",
          "data": {
            "text/plain": [
              "()"
            ]
          },
          "metadata": {},
          "execution_count": 79
        }
      ]
    },
    {
      "cell_type": "markdown",
      "source": [
        "**Method Order Resolution**"
      ],
      "metadata": {
        "id": "88Az4H2dgeNq"
      }
    },
    {
      "cell_type": "markdown",
      "source": [
        "Sabremos a qué método se llama, consultando al **MRO. Esta función nos devuelve una tupla con el orden de búsqueda de los métodos**.\n",
        "\n",
        "Como era de esperar se empieza en la propia clase y se va subiendo hasta la clase padre, de izquierda a derecha."
      ],
      "metadata": {
        "id": "jdsYc6K4ga4L"
      }
    },
    {
      "cell_type": "code",
      "source": [
        "class ClaseA:\n",
        "  pass"
      ],
      "metadata": {
        "id": "fNCKAZpugm48"
      },
      "execution_count": 84,
      "outputs": []
    },
    {
      "cell_type": "code",
      "source": [
        "class ClaseB:\n",
        "  pass"
      ],
      "metadata": {
        "id": "ADeXtRqFg9Aq"
      },
      "execution_count": 85,
      "outputs": []
    },
    {
      "cell_type": "code",
      "source": [
        "class ClaseC(ClaseA, ClaseB):\n",
        "  pass"
      ],
      "metadata": {
        "id": "4c0oiE3og-ou"
      },
      "execution_count": 86,
      "outputs": []
    },
    {
      "cell_type": "code",
      "source": [
        "ClaseC.__mro__"
      ],
      "metadata": {
        "colab": {
          "base_uri": "https://localhost:8080/"
        },
        "id": "zCFyu--QhAjG",
        "outputId": "cb504cbb-d99c-453e-e98f-984a0a22c037"
      },
      "execution_count": 87,
      "outputs": [
        {
          "output_type": "execute_result",
          "data": {
            "text/plain": [
              "(__main__.ClaseC, __main__.ClaseA, __main__.ClaseB, object)"
            ]
          },
          "metadata": {},
          "execution_count": 87
        }
      ]
    },
    {
      "cell_type": "code",
      "source": [
        "class ClaseC(ClaseB, ClaseA):\n",
        "  pass"
      ],
      "metadata": {
        "id": "PdsmTcQEhCnD"
      },
      "execution_count": 90,
      "outputs": []
    },
    {
      "cell_type": "code",
      "source": [
        "ClaseC.__mro__"
      ],
      "metadata": {
        "colab": {
          "base_uri": "https://localhost:8080/"
        },
        "id": "9JTUdvblhItl",
        "outputId": "036e23ca-6bd4-4573-d67b-39eee3c23f46"
      },
      "execution_count": 91,
      "outputs": [
        {
          "output_type": "execute_result",
          "data": {
            "text/plain": [
              "(__main__.ClaseC, __main__.ClaseB, __main__.ClaseA, object)"
            ]
          },
          "metadata": {},
          "execution_count": 91
        }
      ]
    },
    {
      "cell_type": "markdown",
      "source": [
        "Ejercicio de repaso"
      ],
      "metadata": {
        "id": "V57cG3uah--_"
      }
    },
    {
      "cell_type": "markdown",
      "source": [
        "![image.png](data:image/png;base64,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)"
      ],
      "metadata": {
        "id": "iYXpYvW9iIYI"
      }
    },
    {
      "cell_type": "code",
      "source": [
        "class Mamifero:\n",
        "\n",
        "  def __init__(self, cantidad_mamas, esperanza_de_vida):\n",
        "    self.cantidad_mamas = cantidad_mamas\n",
        "    self.esperanza_de_vida = esperanza_de_vida\n",
        "\n",
        "  def nacer(self):\n",
        "    print(\"Metodo nacer de Mamifero\")\n",
        "\n",
        "  def mamar(self):\n",
        "    print(\"Metodo mamar de Mamifero\")"
      ],
      "metadata": {
        "id": "MTxPylC4iNfb"
      },
      "execution_count": 99,
      "outputs": []
    },
    {
      "cell_type": "code",
      "source": [
        "class AnimalMarino:\n",
        "\n",
        "  def __init__(self, tiene_braqueas, especie):\n",
        "    self.tiene_braqueas = tiene_braqueas\n",
        "    self.especie = especie\n",
        "\n",
        "  def nadar(self):\n",
        "    print(\"Metodo nadar de AnimalMarino\")\n"
      ],
      "metadata": {
        "id": "zm9prXNtj7Am"
      },
      "execution_count": 102,
      "outputs": []
    },
    {
      "cell_type": "code",
      "source": [
        "class Cetaceo(Mamifero, AnimalMarino):\n",
        "\n",
        "  def __init__(self, cantidad_mamas, esperanza_de_vida, tiene_braqueas, especie, notas,vive_en, peso):\n",
        "    Mamifero.__init__(self, cantidad_mamas, esperanza_de_vida)\n",
        "    AnimalMarino.__init__(self, tiene_braqueas, especie)\n",
        "    self.notas = notas\n",
        "    self.vive_en = vive_en\n",
        "    self.peso = peso"
      ],
      "metadata": {
        "id": "WhSPFc7MkhXN"
      },
      "execution_count": 101,
      "outputs": []
    },
    {
      "cell_type": "code",
      "source": [
        "animal= Cetaceo(6, 5, False, \"Mamifero\", \"S/N\", \"Oceanos\", 456)"
      ],
      "metadata": {
        "id": "g9u5UfKtlKC6"
      },
      "execution_count": 103,
      "outputs": []
    },
    {
      "cell_type": "code",
      "source": [
        "animal.nadar()"
      ],
      "metadata": {
        "colab": {
          "base_uri": "https://localhost:8080/"
        },
        "id": "i4vArI_olalJ",
        "outputId": "52ae8bf3-6104-440a-9bf4-9d2674f0da85"
      },
      "execution_count": 104,
      "outputs": [
        {
          "output_type": "stream",
          "name": "stdout",
          "text": [
            "Metodo nadar de AnimalMarino\n"
          ]
        }
      ]
    },
    {
      "cell_type": "code",
      "source": [
        "animal.nacer()"
      ],
      "metadata": {
        "colab": {
          "base_uri": "https://localhost:8080/"
        },
        "id": "llxkWfD5lfLq",
        "outputId": "b82510c9-e90e-42f1-f9c2-231d94171e9e"
      },
      "execution_count": 105,
      "outputs": [
        {
          "output_type": "stream",
          "name": "stdout",
          "text": [
            "Metodo nacer de Mamifero\n"
          ]
        }
      ]
    },
    {
      "cell_type": "code",
      "source": [
        "animal.mamar()"
      ],
      "metadata": {
        "colab": {
          "base_uri": "https://localhost:8080/"
        },
        "id": "biZ63ovXlhRI",
        "outputId": "e9c0c831-1059-469c-de19-35bb821add5f"
      },
      "execution_count": 106,
      "outputs": [
        {
          "output_type": "stream",
          "name": "stdout",
          "text": [
            "Metodo mamar de Mamifero\n"
          ]
        }
      ]
    },
    {
      "cell_type": "code",
      "source": [
        "class Cetaceo(Mamifero, AnimalMarino):\n",
        "\n",
        "  def __init__(self, cantidad_mamas, esperanza_de_vida, tiene_braqueas, especie, notas,vive_en, peso):\n",
        "    Mamifero.__init__(self, cantidad_mamas, esperanza_de_vida)\n",
        "    AnimalMarino.__init__(self, tiene_braqueas, especie)\n",
        "    self.notas = notas\n",
        "    self.vive_en = vive_en\n",
        "    self.peso = peso\n",
        "\n",
        "  def nadar(self):\n",
        "    print(\"Metodo nadar de Cetaceo\")\n",
        "    AnimalMarino.nadar(self)"
      ],
      "metadata": {
        "id": "CrGn8utvll94"
      },
      "execution_count": 110,
      "outputs": []
    },
    {
      "cell_type": "code",
      "source": [
        "animal = Cetaceo(6, 5, False, \"Mamifero\", \"S/N\", \"Oceanos\", 456)"
      ],
      "metadata": {
        "id": "o4DnqFialt_5"
      },
      "execution_count": 111,
      "outputs": []
    },
    {
      "cell_type": "code",
      "source": [
        "animal.nadar()"
      ],
      "metadata": {
        "colab": {
          "base_uri": "https://localhost:8080/"
        },
        "id": "gy45G_vClwQQ",
        "outputId": "434799b2-6a5b-4432-a8c9-c3db6ba56f02"
      },
      "execution_count": 112,
      "outputs": [
        {
          "output_type": "stream",
          "name": "stdout",
          "text": [
            "Metodo nadar de Cetaceo\n",
            "Metodo nadar de AnimalMarino\n"
          ]
        }
      ]
    },
    {
      "cell_type": "code",
      "source": [],
      "metadata": {
        "id": "clhTxz1SlxyC"
      },
      "execution_count": null,
      "outputs": []
    }
  ]
}